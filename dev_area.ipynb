{
 "cells": [
  {
   "cell_type": "code",
   "execution_count": 3,
   "metadata": {},
   "outputs": [],
   "source": [
    "import pandas as pd\n",
    "import yfinance as yf\n",
    "import matplotlib.pyplot as plt\n",
    "import sqlite3\n",
    "import re\n",
    "import numpy as np"
   ]
  },
  {
   "cell_type": "code",
   "execution_count": 2,
   "metadata": {},
   "outputs": [],
   "source": [
    "## Create Table for asset prices\n",
    "conn = sqlite3.connect(\"Asset_Database\")\n",
    "c = conn.cursor()\n"
   ]
  },
  {
   "cell_type": "code",
   "execution_count": 31,
   "metadata": {},
   "outputs": [
    {
     "name": "stdout",
     "output_type": "stream",
     "text": [
      "MMM\n"
     ]
    },
    {
     "name": "stderr",
     "output_type": "stream",
     "text": [
      "C:\\Users\\ruedi\\AppData\\Local\\Temp\\ipykernel_21156\\1400600094.py:43: FutureWarning: The frame.append method is deprecated and will be removed from pandas in a future version. Use pandas.concat instead.\n",
      "  df_assets = df_assets.append({'ticker': ticker,\n"
     ]
    },
    {
     "name": "stdout",
     "output_type": "stream",
     "text": [
      "ABBN\n",
      "- ABBN: No summary info found, symbol may be delisted\n",
      "ACN\n"
     ]
    },
    {
     "name": "stderr",
     "output_type": "stream",
     "text": [
      "C:\\Users\\ruedi\\AppData\\Local\\Temp\\ipykernel_21156\\1400600094.py:43: FutureWarning: The frame.append method is deprecated and will be removed from pandas in a future version. Use pandas.concat instead.\n",
      "  df_assets = df_assets.append({'ticker': ticker,\n"
     ]
    },
    {
     "name": "stdout",
     "output_type": "stream",
     "text": [
      "ACLN\n",
      "- ACLN: No summary info found, symbol may be delisted\n",
      "AC\n"
     ]
    },
    {
     "name": "stderr",
     "output_type": "stream",
     "text": [
      "C:\\Users\\ruedi\\AppData\\Local\\Temp\\ipykernel_21156\\1400600094.py:43: FutureWarning: The frame.append method is deprecated and will be removed from pandas in a future version. Use pandas.concat instead.\n",
      "  df_assets = df_assets.append({'ticker': ticker,\n"
     ]
    },
    {
     "name": "stdout",
     "output_type": "stream",
     "text": [
      "ATVI\n"
     ]
    },
    {
     "name": "stderr",
     "output_type": "stream",
     "text": [
      "C:\\Users\\ruedi\\AppData\\Local\\Temp\\ipykernel_21156\\1400600094.py:43: FutureWarning: The frame.append method is deprecated and will be removed from pandas in a future version. Use pandas.concat instead.\n",
      "  df_assets = df_assets.append({'ticker': ticker,\n"
     ]
    },
    {
     "name": "stdout",
     "output_type": "stream",
     "text": [
      "ADEN\n",
      "- ADEN: No summary info found, symbol may be delisted\n",
      "ADS\n"
     ]
    },
    {
     "name": "stderr",
     "output_type": "stream",
     "text": [
      "C:\\Users\\ruedi\\AppData\\Local\\Temp\\ipykernel_21156\\1400600094.py:43: FutureWarning: The frame.append method is deprecated and will be removed from pandas in a future version. Use pandas.concat instead.\n",
      "  df_assets = df_assets.append({'ticker': ticker,\n"
     ]
    },
    {
     "name": "stdout",
     "output_type": "stream",
     "text": [
      "- ADS: No summary info found, symbol may be delisted\n",
      "ADBE\n"
     ]
    },
    {
     "name": "stderr",
     "output_type": "stream",
     "text": [
      "C:\\Users\\ruedi\\AppData\\Local\\Temp\\ipykernel_21156\\1400600094.py:43: FutureWarning: The frame.append method is deprecated and will be removed from pandas in a future version. Use pandas.concat instead.\n",
      "  df_assets = df_assets.append({'ticker': ticker,\n"
     ]
    },
    {
     "name": "stdout",
     "output_type": "stream",
     "text": [
      "AF\n",
      "- AF: No summary info found, symbol may be delisted\n",
      "Al\n"
     ]
    },
    {
     "name": "stderr",
     "output_type": "stream",
     "text": [
      "C:\\Users\\ruedi\\AppData\\Local\\Temp\\ipykernel_21156\\1400600094.py:43: FutureWarning: The frame.append method is deprecated and will be removed from pandas in a future version. Use pandas.concat instead.\n",
      "  df_assets = df_assets.append({'ticker': ticker,\n"
     ]
    },
    {
     "name": "stdout",
     "output_type": "stream",
     "text": [
      "ABNB\n"
     ]
    },
    {
     "name": "stderr",
     "output_type": "stream",
     "text": [
      "C:\\Users\\ruedi\\AppData\\Local\\Temp\\ipykernel_21156\\1400600094.py:43: FutureWarning: The frame.append method is deprecated and will be removed from pandas in a future version. Use pandas.concat instead.\n",
      "  df_assets = df_assets.append({'ticker': ticker,\n"
     ]
    },
    {
     "name": "stdout",
     "output_type": "stream",
     "text": [
      "AIR\n"
     ]
    },
    {
     "name": "stderr",
     "output_type": "stream",
     "text": [
      "C:\\Users\\ruedi\\AppData\\Local\\Temp\\ipykernel_21156\\1400600094.py:43: FutureWarning: The frame.append method is deprecated and will be removed from pandas in a future version. Use pandas.concat instead.\n",
      "  df_assets = df_assets.append({'ticker': ticker,\n"
     ]
    },
    {
     "name": "stdout",
     "output_type": "stream",
     "text": [
      "ALC\n"
     ]
    },
    {
     "name": "stderr",
     "output_type": "stream",
     "text": [
      "C:\\Users\\ruedi\\AppData\\Local\\Temp\\ipykernel_21156\\1400600094.py:43: FutureWarning: The frame.append method is deprecated and will be removed from pandas in a future version. Use pandas.concat instead.\n",
      "  df_assets = df_assets.append({'ticker': ticker,\n"
     ]
    },
    {
     "name": "stdout",
     "output_type": "stream",
     "text": [
      "ALV\n"
     ]
    },
    {
     "name": "stderr",
     "output_type": "stream",
     "text": [
      "C:\\Users\\ruedi\\AppData\\Local\\Temp\\ipykernel_21156\\1400600094.py:43: FutureWarning: The frame.append method is deprecated and will be removed from pandas in a future version. Use pandas.concat instead.\n",
      "  df_assets = df_assets.append({'ticker': ticker,\n"
     ]
    },
    {
     "name": "stdout",
     "output_type": "stream",
     "text": [
      "GOOG\n"
     ]
    },
    {
     "name": "stderr",
     "output_type": "stream",
     "text": [
      "C:\\Users\\ruedi\\AppData\\Local\\Temp\\ipykernel_21156\\1400600094.py:43: FutureWarning: The frame.append method is deprecated and will be removed from pandas in a future version. Use pandas.concat instead.\n",
      "  df_assets = df_assets.append({'ticker': ticker,\n"
     ]
    },
    {
     "name": "stdout",
     "output_type": "stream",
     "text": [
      "ALO\n",
      "- ALO: No summary info found, symbol may be delisted\n",
      "AMZN\n"
     ]
    },
    {
     "name": "stderr",
     "output_type": "stream",
     "text": [
      "C:\\Users\\ruedi\\AppData\\Local\\Temp\\ipykernel_21156\\1400600094.py:43: FutureWarning: The frame.append method is deprecated and will be removed from pandas in a future version. Use pandas.concat instead.\n",
      "  df_assets = df_assets.append({'ticker': ticker,\n"
     ]
    },
    {
     "name": "stdout",
     "output_type": "stream",
     "text": [
      "AMD\n"
     ]
    },
    {
     "name": "stderr",
     "output_type": "stream",
     "text": [
      "C:\\Users\\ruedi\\AppData\\Local\\Temp\\ipykernel_21156\\1400600094.py:43: FutureWarning: The frame.append method is deprecated and will be removed from pandas in a future version. Use pandas.concat instead.\n",
      "  df_assets = df_assets.append({'ticker': ticker,\n"
     ]
    },
    {
     "name": "stdout",
     "output_type": "stream",
     "text": [
      "AAL\n"
     ]
    },
    {
     "name": "stderr",
     "output_type": "stream",
     "text": [
      "C:\\Users\\ruedi\\AppData\\Local\\Temp\\ipykernel_21156\\1400600094.py:43: FutureWarning: The frame.append method is deprecated and will be removed from pandas in a future version. Use pandas.concat instead.\n",
      "  df_assets = df_assets.append({'ticker': ticker,\n"
     ]
    },
    {
     "name": "stdout",
     "output_type": "stream",
     "text": [
      "AXP\n"
     ]
    },
    {
     "name": "stderr",
     "output_type": "stream",
     "text": [
      "C:\\Users\\ruedi\\AppData\\Local\\Temp\\ipykernel_21156\\1400600094.py:43: FutureWarning: The frame.append method is deprecated and will be removed from pandas in a future version. Use pandas.concat instead.\n",
      "  df_assets = df_assets.append({'ticker': ticker,\n"
     ]
    },
    {
     "name": "stdout",
     "output_type": "stream",
     "text": [
      "AMGN\n"
     ]
    },
    {
     "name": "stderr",
     "output_type": "stream",
     "text": [
      "C:\\Users\\ruedi\\AppData\\Local\\Temp\\ipykernel_21156\\1400600094.py:43: FutureWarning: The frame.append method is deprecated and will be removed from pandas in a future version. Use pandas.concat instead.\n",
      "  df_assets = df_assets.append({'ticker': ticker,\n"
     ]
    },
    {
     "name": "stdout",
     "output_type": "stream",
     "text": [
      "AMS\n"
     ]
    },
    {
     "name": "stderr",
     "output_type": "stream",
     "text": [
      "C:\\Users\\ruedi\\AppData\\Local\\Temp\\ipykernel_21156\\1400600094.py:43: FutureWarning: The frame.append method is deprecated and will be removed from pandas in a future version. Use pandas.concat instead.\n",
      "  df_assets = df_assets.append({'ticker': ticker,\n"
     ]
    },
    {
     "name": "stdout",
     "output_type": "stream",
     "text": [
      "BUD\n"
     ]
    },
    {
     "name": "stderr",
     "output_type": "stream",
     "text": [
      "C:\\Users\\ruedi\\AppData\\Local\\Temp\\ipykernel_21156\\1400600094.py:43: FutureWarning: The frame.append method is deprecated and will be removed from pandas in a future version. Use pandas.concat instead.\n",
      "  df_assets = df_assets.append({'ticker': ticker,\n"
     ]
    },
    {
     "name": "stdout",
     "output_type": "stream",
     "text": [
      "AAPL\n"
     ]
    },
    {
     "name": "stderr",
     "output_type": "stream",
     "text": [
      "C:\\Users\\ruedi\\AppData\\Local\\Temp\\ipykernel_21156\\1400600094.py:43: FutureWarning: The frame.append method is deprecated and will be removed from pandas in a future version. Use pandas.concat instead.\n",
      "  df_assets = df_assets.append({'ticker': ticker,\n"
     ]
    },
    {
     "name": "stdout",
     "output_type": "stream",
     "text": [
      "AMAT\n"
     ]
    },
    {
     "name": "stderr",
     "output_type": "stream",
     "text": [
      "C:\\Users\\ruedi\\AppData\\Local\\Temp\\ipykernel_21156\\1400600094.py:43: FutureWarning: The frame.append method is deprecated and will be removed from pandas in a future version. Use pandas.concat instead.\n",
      "  df_assets = df_assets.append({'ticker': ticker,\n"
     ]
    },
    {
     "name": "stdout",
     "output_type": "stream",
     "text": [
      "ASML\n"
     ]
    },
    {
     "name": "stderr",
     "output_type": "stream",
     "text": [
      "C:\\Users\\ruedi\\AppData\\Local\\Temp\\ipykernel_21156\\1400600094.py:43: FutureWarning: The frame.append method is deprecated and will be removed from pandas in a future version. Use pandas.concat instead.\n",
      "  df_assets = df_assets.append({'ticker': ticker,\n"
     ]
    },
    {
     "name": "stdout",
     "output_type": "stream",
     "text": [
      "AML\n"
     ]
    },
    {
     "name": "stderr",
     "output_type": "stream",
     "text": [
      "C:\\Users\\ruedi\\AppData\\Local\\Temp\\ipykernel_21156\\1400600094.py:43: FutureWarning: The frame.append method is deprecated and will be removed from pandas in a future version. Use pandas.concat instead.\n",
      "  df_assets = df_assets.append({'ticker': ticker,\n"
     ]
    },
    {
     "name": "stdout",
     "output_type": "stream",
     "text": [
      "AZN\n"
     ]
    },
    {
     "name": "stderr",
     "output_type": "stream",
     "text": [
      "C:\\Users\\ruedi\\AppData\\Local\\Temp\\ipykernel_21156\\1400600094.py:43: FutureWarning: The frame.append method is deprecated and will be removed from pandas in a future version. Use pandas.concat instead.\n",
      "  df_assets = df_assets.append({'ticker': ticker,\n"
     ]
    },
    {
     "name": "stdout",
     "output_type": "stream",
     "text": [
      "T\n"
     ]
    },
    {
     "name": "stderr",
     "output_type": "stream",
     "text": [
      "C:\\Users\\ruedi\\AppData\\Local\\Temp\\ipykernel_21156\\1400600094.py:43: FutureWarning: The frame.append method is deprecated and will be removed from pandas in a future version. Use pandas.concat instead.\n",
      "  df_assets = df_assets.append({'ticker': ticker,\n"
     ]
    },
    {
     "name": "stdout",
     "output_type": "stream",
     "text": [
      "CS\n"
     ]
    },
    {
     "name": "stderr",
     "output_type": "stream",
     "text": [
      "C:\\Users\\ruedi\\AppData\\Local\\Temp\\ipykernel_21156\\1400600094.py:43: FutureWarning: The frame.append method is deprecated and will be removed from pandas in a future version. Use pandas.concat instead.\n",
      "  df_assets = df_assets.append({'ticker': ticker,\n"
     ]
    },
    {
     "name": "stdout",
     "output_type": "stream",
     "text": [
      "BALN\n",
      "- BALN: No summary info found, symbol may be delisted\n",
      "BAC\n"
     ]
    },
    {
     "name": "stderr",
     "output_type": "stream",
     "text": [
      "C:\\Users\\ruedi\\AppData\\Local\\Temp\\ipykernel_21156\\1400600094.py:43: FutureWarning: The frame.append method is deprecated and will be removed from pandas in a future version. Use pandas.concat instead.\n",
      "  df_assets = df_assets.append({'ticker': ticker,\n"
     ]
    },
    {
     "name": "stdout",
     "output_type": "stream",
     "text": [
      "BCGE\n",
      "- BCGE: No summary info found, symbol may be delisted\n",
      "BCVN\n",
      "- BCVN: No summary info found, symbol may be delisted\n",
      "BAS\n",
      "- BAS: No summary info found, symbol may be delisted\n",
      "BSKP\n",
      "- BSKP: No summary info found, symbol may be delisted\n",
      "BAYN\n",
      "- BAYN: No summary info found, symbol may be delisted\n",
      "BELL\n",
      "- BELL: No summary info found, symbol may be delisted\n",
      "BRK/B\n",
      "- BRKB: No summary info found, symbol may be delisted\n",
      "BEKN\n",
      "- BEKN: No summary info found, symbol may be delisted\n",
      "BYND\n"
     ]
    },
    {
     "name": "stderr",
     "output_type": "stream",
     "text": [
      "C:\\Users\\ruedi\\AppData\\Local\\Temp\\ipykernel_21156\\1400600094.py:43: FutureWarning: The frame.append method is deprecated and will be removed from pandas in a future version. Use pandas.concat instead.\n",
      "  df_assets = df_assets.append({'ticker': ticker,\n"
     ]
    },
    {
     "name": "stdout",
     "output_type": "stream",
     "text": [
      "BHP\n"
     ]
    },
    {
     "name": "stderr",
     "output_type": "stream",
     "text": [
      "C:\\Users\\ruedi\\AppData\\Local\\Temp\\ipykernel_21156\\1400600094.py:43: FutureWarning: The frame.append method is deprecated and will be removed from pandas in a future version. Use pandas.concat instead.\n",
      "  df_assets = df_assets.append({'ticker': ticker,\n"
     ]
    },
    {
     "name": "stdout",
     "output_type": "stream",
     "text": [
      "BNTX\n"
     ]
    },
    {
     "name": "stderr",
     "output_type": "stream",
     "text": [
      "C:\\Users\\ruedi\\AppData\\Local\\Temp\\ipykernel_21156\\1400600094.py:43: FutureWarning: The frame.append method is deprecated and will be removed from pandas in a future version. Use pandas.concat instead.\n",
      "  df_assets = df_assets.append({'ticker': ticker,\n"
     ]
    },
    {
     "name": "stdout",
     "output_type": "stream",
     "text": [
      "BKW\n"
     ]
    },
    {
     "name": "stderr",
     "output_type": "stream",
     "text": [
      "C:\\Users\\ruedi\\AppData\\Local\\Temp\\ipykernel_21156\\1400600094.py:43: FutureWarning: The frame.append method is deprecated and will be removed from pandas in a future version. Use pandas.concat instead.\n",
      "  df_assets = df_assets.append({'ticker': ticker,\n"
     ]
    },
    {
     "name": "stdout",
     "output_type": "stream",
     "text": [
      "BLK\n"
     ]
    },
    {
     "name": "stderr",
     "output_type": "stream",
     "text": [
      "C:\\Users\\ruedi\\AppData\\Local\\Temp\\ipykernel_21156\\1400600094.py:43: FutureWarning: The frame.append method is deprecated and will be removed from pandas in a future version. Use pandas.concat instead.\n",
      "  df_assets = df_assets.append({'ticker': ticker,\n"
     ]
    },
    {
     "name": "stdout",
     "output_type": "stream",
     "text": [
      "SQ\n"
     ]
    },
    {
     "name": "stderr",
     "output_type": "stream",
     "text": [
      "C:\\Users\\ruedi\\AppData\\Local\\Temp\\ipykernel_21156\\1400600094.py:43: FutureWarning: The frame.append method is deprecated and will be removed from pandas in a future version. Use pandas.concat instead.\n",
      "  df_assets = df_assets.append({'ticker': ticker,\n"
     ]
    },
    {
     "name": "stdout",
     "output_type": "stream",
     "text": [
      "BMW\n",
      "- BMW: No summary info found, symbol may be delisted\n",
      "BNP\n"
     ]
    },
    {
     "name": "stderr",
     "output_type": "stream",
     "text": [
      "C:\\Users\\ruedi\\AppData\\Local\\Temp\\ipykernel_21156\\1400600094.py:43: FutureWarning: The frame.append method is deprecated and will be removed from pandas in a future version. Use pandas.concat instead.\n",
      "  df_assets = df_assets.append({'ticker': ticker,\n"
     ]
    },
    {
     "name": "stdout",
     "output_type": "stream",
     "text": [
      "BOBNN\n",
      "- BOBNN: No summary info found, symbol may be delisted\n",
      "BA\n"
     ]
    },
    {
     "name": "stderr",
     "output_type": "stream",
     "text": [
      "C:\\Users\\ruedi\\AppData\\Local\\Temp\\ipykernel_21156\\1400600094.py:43: FutureWarning: The frame.append method is deprecated and will be removed from pandas in a future version. Use pandas.concat instead.\n",
      "  df_assets = df_assets.append({'ticker': ticker,\n"
     ]
    },
    {
     "name": "stdout",
     "output_type": "stream",
     "text": [
      "BKNG\n"
     ]
    },
    {
     "name": "stderr",
     "output_type": "stream",
     "text": [
      "C:\\Users\\ruedi\\AppData\\Local\\Temp\\ipykernel_21156\\1400600094.py:43: FutureWarning: The frame.append method is deprecated and will be removed from pandas in a future version. Use pandas.concat instead.\n",
      "  df_assets = df_assets.append({'ticker': ticker,\n"
     ]
    },
    {
     "name": "stdout",
     "output_type": "stream",
     "text": [
      "BVB\n"
     ]
    },
    {
     "name": "stderr",
     "output_type": "stream",
     "text": [
      "C:\\Users\\ruedi\\AppData\\Local\\Temp\\ipykernel_21156\\1400600094.py:43: FutureWarning: The frame.append method is deprecated and will be removed from pandas in a future version. Use pandas.concat instead.\n",
      "  df_assets = df_assets.append({'ticker': ticker,\n"
     ]
    },
    {
     "name": "stdout",
     "output_type": "stream",
     "text": [
      "BATS\n"
     ]
    },
    {
     "name": "stderr",
     "output_type": "stream",
     "text": [
      "C:\\Users\\ruedi\\AppData\\Local\\Temp\\ipykernel_21156\\1400600094.py:43: FutureWarning: The frame.append method is deprecated and will be removed from pandas in a future version. Use pandas.concat instead.\n",
      "  df_assets = df_assets.append({'ticker': ticker,\n"
     ]
    },
    {
     "name": "stdout",
     "output_type": "stream",
     "text": [
      "BP.\n"
     ]
    },
    {
     "name": "stderr",
     "output_type": "stream",
     "text": [
      "C:\\Users\\ruedi\\AppData\\Local\\Temp\\ipykernel_21156\\1400600094.py:43: FutureWarning: The frame.append method is deprecated and will be removed from pandas in a future version. Use pandas.concat instead.\n",
      "  df_assets = df_assets.append({'ticker': ticker,\n"
     ]
    },
    {
     "name": "stdout",
     "output_type": "stream",
     "text": [
      "BMBL\n"
     ]
    },
    {
     "name": "stderr",
     "output_type": "stream",
     "text": [
      "C:\\Users\\ruedi\\AppData\\Local\\Temp\\ipykernel_21156\\1400600094.py:43: FutureWarning: The frame.append method is deprecated and will be removed from pandas in a future version. Use pandas.concat instead.\n",
      "  df_assets = df_assets.append({'ticker': ticker,\n"
     ]
    },
    {
     "name": "stdout",
     "output_type": "stream",
     "text": [
      "BRBY\n",
      "- BRBY: No summary info found, symbol may be delisted\n",
      "CALN\n"
     ]
    },
    {
     "name": "stderr",
     "output_type": "stream",
     "text": [
      "C:\\Users\\ruedi\\AppData\\Local\\Temp\\ipykernel_21156\\1400600094.py:43: FutureWarning: The frame.append method is deprecated and will be removed from pandas in a future version. Use pandas.concat instead.\n",
      "  df_assets = df_assets.append({'ticker': ticker,\n"
     ]
    },
    {
     "name": "stdout",
     "output_type": "stream",
     "text": [
      "CCL\n"
     ]
    },
    {
     "name": "stderr",
     "output_type": "stream",
     "text": [
      "C:\\Users\\ruedi\\AppData\\Local\\Temp\\ipykernel_21156\\1400600094.py:43: FutureWarning: The frame.append method is deprecated and will be removed from pandas in a future version. Use pandas.concat instead.\n",
      "  df_assets = df_assets.append({'ticker': ticker,\n"
     ]
    },
    {
     "name": "stdout",
     "output_type": "stream",
     "text": [
      "CAT\n"
     ]
    },
    {
     "name": "stderr",
     "output_type": "stream",
     "text": [
      "C:\\Users\\ruedi\\AppData\\Local\\Temp\\ipykernel_21156\\1400600094.py:43: FutureWarning: The frame.append method is deprecated and will be removed from pandas in a future version. Use pandas.concat instead.\n",
      "  df_assets = df_assets.append({'ticker': ticker,\n"
     ]
    },
    {
     "name": "stdout",
     "output_type": "stream",
     "text": [
      "CVX\n"
     ]
    },
    {
     "name": "stderr",
     "output_type": "stream",
     "text": [
      "C:\\Users\\ruedi\\AppData\\Local\\Temp\\ipykernel_21156\\1400600094.py:43: FutureWarning: The frame.append method is deprecated and will be removed from pandas in a future version. Use pandas.concat instead.\n",
      "  df_assets = df_assets.append({'ticker': ticker,\n"
     ]
    },
    {
     "name": "stdout",
     "output_type": "stream",
     "text": [
      "CDI\n"
     ]
    },
    {
     "name": "stderr",
     "output_type": "stream",
     "text": [
      "C:\\Users\\ruedi\\AppData\\Local\\Temp\\ipykernel_21156\\1400600094.py:43: FutureWarning: The frame.append method is deprecated and will be removed from pandas in a future version. Use pandas.concat instead.\n",
      "  df_assets = df_assets.append({'ticker': ticker,\n"
     ]
    },
    {
     "name": "stdout",
     "output_type": "stream",
     "text": [
      "CSCO\n"
     ]
    },
    {
     "name": "stderr",
     "output_type": "stream",
     "text": [
      "C:\\Users\\ruedi\\AppData\\Local\\Temp\\ipykernel_21156\\1400600094.py:43: FutureWarning: The frame.append method is deprecated and will be removed from pandas in a future version. Use pandas.concat instead.\n",
      "  df_assets = df_assets.append({'ticker': ticker,\n"
     ]
    },
    {
     "name": "stdout",
     "output_type": "stream",
     "text": [
      "C\n"
     ]
    },
    {
     "name": "stderr",
     "output_type": "stream",
     "text": [
      "C:\\Users\\ruedi\\AppData\\Local\\Temp\\ipykernel_21156\\1400600094.py:43: FutureWarning: The frame.append method is deprecated and will be removed from pandas in a future version. Use pandas.concat instead.\n",
      "  df_assets = df_assets.append({'ticker': ticker,\n"
     ]
    },
    {
     "name": "stdout",
     "output_type": "stream",
     "text": [
      "CLN\n"
     ]
    },
    {
     "name": "stderr",
     "output_type": "stream",
     "text": [
      "C:\\Users\\ruedi\\AppData\\Local\\Temp\\ipykernel_21156\\1400600094.py:43: FutureWarning: The frame.append method is deprecated and will be removed from pandas in a future version. Use pandas.concat instead.\n",
      "  df_assets = df_assets.append({'ticker': ticker,\n"
     ]
    },
    {
     "name": "stdout",
     "output_type": "stream",
     "text": [
      "KO\n"
     ]
    },
    {
     "name": "stderr",
     "output_type": "stream",
     "text": [
      "C:\\Users\\ruedi\\AppData\\Local\\Temp\\ipykernel_21156\\1400600094.py:43: FutureWarning: The frame.append method is deprecated and will be removed from pandas in a future version. Use pandas.concat instead.\n",
      "  df_assets = df_assets.append({'ticker': ticker,\n"
     ]
    },
    {
     "name": "stdout",
     "output_type": "stream",
     "text": [
      "COIN\n"
     ]
    },
    {
     "name": "stderr",
     "output_type": "stream",
     "text": [
      "C:\\Users\\ruedi\\AppData\\Local\\Temp\\ipykernel_21156\\1400600094.py:43: FutureWarning: The frame.append method is deprecated and will be removed from pandas in a future version. Use pandas.concat instead.\n",
      "  df_assets = df_assets.append({'ticker': ticker,\n"
     ]
    },
    {
     "name": "stdout",
     "output_type": "stream",
     "text": [
      "CMCSA\n"
     ]
    },
    {
     "name": "stderr",
     "output_type": "stream",
     "text": [
      "C:\\Users\\ruedi\\AppData\\Local\\Temp\\ipykernel_21156\\1400600094.py:43: FutureWarning: The frame.append method is deprecated and will be removed from pandas in a future version. Use pandas.concat instead.\n",
      "  df_assets = df_assets.append({'ticker': ticker,\n"
     ]
    },
    {
     "name": "stdout",
     "output_type": "stream",
     "text": [
      "CBK\n",
      "- CBK: No summary info found, symbol may be delisted\n",
      "COST\n"
     ]
    },
    {
     "name": "stderr",
     "output_type": "stream",
     "text": [
      "C:\\Users\\ruedi\\AppData\\Local\\Temp\\ipykernel_21156\\1400600094.py:43: FutureWarning: The frame.append method is deprecated and will be removed from pandas in a future version. Use pandas.concat instead.\n",
      "  df_assets = df_assets.append({'ticker': ticker,\n"
     ]
    },
    {
     "name": "stdout",
     "output_type": "stream",
     "text": [
      "ACA\n"
     ]
    },
    {
     "name": "stderr",
     "output_type": "stream",
     "text": [
      "C:\\Users\\ruedi\\AppData\\Local\\Temp\\ipykernel_21156\\1400600094.py:43: FutureWarning: The frame.append method is deprecated and will be removed from pandas in a future version. Use pandas.concat instead.\n",
      "  df_assets = df_assets.append({'ticker': ticker,\n"
     ]
    },
    {
     "name": "stdout",
     "output_type": "stream",
     "text": [
      "CSGN\n"
     ]
    },
    {
     "name": "stderr",
     "output_type": "stream",
     "text": [
      "C:\\Users\\ruedi\\AppData\\Local\\Temp\\ipykernel_21156\\1400600094.py:43: FutureWarning: The frame.append method is deprecated and will be removed from pandas in a future version. Use pandas.concat instead.\n",
      "  df_assets = df_assets.append({'ticker': ticker,\n"
     ]
    },
    {
     "name": "stdout",
     "output_type": "stream",
     "text": [
      "5CV\n",
      "- 5CV: No summary info found, symbol may be delisted\n",
      "DAI\n"
     ]
    },
    {
     "name": "stderr",
     "output_type": "stream",
     "text": [
      "C:\\Users\\ruedi\\AppData\\Local\\Temp\\ipykernel_21156\\1400600094.py:43: FutureWarning: The frame.append method is deprecated and will be removed from pandas in a future version. Use pandas.concat instead.\n",
      "  df_assets = df_assets.append({'ticker': ticker,\n"
     ]
    },
    {
     "name": "stdout",
     "output_type": "stream",
     "text": [
      "BN\n"
     ]
    },
    {
     "name": "stderr",
     "output_type": "stream",
     "text": [
      "C:\\Users\\ruedi\\AppData\\Local\\Temp\\ipykernel_21156\\1400600094.py:43: FutureWarning: The frame.append method is deprecated and will be removed from pandas in a future version. Use pandas.concat instead.\n",
      "  df_assets = df_assets.append({'ticker': ticker,\n"
     ]
    },
    {
     "name": "stdout",
     "output_type": "stream",
     "text": [
      "DELL\n"
     ]
    },
    {
     "name": "stderr",
     "output_type": "stream",
     "text": [
      "C:\\Users\\ruedi\\AppData\\Local\\Temp\\ipykernel_21156\\1400600094.py:43: FutureWarning: The frame.append method is deprecated and will be removed from pandas in a future version. Use pandas.concat instead.\n",
      "  df_assets = df_assets.append({'ticker': ticker,\n"
     ]
    },
    {
     "name": "stdout",
     "output_type": "stream",
     "text": [
      "DAL\n"
     ]
    },
    {
     "name": "stderr",
     "output_type": "stream",
     "text": [
      "C:\\Users\\ruedi\\AppData\\Local\\Temp\\ipykernel_21156\\1400600094.py:43: FutureWarning: The frame.append method is deprecated and will be removed from pandas in a future version. Use pandas.concat instead.\n",
      "  df_assets = df_assets.append({'ticker': ticker,\n"
     ]
    },
    {
     "name": "stdout",
     "output_type": "stream",
     "text": [
      "DBK\n",
      "- DBK: No summary info found, symbol may be delisted\n",
      "DPW\n",
      "- DPW: No summary info found, symbol may be delisted\n",
      "DTE\n"
     ]
    },
    {
     "name": "stderr",
     "output_type": "stream",
     "text": [
      "C:\\Users\\ruedi\\AppData\\Local\\Temp\\ipykernel_21156\\1400600094.py:43: FutureWarning: The frame.append method is deprecated and will be removed from pandas in a future version. Use pandas.concat instead.\n",
      "  df_assets = df_assets.append({'ticker': ticker,\n"
     ]
    },
    {
     "name": "stdout",
     "output_type": "stream",
     "text": [
      "DUFN\n",
      "- DUFN: No summary info found, symbol may be delisted\n",
      "EOAN\n",
      "- EOAN: No summary info found, symbol may be delisted\n",
      "EZJ\n"
     ]
    },
    {
     "name": "stderr",
     "output_type": "stream",
     "text": [
      "C:\\Users\\ruedi\\AppData\\Local\\Temp\\ipykernel_21156\\1400600094.py:43: FutureWarning: The frame.append method is deprecated and will be removed from pandas in a future version. Use pandas.concat instead.\n",
      "  df_assets = df_assets.append({'ticker': ticker,\n"
     ]
    },
    {
     "name": "stdout",
     "output_type": "stream",
     "text": [
      "EBAY\n"
     ]
    },
    {
     "name": "stderr",
     "output_type": "stream",
     "text": [
      "C:\\Users\\ruedi\\AppData\\Local\\Temp\\ipykernel_21156\\1400600094.py:43: FutureWarning: The frame.append method is deprecated and will be removed from pandas in a future version. Use pandas.concat instead.\n",
      "  df_assets = df_assets.append({'ticker': ticker,\n"
     ]
    },
    {
     "name": "stdout",
     "output_type": "stream",
     "text": [
      "EDF\n"
     ]
    },
    {
     "name": "stderr",
     "output_type": "stream",
     "text": [
      "C:\\Users\\ruedi\\AppData\\Local\\Temp\\ipykernel_21156\\1400600094.py:43: FutureWarning: The frame.append method is deprecated and will be removed from pandas in a future version. Use pandas.concat instead.\n",
      "  df_assets = df_assets.append({'ticker': ticker,\n"
     ]
    },
    {
     "name": "stdout",
     "output_type": "stream",
     "text": [
      "EA\n"
     ]
    },
    {
     "name": "stderr",
     "output_type": "stream",
     "text": [
      "C:\\Users\\ruedi\\AppData\\Local\\Temp\\ipykernel_21156\\1400600094.py:43: FutureWarning: The frame.append method is deprecated and will be removed from pandas in a future version. Use pandas.concat instead.\n",
      "  df_assets = df_assets.append({'ticker': ticker,\n"
     ]
    },
    {
     "name": "stdout",
     "output_type": "stream",
     "text": [
      "LLY\n"
     ]
    },
    {
     "name": "stderr",
     "output_type": "stream",
     "text": [
      "C:\\Users\\ruedi\\AppData\\Local\\Temp\\ipykernel_21156\\1400600094.py:43: FutureWarning: The frame.append method is deprecated and will be removed from pandas in a future version. Use pandas.concat instead.\n",
      "  df_assets = df_assets.append({'ticker': ticker,\n"
     ]
    },
    {
     "name": "stdout",
     "output_type": "stream",
     "text": [
      "EMMN\n",
      "- EMMN: No summary info found, symbol may be delisted\n",
      "EMSN\n",
      "- EMSN: No summary info found, symbol may be delisted\n",
      "ENEL\n",
      "- ENEL: No summary info found, symbol may be delisted\n",
      "ENGI\n",
      "- ENGI: No summary info found, symbol may be delisted\n",
      "ENI\n"
     ]
    },
    {
     "name": "stderr",
     "output_type": "stream",
     "text": [
      "C:\\Users\\ruedi\\AppData\\Local\\Temp\\ipykernel_21156\\1400600094.py:43: FutureWarning: The frame.append method is deprecated and will be removed from pandas in a future version. Use pandas.concat instead.\n",
      "  df_assets = df_assets.append({'ticker': ticker,\n"
     ]
    },
    {
     "name": "stdout",
     "output_type": "stream",
     "text": [
      "EL\n"
     ]
    },
    {
     "name": "stderr",
     "output_type": "stream",
     "text": [
      "C:\\Users\\ruedi\\AppData\\Local\\Temp\\ipykernel_21156\\1400600094.py:43: FutureWarning: The frame.append method is deprecated and will be removed from pandas in a future version. Use pandas.concat instead.\n",
      "  df_assets = df_assets.append({'ticker': ticker,\n"
     ]
    },
    {
     "name": "stdout",
     "output_type": "stream",
     "text": [
      "ETSY\n"
     ]
    },
    {
     "name": "stderr",
     "output_type": "stream",
     "text": [
      "C:\\Users\\ruedi\\AppData\\Local\\Temp\\ipykernel_21156\\1400600094.py:43: FutureWarning: The frame.append method is deprecated and will be removed from pandas in a future version. Use pandas.concat instead.\n",
      "  df_assets = df_assets.append({'ticker': ticker,\n"
     ]
    },
    {
     "name": "stdout",
     "output_type": "stream",
     "text": [
      "EXPE\n"
     ]
    },
    {
     "name": "stderr",
     "output_type": "stream",
     "text": [
      "C:\\Users\\ruedi\\AppData\\Local\\Temp\\ipykernel_21156\\1400600094.py:43: FutureWarning: The frame.append method is deprecated and will be removed from pandas in a future version. Use pandas.concat instead.\n",
      "  df_assets = df_assets.append({'ticker': ticker,\n"
     ]
    },
    {
     "name": "stdout",
     "output_type": "stream",
     "text": [
      "XOM\n"
     ]
    },
    {
     "name": "stderr",
     "output_type": "stream",
     "text": [
      "C:\\Users\\ruedi\\AppData\\Local\\Temp\\ipykernel_21156\\1400600094.py:43: FutureWarning: The frame.append method is deprecated and will be removed from pandas in a future version. Use pandas.concat instead.\n",
      "  df_assets = df_assets.append({'ticker': ticker,\n"
     ]
    },
    {
     "name": "stdout",
     "output_type": "stream",
     "text": [
      "FDX\n"
     ]
    },
    {
     "name": "stderr",
     "output_type": "stream",
     "text": [
      "C:\\Users\\ruedi\\AppData\\Local\\Temp\\ipykernel_21156\\1400600094.py:43: FutureWarning: The frame.append method is deprecated and will be removed from pandas in a future version. Use pandas.concat instead.\n",
      "  df_assets = df_assets.append({'ticker': ticker,\n"
     ]
    },
    {
     "name": "stdout",
     "output_type": "stream",
     "text": [
      "RACE\n"
     ]
    },
    {
     "name": "stderr",
     "output_type": "stream",
     "text": [
      "C:\\Users\\ruedi\\AppData\\Local\\Temp\\ipykernel_21156\\1400600094.py:43: FutureWarning: The frame.append method is deprecated and will be removed from pandas in a future version. Use pandas.concat instead.\n",
      "  df_assets = df_assets.append({'ticker': ticker,\n"
     ]
    },
    {
     "name": "stdout",
     "output_type": "stream",
     "text": [
      "FI-N\n"
     ]
    },
    {
     "name": "stderr",
     "output_type": "stream",
     "text": [
      "C:\\Users\\ruedi\\AppData\\Local\\Temp\\ipykernel_21156\\1400600094.py:43: FutureWarning: The frame.append method is deprecated and will be removed from pandas in a future version. Use pandas.concat instead.\n",
      "  df_assets = df_assets.append({'ticker': ticker,\n"
     ]
    },
    {
     "name": "stdout",
     "output_type": "stream",
     "text": [
      "FHZN\n",
      "- FHZN: No summary info found, symbol may be delisted\n",
      "FL\n"
     ]
    },
    {
     "name": "stderr",
     "output_type": "stream",
     "text": [
      "C:\\Users\\ruedi\\AppData\\Local\\Temp\\ipykernel_21156\\1400600094.py:43: FutureWarning: The frame.append method is deprecated and will be removed from pandas in a future version. Use pandas.concat instead.\n",
      "  df_assets = df_assets.append({'ticker': ticker,\n"
     ]
    },
    {
     "name": "stdout",
     "output_type": "stream",
     "text": [
      "F\n"
     ]
    },
    {
     "name": "stderr",
     "output_type": "stream",
     "text": [
      "C:\\Users\\ruedi\\AppData\\Local\\Temp\\ipykernel_21156\\1400600094.py:43: FutureWarning: The frame.append method is deprecated and will be removed from pandas in a future version. Use pandas.concat instead.\n",
      "  df_assets = df_assets.append({'ticker': ticker,\n"
     ]
    },
    {
     "name": "stdout",
     "output_type": "stream",
     "text": [
      "GPS\n"
     ]
    },
    {
     "name": "stderr",
     "output_type": "stream",
     "text": [
      "C:\\Users\\ruedi\\AppData\\Local\\Temp\\ipykernel_21156\\1400600094.py:43: FutureWarning: The frame.append method is deprecated and will be removed from pandas in a future version. Use pandas.concat instead.\n",
      "  df_assets = df_assets.append({'ticker': ticker,\n"
     ]
    },
    {
     "name": "stdout",
     "output_type": "stream",
     "text": [
      "GEBN\n",
      "- GEBN: No summary info found, symbol may be delisted\n",
      "GE\n"
     ]
    },
    {
     "name": "stderr",
     "output_type": "stream",
     "text": [
      "C:\\Users\\ruedi\\AppData\\Local\\Temp\\ipykernel_21156\\1400600094.py:43: FutureWarning: The frame.append method is deprecated and will be removed from pandas in a future version. Use pandas.concat instead.\n",
      "  df_assets = df_assets.append({'ticker': ticker,\n"
     ]
    },
    {
     "name": "stdout",
     "output_type": "stream",
     "text": [
      "GIS\n"
     ]
    },
    {
     "name": "stderr",
     "output_type": "stream",
     "text": [
      "C:\\Users\\ruedi\\AppData\\Local\\Temp\\ipykernel_21156\\1400600094.py:43: FutureWarning: The frame.append method is deprecated and will be removed from pandas in a future version. Use pandas.concat instead.\n",
      "  df_assets = df_assets.append({'ticker': ticker,\n"
     ]
    },
    {
     "name": "stdout",
     "output_type": "stream",
     "text": [
      "GM\n"
     ]
    },
    {
     "name": "stderr",
     "output_type": "stream",
     "text": [
      "C:\\Users\\ruedi\\AppData\\Local\\Temp\\ipykernel_21156\\1400600094.py:43: FutureWarning: The frame.append method is deprecated and will be removed from pandas in a future version. Use pandas.concat instead.\n",
      "  df_assets = df_assets.append({'ticker': ticker,\n"
     ]
    },
    {
     "name": "stdout",
     "output_type": "stream",
     "text": [
      "GIVN\n"
     ]
    },
    {
     "name": "stderr",
     "output_type": "stream",
     "text": [
      "C:\\Users\\ruedi\\AppData\\Local\\Temp\\ipykernel_21156\\1400600094.py:43: FutureWarning: The frame.append method is deprecated and will be removed from pandas in a future version. Use pandas.concat instead.\n",
      "  df_assets = df_assets.append({'ticker': ticker,\n"
     ]
    },
    {
     "name": "stdout",
     "output_type": "stream",
     "text": [
      "GSK\n"
     ]
    },
    {
     "name": "stderr",
     "output_type": "stream",
     "text": [
      "C:\\Users\\ruedi\\AppData\\Local\\Temp\\ipykernel_21156\\1400600094.py:43: FutureWarning: The frame.append method is deprecated and will be removed from pandas in a future version. Use pandas.concat instead.\n",
      "  df_assets = df_assets.append({'ticker': ticker,\n"
     ]
    },
    {
     "name": "stdout",
     "output_type": "stream",
     "text": [
      "GLEN\n",
      "- GLEN: No summary info found, symbol may be delisted\n",
      "GS\n"
     ]
    },
    {
     "name": "stderr",
     "output_type": "stream",
     "text": [
      "C:\\Users\\ruedi\\AppData\\Local\\Temp\\ipykernel_21156\\1400600094.py:43: FutureWarning: The frame.append method is deprecated and will be removed from pandas in a future version. Use pandas.concat instead.\n",
      "  df_assets = df_assets.append({'ticker': ticker,\n"
     ]
    },
    {
     "name": "stdout",
     "output_type": "stream",
     "text": [
      "GT\n"
     ]
    },
    {
     "name": "stderr",
     "output_type": "stream",
     "text": [
      "C:\\Users\\ruedi\\AppData\\Local\\Temp\\ipykernel_21156\\1400600094.py:43: FutureWarning: The frame.append method is deprecated and will be removed from pandas in a future version. Use pandas.concat instead.\n",
      "  df_assets = df_assets.append({'ticker': ticker,\n"
     ]
    },
    {
     "name": "stdout",
     "output_type": "stream",
     "text": [
      "GPRO\n"
     ]
    },
    {
     "name": "stderr",
     "output_type": "stream",
     "text": [
      "C:\\Users\\ruedi\\AppData\\Local\\Temp\\ipykernel_21156\\1400600094.py:43: FutureWarning: The frame.append method is deprecated and will be removed from pandas in a future version. Use pandas.concat instead.\n",
      "  df_assets = df_assets.append({'ticker': ticker,\n"
     ]
    },
    {
     "name": "stdout",
     "output_type": "stream",
     "text": [
      "HOG\n"
     ]
    },
    {
     "name": "stderr",
     "output_type": "stream",
     "text": [
      "C:\\Users\\ruedi\\AppData\\Local\\Temp\\ipykernel_21156\\1400600094.py:43: FutureWarning: The frame.append method is deprecated and will be removed from pandas in a future version. Use pandas.concat instead.\n",
      "  df_assets = df_assets.append({'ticker': ticker,\n"
     ]
    },
    {
     "name": "stdout",
     "output_type": "stream",
     "text": [
      "HAS\n"
     ]
    },
    {
     "name": "stderr",
     "output_type": "stream",
     "text": [
      "C:\\Users\\ruedi\\AppData\\Local\\Temp\\ipykernel_21156\\1400600094.py:43: FutureWarning: The frame.append method is deprecated and will be removed from pandas in a future version. Use pandas.concat instead.\n",
      "  df_assets = df_assets.append({'ticker': ticker,\n"
     ]
    },
    {
     "name": "stdout",
     "output_type": "stream",
     "text": [
      "HEIO\n",
      "- HEIO: No summary info found, symbol may be delisted\n",
      "HFG\n",
      "- HFG: No summary info found, symbol may be delisted\n",
      "HELN\n",
      "- HELN: No summary info found, symbol may be delisted\n",
      "RMS\n"
     ]
    },
    {
     "name": "stderr",
     "output_type": "stream",
     "text": [
      "C:\\Users\\ruedi\\AppData\\Local\\Temp\\ipykernel_21156\\1400600094.py:43: FutureWarning: The frame.append method is deprecated and will be removed from pandas in a future version. Use pandas.concat instead.\n",
      "  df_assets = df_assets.append({'ticker': ticker,\n"
     ]
    },
    {
     "name": "stdout",
     "output_type": "stream",
     "text": [
      "HOLN\n",
      "- HOLN: No summary info found, symbol may be delisted\n",
      "HD\n"
     ]
    },
    {
     "name": "stderr",
     "output_type": "stream",
     "text": [
      "C:\\Users\\ruedi\\AppData\\Local\\Temp\\ipykernel_21156\\1400600094.py:43: FutureWarning: The frame.append method is deprecated and will be removed from pandas in a future version. Use pandas.concat instead.\n",
      "  df_assets = df_assets.append({'ticker': ticker,\n"
     ]
    },
    {
     "name": "stdout",
     "output_type": "stream",
     "text": [
      "HMC\n"
     ]
    },
    {
     "name": "stderr",
     "output_type": "stream",
     "text": [
      "C:\\Users\\ruedi\\AppData\\Local\\Temp\\ipykernel_21156\\1400600094.py:43: FutureWarning: The frame.append method is deprecated and will be removed from pandas in a future version. Use pandas.concat instead.\n",
      "  df_assets = df_assets.append({'ticker': ticker,\n"
     ]
    },
    {
     "name": "stdout",
     "output_type": "stream",
     "text": [
      "HON\n"
     ]
    },
    {
     "name": "stderr",
     "output_type": "stream",
     "text": [
      "C:\\Users\\ruedi\\AppData\\Local\\Temp\\ipykernel_21156\\1400600094.py:43: FutureWarning: The frame.append method is deprecated and will be removed from pandas in a future version. Use pandas.concat instead.\n",
      "  df_assets = df_assets.append({'ticker': ticker,\n"
     ]
    },
    {
     "name": "stdout",
     "output_type": "stream",
     "text": [
      "HSBA\n",
      "- HSBA: No summary info found, symbol may be delisted\n",
      "BOSS\n"
     ]
    },
    {
     "name": "stderr",
     "output_type": "stream",
     "text": [
      "C:\\Users\\ruedi\\AppData\\Local\\Temp\\ipykernel_21156\\1400600094.py:43: FutureWarning: The frame.append method is deprecated and will be removed from pandas in a future version. Use pandas.concat instead.\n",
      "  df_assets = df_assets.append({'ticker': ticker,\n"
     ]
    },
    {
     "name": "stdout",
     "output_type": "stream",
     "text": [
      "IBM\n"
     ]
    },
    {
     "name": "stderr",
     "output_type": "stream",
     "text": [
      "C:\\Users\\ruedi\\AppData\\Local\\Temp\\ipykernel_21156\\1400600094.py:43: FutureWarning: The frame.append method is deprecated and will be removed from pandas in a future version. Use pandas.concat instead.\n",
      "  df_assets = df_assets.append({'ticker': ticker,\n"
     ]
    },
    {
     "name": "stdout",
     "output_type": "stream",
     "text": [
      "IDIA\n",
      "- IDIA: No summary info found, symbol may be delisted\n",
      "IMPN\n",
      "- IMPN: No summary info found, symbol may be delisted\n",
      "INGA\n"
     ]
    },
    {
     "name": "stderr",
     "output_type": "stream",
     "text": [
      "C:\\Users\\ruedi\\AppData\\Local\\Temp\\ipykernel_21156\\1400600094.py:43: FutureWarning: The frame.append method is deprecated and will be removed from pandas in a future version. Use pandas.concat instead.\n",
      "  df_assets = df_assets.append({'ticker': ticker,\n"
     ]
    },
    {
     "name": "stdout",
     "output_type": "stream",
     "text": [
      "INTC\n"
     ]
    },
    {
     "name": "stderr",
     "output_type": "stream",
     "text": [
      "C:\\Users\\ruedi\\AppData\\Local\\Temp\\ipykernel_21156\\1400600094.py:43: FutureWarning: The frame.append method is deprecated and will be removed from pandas in a future version. Use pandas.concat instead.\n",
      "  df_assets = df_assets.append({'ticker': ticker,\n"
     ]
    },
    {
     "name": "stdout",
     "output_type": "stream",
     "text": [
      "INTU\n"
     ]
    },
    {
     "name": "stderr",
     "output_type": "stream",
     "text": [
      "C:\\Users\\ruedi\\AppData\\Local\\Temp\\ipykernel_21156\\1400600094.py:43: FutureWarning: The frame.append method is deprecated and will be removed from pandas in a future version. Use pandas.concat instead.\n",
      "  df_assets = df_assets.append({'ticker': ticker,\n"
     ]
    },
    {
     "name": "stdout",
     "output_type": "stream",
     "text": [
      "DE\n"
     ]
    },
    {
     "name": "stderr",
     "output_type": "stream",
     "text": [
      "C:\\Users\\ruedi\\AppData\\Local\\Temp\\ipykernel_21156\\1400600094.py:43: FutureWarning: The frame.append method is deprecated and will be removed from pandas in a future version. Use pandas.concat instead.\n",
      "  df_assets = df_assets.append({'ticker': ticker,\n"
     ]
    },
    {
     "name": "stdout",
     "output_type": "stream",
     "text": [
      "JNJ\n"
     ]
    },
    {
     "name": "stderr",
     "output_type": "stream",
     "text": [
      "C:\\Users\\ruedi\\AppData\\Local\\Temp\\ipykernel_21156\\1400600094.py:43: FutureWarning: The frame.append method is deprecated and will be removed from pandas in a future version. Use pandas.concat instead.\n",
      "  df_assets = df_assets.append({'ticker': ticker,\n"
     ]
    },
    {
     "name": "stdout",
     "output_type": "stream",
     "text": [
      "JPM\n"
     ]
    },
    {
     "name": "stderr",
     "output_type": "stream",
     "text": [
      "C:\\Users\\ruedi\\AppData\\Local\\Temp\\ipykernel_21156\\1400600094.py:43: FutureWarning: The frame.append method is deprecated and will be removed from pandas in a future version. Use pandas.concat instead.\n",
      "  df_assets = df_assets.append({'ticker': ticker,\n"
     ]
    },
    {
     "name": "stdout",
     "output_type": "stream",
     "text": [
      "BAER\n",
      "- BAER: No summary info found, symbol may be delisted\n",
      "JUVE\n",
      "- JUVE: No summary info found, symbol may be delisted\n",
      "K\n"
     ]
    },
    {
     "name": "stderr",
     "output_type": "stream",
     "text": [
      "C:\\Users\\ruedi\\AppData\\Local\\Temp\\ipykernel_21156\\1400600094.py:43: FutureWarning: The frame.append method is deprecated and will be removed from pandas in a future version. Use pandas.concat instead.\n",
      "  df_assets = df_assets.append({'ticker': ticker,\n"
     ]
    },
    {
     "name": "stdout",
     "output_type": "stream",
     "text": [
      "KER\n",
      "- KER: No summary info found, symbol may be delisted\n",
      "KMB\n"
     ]
    },
    {
     "name": "stderr",
     "output_type": "stream",
     "text": [
      "C:\\Users\\ruedi\\AppData\\Local\\Temp\\ipykernel_21156\\1400600094.py:43: FutureWarning: The frame.append method is deprecated and will be removed from pandas in a future version. Use pandas.concat instead.\n",
      "  df_assets = df_assets.append({'ticker': ticker,\n"
     ]
    },
    {
     "name": "stdout",
     "output_type": "stream",
     "text": [
      "KHC\n"
     ]
    },
    {
     "name": "stderr",
     "output_type": "stream",
     "text": [
      "C:\\Users\\ruedi\\AppData\\Local\\Temp\\ipykernel_21156\\1400600094.py:43: FutureWarning: The frame.append method is deprecated and will be removed from pandas in a future version. Use pandas.concat instead.\n",
      "  df_assets = df_assets.append({'ticker': ticker,\n"
     ]
    },
    {
     "name": "stdout",
     "output_type": "stream",
     "text": [
      "KUD\n",
      "- KUD: No summary info found, symbol may be delisted\n",
      "KNIN\n",
      "- KNIN: No summary info found, symbol may be delisted\n",
      "OR\n"
     ]
    },
    {
     "name": "stderr",
     "output_type": "stream",
     "text": [
      "C:\\Users\\ruedi\\AppData\\Local\\Temp\\ipykernel_21156\\1400600094.py:43: FutureWarning: The frame.append method is deprecated and will be removed from pandas in a future version. Use pandas.concat instead.\n",
      "  df_assets = df_assets.append({'ticker': ticker,\n"
     ]
    },
    {
     "name": "stdout",
     "output_type": "stream",
     "text": [
      "LIN\n"
     ]
    },
    {
     "name": "stderr",
     "output_type": "stream",
     "text": [
      "C:\\Users\\ruedi\\AppData\\Local\\Temp\\ipykernel_21156\\1400600094.py:43: FutureWarning: The frame.append method is deprecated and will be removed from pandas in a future version. Use pandas.concat instead.\n",
      "  df_assets = df_assets.append({'ticker': ticker,\n"
     ]
    },
    {
     "name": "stdout",
     "output_type": "stream",
     "text": [
      "LISN\n",
      "- LISN: No summary info found, symbol may be delisted\n",
      "LLOY\n",
      "- LLOY: No summary info found, symbol may be delisted\n",
      "LMT\n"
     ]
    },
    {
     "name": "stderr",
     "output_type": "stream",
     "text": [
      "C:\\Users\\ruedi\\AppData\\Local\\Temp\\ipykernel_21156\\1400600094.py:43: FutureWarning: The frame.append method is deprecated and will be removed from pandas in a future version. Use pandas.concat instead.\n",
      "  df_assets = df_assets.append({'ticker': ticker,\n"
     ]
    },
    {
     "name": "stdout",
     "output_type": "stream",
     "text": [
      "LOGN\n"
     ]
    },
    {
     "name": "stderr",
     "output_type": "stream",
     "text": [
      "C:\\Users\\ruedi\\AppData\\Local\\Temp\\ipykernel_21156\\1400600094.py:43: FutureWarning: The frame.append method is deprecated and will be removed from pandas in a future version. Use pandas.concat instead.\n",
      "  df_assets = df_assets.append({'ticker': ticker,\n"
     ]
    },
    {
     "name": "stdout",
     "output_type": "stream",
     "text": [
      "LONN\n",
      "- LONN: No summary info found, symbol may be delisted\n",
      "LCID\n"
     ]
    },
    {
     "name": "stderr",
     "output_type": "stream",
     "text": [
      "C:\\Users\\ruedi\\AppData\\Local\\Temp\\ipykernel_21156\\1400600094.py:43: FutureWarning: The frame.append method is deprecated and will be removed from pandas in a future version. Use pandas.concat instead.\n",
      "  df_assets = df_assets.append({'ticker': ticker,\n"
     ]
    },
    {
     "name": "stdout",
     "output_type": "stream",
     "text": [
      "LHA\n",
      "- LHA: No summary info found, symbol may be delisted\n",
      "LULU\n"
     ]
    },
    {
     "name": "stderr",
     "output_type": "stream",
     "text": [
      "C:\\Users\\ruedi\\AppData\\Local\\Temp\\ipykernel_21156\\1400600094.py:43: FutureWarning: The frame.append method is deprecated and will be removed from pandas in a future version. Use pandas.concat instead.\n",
      "  df_assets = df_assets.append({'ticker': ticker,\n"
     ]
    },
    {
     "name": "stdout",
     "output_type": "stream",
     "text": [
      "LUKN\n",
      "- LUKN: No summary info found, symbol may be delisted\n",
      "MC\n"
     ]
    },
    {
     "name": "stderr",
     "output_type": "stream",
     "text": [
      "C:\\Users\\ruedi\\AppData\\Local\\Temp\\ipykernel_21156\\1400600094.py:43: FutureWarning: The frame.append method is deprecated and will be removed from pandas in a future version. Use pandas.concat instead.\n",
      "  df_assets = df_assets.append({'ticker': ticker,\n"
     ]
    },
    {
     "name": "stdout",
     "output_type": "stream",
     "text": [
      "MSGE\n"
     ]
    },
    {
     "name": "stderr",
     "output_type": "stream",
     "text": [
      "C:\\Users\\ruedi\\AppData\\Local\\Temp\\ipykernel_21156\\1400600094.py:43: FutureWarning: The frame.append method is deprecated and will be removed from pandas in a future version. Use pandas.concat instead.\n",
      "  df_assets = df_assets.append({'ticker': ticker,\n"
     ]
    },
    {
     "name": "stdout",
     "output_type": "stream",
     "text": [
      "MANU\n"
     ]
    },
    {
     "name": "stderr",
     "output_type": "stream",
     "text": [
      "C:\\Users\\ruedi\\AppData\\Local\\Temp\\ipykernel_21156\\1400600094.py:43: FutureWarning: The frame.append method is deprecated and will be removed from pandas in a future version. Use pandas.concat instead.\n",
      "  df_assets = df_assets.append({'ticker': ticker,\n"
     ]
    },
    {
     "name": "stdout",
     "output_type": "stream",
     "text": [
      "MKS\n"
     ]
    },
    {
     "name": "stderr",
     "output_type": "stream",
     "text": [
      "C:\\Users\\ruedi\\AppData\\Local\\Temp\\ipykernel_21156\\1400600094.py:43: FutureWarning: The frame.append method is deprecated and will be removed from pandas in a future version. Use pandas.concat instead.\n",
      "  df_assets = df_assets.append({'ticker': ticker,\n"
     ]
    },
    {
     "name": "stdout",
     "output_type": "stream",
     "text": [
      "MAR\n"
     ]
    },
    {
     "name": "stderr",
     "output_type": "stream",
     "text": [
      "C:\\Users\\ruedi\\AppData\\Local\\Temp\\ipykernel_21156\\1400600094.py:43: FutureWarning: The frame.append method is deprecated and will be removed from pandas in a future version. Use pandas.concat instead.\n",
      "  df_assets = df_assets.append({'ticker': ticker,\n"
     ]
    },
    {
     "name": "stdout",
     "output_type": "stream",
     "text": [
      "MA\n"
     ]
    },
    {
     "name": "stderr",
     "output_type": "stream",
     "text": [
      "C:\\Users\\ruedi\\AppData\\Local\\Temp\\ipykernel_21156\\1400600094.py:43: FutureWarning: The frame.append method is deprecated and will be removed from pandas in a future version. Use pandas.concat instead.\n",
      "  df_assets = df_assets.append({'ticker': ticker,\n"
     ]
    },
    {
     "name": "stdout",
     "output_type": "stream",
     "text": [
      "MTCH\n"
     ]
    },
    {
     "name": "stderr",
     "output_type": "stream",
     "text": [
      "C:\\Users\\ruedi\\AppData\\Local\\Temp\\ipykernel_21156\\1400600094.py:43: FutureWarning: The frame.append method is deprecated and will be removed from pandas in a future version. Use pandas.concat instead.\n",
      "  df_assets = df_assets.append({'ticker': ticker,\n"
     ]
    },
    {
     "name": "stdout",
     "output_type": "stream",
     "text": [
      "MCD\n"
     ]
    },
    {
     "name": "stderr",
     "output_type": "stream",
     "text": [
      "C:\\Users\\ruedi\\AppData\\Local\\Temp\\ipykernel_21156\\1400600094.py:43: FutureWarning: The frame.append method is deprecated and will be removed from pandas in a future version. Use pandas.concat instead.\n",
      "  df_assets = df_assets.append({'ticker': ticker,\n"
     ]
    },
    {
     "name": "stdout",
     "output_type": "stream",
     "text": [
      "MRK\n"
     ]
    },
    {
     "name": "stderr",
     "output_type": "stream",
     "text": [
      "C:\\Users\\ruedi\\AppData\\Local\\Temp\\ipykernel_21156\\1400600094.py:43: FutureWarning: The frame.append method is deprecated and will be removed from pandas in a future version. Use pandas.concat instead.\n",
      "  df_assets = df_assets.append({'ticker': ticker,\n"
     ]
    },
    {
     "name": "stdout",
     "output_type": "stream",
     "text": [
      "FB\n"
     ]
    },
    {
     "name": "stderr",
     "output_type": "stream",
     "text": [
      "C:\\Users\\ruedi\\AppData\\Local\\Temp\\ipykernel_21156\\1400600094.py:43: FutureWarning: The frame.append method is deprecated and will be removed from pandas in a future version. Use pandas.concat instead.\n",
      "  df_assets = df_assets.append({'ticker': ticker,\n"
     ]
    },
    {
     "name": "stdout",
     "output_type": "stream",
     "text": [
      "MU\n"
     ]
    },
    {
     "name": "stderr",
     "output_type": "stream",
     "text": [
      "C:\\Users\\ruedi\\AppData\\Local\\Temp\\ipykernel_21156\\1400600094.py:43: FutureWarning: The frame.append method is deprecated and will be removed from pandas in a future version. Use pandas.concat instead.\n",
      "  df_assets = df_assets.append({'ticker': ticker,\n"
     ]
    },
    {
     "name": "stdout",
     "output_type": "stream",
     "text": [
      "MSFT\n"
     ]
    },
    {
     "name": "stderr",
     "output_type": "stream",
     "text": [
      "C:\\Users\\ruedi\\AppData\\Local\\Temp\\ipykernel_21156\\1400600094.py:43: FutureWarning: The frame.append method is deprecated and will be removed from pandas in a future version. Use pandas.concat instead.\n",
      "  df_assets = df_assets.append({'ticker': ticker,\n"
     ]
    },
    {
     "name": "stdout",
     "output_type": "stream",
     "text": [
      "MRNA\n"
     ]
    },
    {
     "name": "stderr",
     "output_type": "stream",
     "text": [
      "C:\\Users\\ruedi\\AppData\\Local\\Temp\\ipykernel_21156\\1400600094.py:43: FutureWarning: The frame.append method is deprecated and will be removed from pandas in a future version. Use pandas.concat instead.\n",
      "  df_assets = df_assets.append({'ticker': ticker,\n"
     ]
    },
    {
     "name": "stdout",
     "output_type": "stream",
     "text": [
      "MONC\n",
      "- MONC: No summary info found, symbol may be delisted\n",
      "MDLZ\n"
     ]
    },
    {
     "name": "stderr",
     "output_type": "stream",
     "text": [
      "C:\\Users\\ruedi\\AppData\\Local\\Temp\\ipykernel_21156\\1400600094.py:43: FutureWarning: The frame.append method is deprecated and will be removed from pandas in a future version. Use pandas.concat instead.\n",
      "  df_assets = df_assets.append({'ticker': ticker,\n"
     ]
    },
    {
     "name": "stdout",
     "output_type": "stream",
     "text": [
      "MS\n"
     ]
    },
    {
     "name": "stderr",
     "output_type": "stream",
     "text": [
      "C:\\Users\\ruedi\\AppData\\Local\\Temp\\ipykernel_21156\\1400600094.py:43: FutureWarning: The frame.append method is deprecated and will be removed from pandas in a future version. Use pandas.concat instead.\n",
      "  df_assets = df_assets.append({'ticker': ticker,\n"
     ]
    },
    {
     "name": "stdout",
     "output_type": "stream",
     "text": [
      "MUV2\n",
      "- MUV2: No summary info found, symbol may be delisted\n",
      "NESN\n",
      "- NESN: No summary info found, symbol may be delisted\n",
      "NFLX\n"
     ]
    },
    {
     "name": "stderr",
     "output_type": "stream",
     "text": [
      "C:\\Users\\ruedi\\AppData\\Local\\Temp\\ipykernel_21156\\1400600094.py:43: FutureWarning: The frame.append method is deprecated and will be removed from pandas in a future version. Use pandas.concat instead.\n",
      "  df_assets = df_assets.append({'ticker': ticker,\n"
     ]
    },
    {
     "name": "stdout",
     "output_type": "stream",
     "text": [
      "NKE\n"
     ]
    },
    {
     "name": "stderr",
     "output_type": "stream",
     "text": [
      "C:\\Users\\ruedi\\AppData\\Local\\Temp\\ipykernel_21156\\1400600094.py:43: FutureWarning: The frame.append method is deprecated and will be removed from pandas in a future version. Use pandas.concat instead.\n",
      "  df_assets = df_assets.append({'ticker': ticker,\n"
     ]
    },
    {
     "name": "stdout",
     "output_type": "stream",
     "text": [
      "NKLA\n"
     ]
    },
    {
     "name": "stderr",
     "output_type": "stream",
     "text": [
      "C:\\Users\\ruedi\\AppData\\Local\\Temp\\ipykernel_21156\\1400600094.py:43: FutureWarning: The frame.append method is deprecated and will be removed from pandas in a future version. Use pandas.concat instead.\n",
      "  df_assets = df_assets.append({'ticker': ticker,\n"
     ]
    },
    {
     "name": "stdout",
     "output_type": "stream",
     "text": [
      "NCLH\n"
     ]
    },
    {
     "name": "stderr",
     "output_type": "stream",
     "text": [
      "C:\\Users\\ruedi\\AppData\\Local\\Temp\\ipykernel_21156\\1400600094.py:43: FutureWarning: The frame.append method is deprecated and will be removed from pandas in a future version. Use pandas.concat instead.\n",
      "  df_assets = df_assets.append({'ticker': ticker,\n"
     ]
    },
    {
     "name": "stdout",
     "output_type": "stream",
     "text": [
      "NOVN\n"
     ]
    },
    {
     "name": "stderr",
     "output_type": "stream",
     "text": [
      "C:\\Users\\ruedi\\AppData\\Local\\Temp\\ipykernel_21156\\1400600094.py:43: FutureWarning: The frame.append method is deprecated and will be removed from pandas in a future version. Use pandas.concat instead.\n",
      "  df_assets = df_assets.append({'ticker': ticker,\n"
     ]
    },
    {
     "name": "stdout",
     "output_type": "stream",
     "text": [
      "NVAX\n"
     ]
    },
    {
     "name": "stderr",
     "output_type": "stream",
     "text": [
      "C:\\Users\\ruedi\\AppData\\Local\\Temp\\ipykernel_21156\\1400600094.py:43: FutureWarning: The frame.append method is deprecated and will be removed from pandas in a future version. Use pandas.concat instead.\n",
      "  df_assets = df_assets.append({'ticker': ticker,\n"
     ]
    },
    {
     "name": "stdout",
     "output_type": "stream",
     "text": [
      "NVDA\n"
     ]
    },
    {
     "name": "stderr",
     "output_type": "stream",
     "text": [
      "C:\\Users\\ruedi\\AppData\\Local\\Temp\\ipykernel_21156\\1400600094.py:43: FutureWarning: The frame.append method is deprecated and will be removed from pandas in a future version. Use pandas.concat instead.\n",
      "  df_assets = df_assets.append({'ticker': ticker,\n"
     ]
    },
    {
     "name": "stdout",
     "output_type": "stream",
     "text": [
      "ORCL\n"
     ]
    },
    {
     "name": "stderr",
     "output_type": "stream",
     "text": [
      "C:\\Users\\ruedi\\AppData\\Local\\Temp\\ipykernel_21156\\1400600094.py:43: FutureWarning: The frame.append method is deprecated and will be removed from pandas in a future version. Use pandas.concat instead.\n",
      "  df_assets = df_assets.append({'ticker': ticker,\n"
     ]
    },
    {
     "name": "stdout",
     "output_type": "stream",
     "text": [
      "ORA\n"
     ]
    },
    {
     "name": "stderr",
     "output_type": "stream",
     "text": [
      "C:\\Users\\ruedi\\AppData\\Local\\Temp\\ipykernel_21156\\1400600094.py:43: FutureWarning: The frame.append method is deprecated and will be removed from pandas in a future version. Use pandas.concat instead.\n",
      "  df_assets = df_assets.append({'ticker': ticker,\n"
     ]
    },
    {
     "name": "stdout",
     "output_type": "stream",
     "text": [
      "PG\n"
     ]
    },
    {
     "name": "stderr",
     "output_type": "stream",
     "text": [
      "C:\\Users\\ruedi\\AppData\\Local\\Temp\\ipykernel_21156\\1400600094.py:43: FutureWarning: The frame.append method is deprecated and will be removed from pandas in a future version. Use pandas.concat instead.\n",
      "  df_assets = df_assets.append({'ticker': ticker,\n"
     ]
    },
    {
     "name": "stdout",
     "output_type": "stream",
     "text": [
      "PLTR\n"
     ]
    },
    {
     "name": "stderr",
     "output_type": "stream",
     "text": [
      "C:\\Users\\ruedi\\AppData\\Local\\Temp\\ipykernel_21156\\1400600094.py:43: FutureWarning: The frame.append method is deprecated and will be removed from pandas in a future version. Use pandas.concat instead.\n",
      "  df_assets = df_assets.append({'ticker': ticker,\n"
     ]
    },
    {
     "name": "stdout",
     "output_type": "stream",
     "text": [
      "PGHN\n",
      "- PGHN: No summary info found, symbol may be delisted\n",
      "PEP\n"
     ]
    },
    {
     "name": "stderr",
     "output_type": "stream",
     "text": [
      "C:\\Users\\ruedi\\AppData\\Local\\Temp\\ipykernel_21156\\1400600094.py:43: FutureWarning: The frame.append method is deprecated and will be removed from pandas in a future version. Use pandas.concat instead.\n",
      "  df_assets = df_assets.append({'ticker': ticker,\n"
     ]
    },
    {
     "name": "stdout",
     "output_type": "stream",
     "text": [
      "PFE\n"
     ]
    },
    {
     "name": "stderr",
     "output_type": "stream",
     "text": [
      "C:\\Users\\ruedi\\AppData\\Local\\Temp\\ipykernel_21156\\1400600094.py:43: FutureWarning: The frame.append method is deprecated and will be removed from pandas in a future version. Use pandas.concat instead.\n",
      "  df_assets = df_assets.append({'ticker': ticker,\n"
     ]
    },
    {
     "name": "stdout",
     "output_type": "stream",
     "text": [
      "PM\n"
     ]
    },
    {
     "name": "stderr",
     "output_type": "stream",
     "text": [
      "C:\\Users\\ruedi\\AppData\\Local\\Temp\\ipykernel_21156\\1400600094.py:43: FutureWarning: The frame.append method is deprecated and will be removed from pandas in a future version. Use pandas.concat instead.\n",
      "  df_assets = df_assets.append({'ticker': ticker,\n"
     ]
    },
    {
     "name": "stdout",
     "output_type": "stream",
     "text": [
      "PHIA\n",
      "- PHIA: No summary info found, symbol may be delisted\n",
      "PINS\n"
     ]
    },
    {
     "name": "stderr",
     "output_type": "stream",
     "text": [
      "C:\\Users\\ruedi\\AppData\\Local\\Temp\\ipykernel_21156\\1400600094.py:43: FutureWarning: The frame.append method is deprecated and will be removed from pandas in a future version. Use pandas.concat instead.\n",
      "  df_assets = df_assets.append({'ticker': ticker,\n"
     ]
    },
    {
     "name": "stdout",
     "output_type": "stream",
     "text": [
      "PLUG\n"
     ]
    },
    {
     "name": "stderr",
     "output_type": "stream",
     "text": [
      "C:\\Users\\ruedi\\AppData\\Local\\Temp\\ipykernel_21156\\1400600094.py:43: FutureWarning: The frame.append method is deprecated and will be removed from pandas in a future version. Use pandas.concat instead.\n",
      "  df_assets = df_assets.append({'ticker': ticker,\n"
     ]
    },
    {
     "name": "stdout",
     "output_type": "stream",
     "text": [
      "P911\n",
      "- P911: No summary info found, symbol may be delisted\n",
      "PUM\n",
      "- PUM: No summary info found, symbol may be delisted\n",
      "QCOM\n"
     ]
    },
    {
     "name": "stderr",
     "output_type": "stream",
     "text": [
      "C:\\Users\\ruedi\\AppData\\Local\\Temp\\ipykernel_21156\\1400600094.py:43: FutureWarning: The frame.append method is deprecated and will be removed from pandas in a future version. Use pandas.concat instead.\n",
      "  df_assets = df_assets.append({'ticker': ticker,\n"
     ]
    },
    {
     "name": "stdout",
     "output_type": "stream",
     "text": [
      "0\n",
      "- 0: No summary info found, symbol may be delisted\n",
      "RNO\n"
     ]
    },
    {
     "name": "stderr",
     "output_type": "stream",
     "text": [
      "C:\\Users\\ruedi\\AppData\\Local\\Temp\\ipykernel_21156\\1400600094.py:43: FutureWarning: The frame.append method is deprecated and will be removed from pandas in a future version. Use pandas.concat instead.\n",
      "  df_assets = df_assets.append({'ticker': ticker,\n"
     ]
    },
    {
     "name": "stdout",
     "output_type": "stream",
     "text": [
      "CFR\n"
     ]
    },
    {
     "name": "stderr",
     "output_type": "stream",
     "text": [
      "C:\\Users\\ruedi\\AppData\\Local\\Temp\\ipykernel_21156\\1400600094.py:43: FutureWarning: The frame.append method is deprecated and will be removed from pandas in a future version. Use pandas.concat instead.\n",
      "  df_assets = df_assets.append({'ticker': ticker,\n"
     ]
    },
    {
     "name": "stdout",
     "output_type": "stream",
     "text": [
      "RIO\n"
     ]
    },
    {
     "name": "stderr",
     "output_type": "stream",
     "text": [
      "C:\\Users\\ruedi\\AppData\\Local\\Temp\\ipykernel_21156\\1400600094.py:43: FutureWarning: The frame.append method is deprecated and will be removed from pandas in a future version. Use pandas.concat instead.\n",
      "  df_assets = df_assets.append({'ticker': ticker,\n"
     ]
    },
    {
     "name": "stdout",
     "output_type": "stream",
     "text": [
      "RIVN\n"
     ]
    },
    {
     "name": "stderr",
     "output_type": "stream",
     "text": [
      "C:\\Users\\ruedi\\AppData\\Local\\Temp\\ipykernel_21156\\1400600094.py:43: FutureWarning: The frame.append method is deprecated and will be removed from pandas in a future version. Use pandas.concat instead.\n",
      "  df_assets = df_assets.append({'ticker': ticker,\n"
     ]
    },
    {
     "name": "stdout",
     "output_type": "stream",
     "text": [
      "RBLX\n"
     ]
    },
    {
     "name": "stderr",
     "output_type": "stream",
     "text": [
      "C:\\Users\\ruedi\\AppData\\Local\\Temp\\ipykernel_21156\\1400600094.py:43: FutureWarning: The frame.append method is deprecated and will be removed from pandas in a future version. Use pandas.concat instead.\n",
      "  df_assets = df_assets.append({'ticker': ticker,\n"
     ]
    },
    {
     "name": "stdout",
     "output_type": "stream",
     "text": [
      "ROG\n"
     ]
    },
    {
     "name": "stderr",
     "output_type": "stream",
     "text": [
      "C:\\Users\\ruedi\\AppData\\Local\\Temp\\ipykernel_21156\\1400600094.py:43: FutureWarning: The frame.append method is deprecated and will be removed from pandas in a future version. Use pandas.concat instead.\n",
      "  df_assets = df_assets.append({'ticker': ticker,\n"
     ]
    },
    {
     "name": "stdout",
     "output_type": "stream",
     "text": [
      "ROKU\n"
     ]
    },
    {
     "name": "stderr",
     "output_type": "stream",
     "text": [
      "C:\\Users\\ruedi\\AppData\\Local\\Temp\\ipykernel_21156\\1400600094.py:43: FutureWarning: The frame.append method is deprecated and will be removed from pandas in a future version. Use pandas.concat instead.\n",
      "  df_assets = df_assets.append({'ticker': ticker,\n"
     ]
    },
    {
     "name": "stdout",
     "output_type": "stream",
     "text": [
      "RR/\n",
      "- RR: No summary info found, symbol may be delisted\n",
      "RWE\n",
      "- RWE: No summary info found, symbol may be delisted\n",
      "CRM\n"
     ]
    },
    {
     "name": "stderr",
     "output_type": "stream",
     "text": [
      "C:\\Users\\ruedi\\AppData\\Local\\Temp\\ipykernel_21156\\1400600094.py:43: FutureWarning: The frame.append method is deprecated and will be removed from pandas in a future version. Use pandas.concat instead.\n",
      "  df_assets = df_assets.append({'ticker': ticker,\n"
     ]
    },
    {
     "name": "stdout",
     "output_type": "stream",
     "text": [
      "SMSN\n"
     ]
    },
    {
     "name": "stderr",
     "output_type": "stream",
     "text": [
      "C:\\Users\\ruedi\\AppData\\Local\\Temp\\ipykernel_21156\\1400600094.py:43: FutureWarning: The frame.append method is deprecated and will be removed from pandas in a future version. Use pandas.concat instead.\n",
      "  df_assets = df_assets.append({'ticker': ticker,\n"
     ]
    },
    {
     "name": "stdout",
     "output_type": "stream",
     "text": [
      "SANO\n",
      "- SANO: No summary info found, symbol may be delisted\n",
      "SANT\n"
     ]
    },
    {
     "name": "stderr",
     "output_type": "stream",
     "text": [
      "C:\\Users\\ruedi\\AppData\\Local\\Temp\\ipykernel_21156\\1400600094.py:43: FutureWarning: The frame.append method is deprecated and will be removed from pandas in a future version. Use pandas.concat instead.\n",
      "  df_assets = df_assets.append({'ticker': ticker,\n"
     ]
    },
    {
     "name": "stdout",
     "output_type": "stream",
     "text": [
      "SAP\n"
     ]
    },
    {
     "name": "stderr",
     "output_type": "stream",
     "text": [
      "C:\\Users\\ruedi\\AppData\\Local\\Temp\\ipykernel_21156\\1400600094.py:43: FutureWarning: The frame.append method is deprecated and will be removed from pandas in a future version. Use pandas.concat instead.\n",
      "  df_assets = df_assets.append({'ticker': ticker,\n"
     ]
    },
    {
     "name": "stdout",
     "output_type": "stream",
     "text": [
      "SCHN\n"
     ]
    },
    {
     "name": "stderr",
     "output_type": "stream",
     "text": [
      "C:\\Users\\ruedi\\AppData\\Local\\Temp\\ipykernel_21156\\1400600094.py:43: FutureWarning: The frame.append method is deprecated and will be removed from pandas in a future version. Use pandas.concat instead.\n",
      "  df_assets = df_assets.append({'ticker': ticker,\n"
     ]
    },
    {
     "name": "stdout",
     "output_type": "stream",
     "text": [
      "SGSN\n",
      "- SGSN: No summary info found, symbol may be delisted\n",
      "RDSA\n",
      "- RDSA: No summary info found, symbol may be delisted\n",
      "SHOP\n"
     ]
    },
    {
     "name": "stderr",
     "output_type": "stream",
     "text": [
      "C:\\Users\\ruedi\\AppData\\Local\\Temp\\ipykernel_21156\\1400600094.py:43: FutureWarning: The frame.append method is deprecated and will be removed from pandas in a future version. Use pandas.concat instead.\n",
      "  df_assets = df_assets.append({'ticker': ticker,\n"
     ]
    },
    {
     "name": "stdout",
     "output_type": "stream",
     "text": [
      "SIE\n"
     ]
    },
    {
     "name": "stderr",
     "output_type": "stream",
     "text": [
      "C:\\Users\\ruedi\\AppData\\Local\\Temp\\ipykernel_21156\\1400600094.py:43: FutureWarning: The frame.append method is deprecated and will be removed from pandas in a future version. Use pandas.concat instead.\n",
      "  df_assets = df_assets.append({'ticker': ticker,\n"
     ]
    },
    {
     "name": "stdout",
     "output_type": "stream",
     "text": [
      "SIKA\n",
      "- SIKA: No summary info found, symbol may be delisted\n",
      "SNAP\n"
     ]
    },
    {
     "name": "stderr",
     "output_type": "stream",
     "text": [
      "C:\\Users\\ruedi\\AppData\\Local\\Temp\\ipykernel_21156\\1400600094.py:43: FutureWarning: The frame.append method is deprecated and will be removed from pandas in a future version. Use pandas.concat instead.\n",
      "  df_assets = df_assets.append({'ticker': ticker,\n"
     ]
    },
    {
     "name": "stdout",
     "output_type": "stream",
     "text": [
      "SNOW\n"
     ]
    },
    {
     "name": "stderr",
     "output_type": "stream",
     "text": [
      "C:\\Users\\ruedi\\AppData\\Local\\Temp\\ipykernel_21156\\1400600094.py:43: FutureWarning: The frame.append method is deprecated and will be removed from pandas in a future version. Use pandas.concat instead.\n",
      "  df_assets = df_assets.append({'ticker': ticker,\n"
     ]
    },
    {
     "name": "stdout",
     "output_type": "stream",
     "text": [
      "GLE\n"
     ]
    },
    {
     "name": "stderr",
     "output_type": "stream",
     "text": [
      "C:\\Users\\ruedi\\AppData\\Local\\Temp\\ipykernel_21156\\1400600094.py:43: FutureWarning: The frame.append method is deprecated and will be removed from pandas in a future version. Use pandas.concat instead.\n",
      "  df_assets = df_assets.append({'ticker': ticker,\n"
     ]
    },
    {
     "name": "stdout",
     "output_type": "stream",
     "text": [
      "SOON\n"
     ]
    },
    {
     "name": "stderr",
     "output_type": "stream",
     "text": [
      "C:\\Users\\ruedi\\AppData\\Local\\Temp\\ipykernel_21156\\1400600094.py:43: FutureWarning: The frame.append method is deprecated and will be removed from pandas in a future version. Use pandas.concat instead.\n",
      "  df_assets = df_assets.append({'ticker': ticker,\n"
     ]
    },
    {
     "name": "stdout",
     "output_type": "stream",
     "text": [
      "SNE\n",
      "- SNE: No summary info found, symbol may be delisted\n",
      "SGKN\n",
      "- SGKN: No summary info found, symbol may be delisted\n",
      "SRAIL\n",
      "- SRAIL: No summary info found, symbol may be delisted\n",
      "SBUX\n"
     ]
    },
    {
     "name": "stderr",
     "output_type": "stream",
     "text": [
      "C:\\Users\\ruedi\\AppData\\Local\\Temp\\ipykernel_21156\\1400600094.py:43: FutureWarning: The frame.append method is deprecated and will be removed from pandas in a future version. Use pandas.concat instead.\n",
      "  df_assets = df_assets.append({'ticker': ticker,\n"
     ]
    },
    {
     "name": "stdout",
     "output_type": "stream",
     "text": [
      "STLA\n"
     ]
    },
    {
     "name": "stderr",
     "output_type": "stream",
     "text": [
      "C:\\Users\\ruedi\\AppData\\Local\\Temp\\ipykernel_21156\\1400600094.py:43: FutureWarning: The frame.append method is deprecated and will be removed from pandas in a future version. Use pandas.concat instead.\n",
      "  df_assets = df_assets.append({'ticker': ticker,\n"
     ]
    },
    {
     "name": "stdout",
     "output_type": "stream",
     "text": [
      "STMN\n",
      "- STMN: No summary info found, symbol may be delisted\n",
      "SUN\n"
     ]
    },
    {
     "name": "stderr",
     "output_type": "stream",
     "text": [
      "C:\\Users\\ruedi\\AppData\\Local\\Temp\\ipykernel_21156\\1400600094.py:43: FutureWarning: The frame.append method is deprecated and will be removed from pandas in a future version. Use pandas.concat instead.\n",
      "  df_assets = df_assets.append({'ticker': ticker,\n"
     ]
    },
    {
     "name": "stdout",
     "output_type": "stream",
     "text": [
      "UHR\n",
      "- UHR: No summary info found, symbol may be delisted\n",
      "SLHN\n"
     ]
    },
    {
     "name": "stderr",
     "output_type": "stream",
     "text": [
      "C:\\Users\\ruedi\\AppData\\Local\\Temp\\ipykernel_21156\\1400600094.py:43: FutureWarning: The frame.append method is deprecated and will be removed from pandas in a future version. Use pandas.concat instead.\n",
      "  df_assets = df_assets.append({'ticker': ticker,\n"
     ]
    },
    {
     "name": "stdout",
     "output_type": "stream",
     "text": [
      "SREN\n"
     ]
    },
    {
     "name": "stderr",
     "output_type": "stream",
     "text": [
      "C:\\Users\\ruedi\\AppData\\Local\\Temp\\ipykernel_21156\\1400600094.py:43: FutureWarning: The frame.append method is deprecated and will be removed from pandas in a future version. Use pandas.concat instead.\n",
      "  df_assets = df_assets.append({'ticker': ticker,\n"
     ]
    },
    {
     "name": "stdout",
     "output_type": "stream",
     "text": [
      "SCMN\n",
      "- SCMN: No summary info found, symbol may be delisted\n",
      "SQN\n",
      "- SQN: No summary info found, symbol may be delisted\n",
      "TTWO\n"
     ]
    },
    {
     "name": "stderr",
     "output_type": "stream",
     "text": [
      "C:\\Users\\ruedi\\AppData\\Local\\Temp\\ipykernel_21156\\1400600094.py:43: FutureWarning: The frame.append method is deprecated and will be removed from pandas in a future version. Use pandas.concat instead.\n",
      "  df_assets = df_assets.append({'ticker': ticker,\n"
     ]
    },
    {
     "name": "stdout",
     "output_type": "stream",
     "text": [
      "TGT\n"
     ]
    },
    {
     "name": "stderr",
     "output_type": "stream",
     "text": [
      "C:\\Users\\ruedi\\AppData\\Local\\Temp\\ipykernel_21156\\1400600094.py:43: FutureWarning: The frame.append method is deprecated and will be removed from pandas in a future version. Use pandas.concat instead.\n",
      "  df_assets = df_assets.append({'ticker': ticker,\n"
     ]
    },
    {
     "name": "stdout",
     "output_type": "stream",
     "text": [
      "TTM\n"
     ]
    },
    {
     "name": "stderr",
     "output_type": "stream",
     "text": [
      "C:\\Users\\ruedi\\AppData\\Local\\Temp\\ipykernel_21156\\1400600094.py:43: FutureWarning: The frame.append method is deprecated and will be removed from pandas in a future version. Use pandas.concat instead.\n",
      "  df_assets = df_assets.append({'ticker': ticker,\n"
     ]
    },
    {
     "name": "stdout",
     "output_type": "stream",
     "text": [
      "TMV\n"
     ]
    },
    {
     "name": "stderr",
     "output_type": "stream",
     "text": [
      "C:\\Users\\ruedi\\AppData\\Local\\Temp\\ipykernel_21156\\1400600094.py:43: FutureWarning: The frame.append method is deprecated and will be removed from pandas in a future version. Use pandas.concat instead.\n",
      "  df_assets = df_assets.append({'ticker': ticker,\n"
     ]
    },
    {
     "name": "stdout",
     "output_type": "stream",
     "text": [
      "TEMN\n"
     ]
    },
    {
     "name": "stderr",
     "output_type": "stream",
     "text": [
      "C:\\Users\\ruedi\\AppData\\Local\\Temp\\ipykernel_21156\\1400600094.py:43: FutureWarning: The frame.append method is deprecated and will be removed from pandas in a future version. Use pandas.concat instead.\n",
      "  df_assets = df_assets.append({'ticker': ticker,\n"
     ]
    },
    {
     "name": "stdout",
     "output_type": "stream",
     "text": [
      "TSCO\n"
     ]
    },
    {
     "name": "stderr",
     "output_type": "stream",
     "text": [
      "C:\\Users\\ruedi\\AppData\\Local\\Temp\\ipykernel_21156\\1400600094.py:43: FutureWarning: The frame.append method is deprecated and will be removed from pandas in a future version. Use pandas.concat instead.\n",
      "  df_assets = df_assets.append({'ticker': ticker,\n"
     ]
    },
    {
     "name": "stdout",
     "output_type": "stream",
     "text": [
      "TSLA\n"
     ]
    },
    {
     "name": "stderr",
     "output_type": "stream",
     "text": [
      "C:\\Users\\ruedi\\AppData\\Local\\Temp\\ipykernel_21156\\1400600094.py:43: FutureWarning: The frame.append method is deprecated and will be removed from pandas in a future version. Use pandas.concat instead.\n",
      "  df_assets = df_assets.append({'ticker': ticker,\n"
     ]
    },
    {
     "name": "stdout",
     "output_type": "stream",
     "text": [
      "TKA\n"
     ]
    },
    {
     "name": "stderr",
     "output_type": "stream",
     "text": [
      "C:\\Users\\ruedi\\AppData\\Local\\Temp\\ipykernel_21156\\1400600094.py:43: FutureWarning: The frame.append method is deprecated and will be removed from pandas in a future version. Use pandas.concat instead.\n",
      "  df_assets = df_assets.append({'ticker': ticker,\n"
     ]
    },
    {
     "name": "stdout",
     "output_type": "stream",
     "text": [
      "TTE\n"
     ]
    },
    {
     "name": "stderr",
     "output_type": "stream",
     "text": [
      "C:\\Users\\ruedi\\AppData\\Local\\Temp\\ipykernel_21156\\1400600094.py:43: FutureWarning: The frame.append method is deprecated and will be removed from pandas in a future version. Use pandas.concat instead.\n",
      "  df_assets = df_assets.append({'ticker': ticker,\n"
     ]
    },
    {
     "name": "stdout",
     "output_type": "stream",
     "text": [
      "TM\n"
     ]
    },
    {
     "name": "stderr",
     "output_type": "stream",
     "text": [
      "C:\\Users\\ruedi\\AppData\\Local\\Temp\\ipykernel_21156\\1400600094.py:43: FutureWarning: The frame.append method is deprecated and will be removed from pandas in a future version. Use pandas.concat instead.\n",
      "  df_assets = df_assets.append({'ticker': ticker,\n"
     ]
    },
    {
     "name": "stdout",
     "output_type": "stream",
     "text": [
      "TUI1\n",
      "- TUI1: No summary info found, symbol may be delisted\n",
      "UBER\n"
     ]
    },
    {
     "name": "stderr",
     "output_type": "stream",
     "text": [
      "C:\\Users\\ruedi\\AppData\\Local\\Temp\\ipykernel_21156\\1400600094.py:43: FutureWarning: The frame.append method is deprecated and will be removed from pandas in a future version. Use pandas.concat instead.\n",
      "  df_assets = df_assets.append({'ticker': ticker,\n"
     ]
    },
    {
     "name": "stdout",
     "output_type": "stream",
     "text": [
      "UBI\n"
     ]
    },
    {
     "name": "stderr",
     "output_type": "stream",
     "text": [
      "C:\\Users\\ruedi\\AppData\\Local\\Temp\\ipykernel_21156\\1400600094.py:43: FutureWarning: The frame.append method is deprecated and will be removed from pandas in a future version. Use pandas.concat instead.\n",
      "  df_assets = df_assets.append({'ticker': ticker,\n"
     ]
    },
    {
     "name": "stdout",
     "output_type": "stream",
     "text": [
      "UBSG\n",
      "- UBSG: No summary info found, symbol may be delisted\n",
      "UAA\n"
     ]
    },
    {
     "name": "stderr",
     "output_type": "stream",
     "text": [
      "C:\\Users\\ruedi\\AppData\\Local\\Temp\\ipykernel_21156\\1400600094.py:43: FutureWarning: The frame.append method is deprecated and will be removed from pandas in a future version. Use pandas.concat instead.\n",
      "  df_assets = df_assets.append({'ticker': ticker,\n"
     ]
    },
    {
     "name": "stdout",
     "output_type": "stream",
     "text": [
      "ULVR\n",
      "- ULVR: No summary info found, symbol may be delisted\n",
      "UPS\n"
     ]
    },
    {
     "name": "stderr",
     "output_type": "stream",
     "text": [
      "C:\\Users\\ruedi\\AppData\\Local\\Temp\\ipykernel_21156\\1400600094.py:43: FutureWarning: The frame.append method is deprecated and will be removed from pandas in a future version. Use pandas.concat instead.\n",
      "  df_assets = df_assets.append({'ticker': ticker,\n"
     ]
    },
    {
     "name": "stdout",
     "output_type": "stream",
     "text": [
      "VALE\n"
     ]
    },
    {
     "name": "stderr",
     "output_type": "stream",
     "text": [
      "C:\\Users\\ruedi\\AppData\\Local\\Temp\\ipykernel_21156\\1400600094.py:43: FutureWarning: The frame.append method is deprecated and will be removed from pandas in a future version. Use pandas.concat instead.\n",
      "  df_assets = df_assets.append({'ticker': ticker,\n"
     ]
    },
    {
     "name": "stdout",
     "output_type": "stream",
     "text": [
      "VATN\n",
      "- VATN: No summary info found, symbol may be delisted\n",
      "VALN\n"
     ]
    },
    {
     "name": "stderr",
     "output_type": "stream",
     "text": [
      "C:\\Users\\ruedi\\AppData\\Local\\Temp\\ipykernel_21156\\1400600094.py:43: FutureWarning: The frame.append method is deprecated and will be removed from pandas in a future version. Use pandas.concat instead.\n",
      "  df_assets = df_assets.append({'ticker': ticker,\n"
     ]
    },
    {
     "name": "stdout",
     "output_type": "stream",
     "text": [
      "VACN\n",
      "- VACN: No summary info found, symbol may be delisted\n",
      "VIE\n",
      "- VIE: No summary info found, symbol may be delisted\n",
      "VZ\n"
     ]
    },
    {
     "name": "stderr",
     "output_type": "stream",
     "text": [
      "C:\\Users\\ruedi\\AppData\\Local\\Temp\\ipykernel_21156\\1400600094.py:43: FutureWarning: The frame.append method is deprecated and will be removed from pandas in a future version. Use pandas.concat instead.\n",
      "  df_assets = df_assets.append({'ticker': ticker,\n"
     ]
    },
    {
     "name": "stdout",
     "output_type": "stream",
     "text": [
      "SPCE\n"
     ]
    },
    {
     "name": "stderr",
     "output_type": "stream",
     "text": [
      "C:\\Users\\ruedi\\AppData\\Local\\Temp\\ipykernel_21156\\1400600094.py:43: FutureWarning: The frame.append method is deprecated and will be removed from pandas in a future version. Use pandas.concat instead.\n",
      "  df_assets = df_assets.append({'ticker': ticker,\n"
     ]
    },
    {
     "name": "stdout",
     "output_type": "stream",
     "text": [
      "VIV\n"
     ]
    },
    {
     "name": "stderr",
     "output_type": "stream",
     "text": [
      "C:\\Users\\ruedi\\AppData\\Local\\Temp\\ipykernel_21156\\1400600094.py:43: FutureWarning: The frame.append method is deprecated and will be removed from pandas in a future version. Use pandas.concat instead.\n",
      "  df_assets = df_assets.append({'ticker': ticker,\n"
     ]
    },
    {
     "name": "stdout",
     "output_type": "stream",
     "text": [
      "VOD\n"
     ]
    },
    {
     "name": "stderr",
     "output_type": "stream",
     "text": [
      "C:\\Users\\ruedi\\AppData\\Local\\Temp\\ipykernel_21156\\1400600094.py:43: FutureWarning: The frame.append method is deprecated and will be removed from pandas in a future version. Use pandas.concat instead.\n",
      "  df_assets = df_assets.append({'ticker': ticker,\n"
     ]
    },
    {
     "name": "stdout",
     "output_type": "stream",
     "text": [
      "VOW\n",
      "- VOW: No summary info found, symbol may be delisted\n",
      "VONN\n",
      "- VONN: No summary info found, symbol may be delisted\n",
      "WMT\n"
     ]
    },
    {
     "name": "stderr",
     "output_type": "stream",
     "text": [
      "C:\\Users\\ruedi\\AppData\\Local\\Temp\\ipykernel_21156\\1400600094.py:43: FutureWarning: The frame.append method is deprecated and will be removed from pandas in a future version. Use pandas.concat instead.\n",
      "  df_assets = df_assets.append({'ticker': ticker,\n"
     ]
    },
    {
     "name": "stdout",
     "output_type": "stream",
     "text": [
      "DIS\n"
     ]
    },
    {
     "name": "stderr",
     "output_type": "stream",
     "text": [
      "C:\\Users\\ruedi\\AppData\\Local\\Temp\\ipykernel_21156\\1400600094.py:43: FutureWarning: The frame.append method is deprecated and will be removed from pandas in a future version. Use pandas.concat instead.\n",
      "  df_assets = df_assets.append({'ticker': ticker,\n"
     ]
    },
    {
     "name": "stdout",
     "output_type": "stream",
     "text": [
      "WBD\n"
     ]
    },
    {
     "name": "stderr",
     "output_type": "stream",
     "text": [
      "C:\\Users\\ruedi\\AppData\\Local\\Temp\\ipykernel_21156\\1400600094.py:43: FutureWarning: The frame.append method is deprecated and will be removed from pandas in a future version. Use pandas.concat instead.\n",
      "  df_assets = df_assets.append({'ticker': ticker,\n"
     ]
    },
    {
     "name": "stdout",
     "output_type": "stream",
     "text": [
      "WISE\n",
      "- WISE: No summary info found, symbol may be delisted\n",
      "WISH\n"
     ]
    },
    {
     "name": "stderr",
     "output_type": "stream",
     "text": [
      "C:\\Users\\ruedi\\AppData\\Local\\Temp\\ipykernel_21156\\1400600094.py:43: FutureWarning: The frame.append method is deprecated and will be removed from pandas in a future version. Use pandas.concat instead.\n",
      "  df_assets = df_assets.append({'ticker': ticker,\n"
     ]
    },
    {
     "name": "stdout",
     "output_type": "stream",
     "text": [
      "WWE\n"
     ]
    },
    {
     "name": "stderr",
     "output_type": "stream",
     "text": [
      "C:\\Users\\ruedi\\AppData\\Local\\Temp\\ipykernel_21156\\1400600094.py:43: FutureWarning: The frame.append method is deprecated and will be removed from pandas in a future version. Use pandas.concat instead.\n",
      "  df_assets = df_assets.append({'ticker': ticker,\n"
     ]
    },
    {
     "name": "stdout",
     "output_type": "stream",
     "text": [
      "WW\n"
     ]
    },
    {
     "name": "stderr",
     "output_type": "stream",
     "text": [
      "C:\\Users\\ruedi\\AppData\\Local\\Temp\\ipykernel_21156\\1400600094.py:43: FutureWarning: The frame.append method is deprecated and will be removed from pandas in a future version. Use pandas.concat instead.\n",
      "  df_assets = df_assets.append({'ticker': ticker,\n"
     ]
    },
    {
     "name": "stdout",
     "output_type": "stream",
     "text": [
      "YUM\n"
     ]
    },
    {
     "name": "stderr",
     "output_type": "stream",
     "text": [
      "C:\\Users\\ruedi\\AppData\\Local\\Temp\\ipykernel_21156\\1400600094.py:43: FutureWarning: The frame.append method is deprecated and will be removed from pandas in a future version. Use pandas.concat instead.\n",
      "  df_assets = df_assets.append({'ticker': ticker,\n"
     ]
    },
    {
     "name": "stdout",
     "output_type": "stream",
     "text": [
      "ZAL\n",
      "- ZAL: No summary info found, symbol may be delisted\n",
      "ITX\n"
     ]
    },
    {
     "name": "stderr",
     "output_type": "stream",
     "text": [
      "C:\\Users\\ruedi\\AppData\\Local\\Temp\\ipykernel_21156\\1400600094.py:43: FutureWarning: The frame.append method is deprecated and will be removed from pandas in a future version. Use pandas.concat instead.\n",
      "  df_assets = df_assets.append({'ticker': ticker,\n"
     ]
    },
    {
     "name": "stdout",
     "output_type": "stream",
     "text": [
      "ZM\n"
     ]
    },
    {
     "name": "stderr",
     "output_type": "stream",
     "text": [
      "C:\\Users\\ruedi\\AppData\\Local\\Temp\\ipykernel_21156\\1400600094.py:43: FutureWarning: The frame.append method is deprecated and will be removed from pandas in a future version. Use pandas.concat instead.\n",
      "  df_assets = df_assets.append({'ticker': ticker,\n"
     ]
    },
    {
     "name": "stdout",
     "output_type": "stream",
     "text": [
      "ROSE\n"
     ]
    },
    {
     "name": "stderr",
     "output_type": "stream",
     "text": [
      "C:\\Users\\ruedi\\AppData\\Local\\Temp\\ipykernel_21156\\1400600094.py:43: FutureWarning: The frame.append method is deprecated and will be removed from pandas in a future version. Use pandas.concat instead.\n",
      "  df_assets = df_assets.append({'ticker': ticker,\n"
     ]
    },
    {
     "name": "stdout",
     "output_type": "stream",
     "text": [
      "ZURN\n",
      "- ZURN: No summary info found, symbol may be delisted\n",
      "ZNGA\n",
      "- ZNGA: No summary info found, symbol may be delisted\n",
      "XMKA\n",
      "- XMKA: No summary info found, symbol may be delisted\n",
      "CSEMAS\n",
      "- CSEMAS: No summary info found, symbol may be delisted\n",
      "SAUS\n"
     ]
    },
    {
     "name": "stderr",
     "output_type": "stream",
     "text": [
      "C:\\Users\\ruedi\\AppData\\Local\\Temp\\ipykernel_21156\\1400600094.py:43: FutureWarning: The frame.append method is deprecated and will be removed from pandas in a future version. Use pandas.concat instead.\n",
      "  df_assets = df_assets.append({'ticker': ticker,\n"
     ]
    },
    {
     "name": "stdout",
     "output_type": "stream",
     "text": [
      "XMBR\n",
      "- XMBR: No summary info found, symbol may be delisted\n",
      "CANCDA\n",
      "- CANCDA: No summary info found, symbol may be delisted\n",
      "XCHA\n",
      "- XCHA: No summary info found, symbol may be delisted\n",
      "MSE\n",
      "- MSE: No summary info found, symbol may be delisted\n",
      "SPYW\n"
     ]
    },
    {
     "name": "stderr",
     "output_type": "stream",
     "text": [
      "C:\\Users\\ruedi\\AppData\\Local\\Temp\\ipykernel_21156\\1400600094.py:43: FutureWarning: The frame.append method is deprecated and will be removed from pandas in a future version. Use pandas.concat instead.\n",
      "  df_assets = df_assets.append({'ticker': ticker,\n"
     ]
    },
    {
     "name": "stdout",
     "output_type": "stream",
     "text": [
      "CAC\n"
     ]
    },
    {
     "name": "stderr",
     "output_type": "stream",
     "text": [
      "C:\\Users\\ruedi\\AppData\\Local\\Temp\\ipykernel_21156\\1400600094.py:43: FutureWarning: The frame.append method is deprecated and will be removed from pandas in a future version. Use pandas.concat instead.\n",
      "  df_assets = df_assets.append({'ticker': ticker,\n"
     ]
    },
    {
     "name": "stdout",
     "output_type": "stream",
     "text": [
      "XDAX\n",
      "- XDAX: No summary info found, symbol may be delisted\n",
      "IWDC\n",
      "- IWDC: No summary info found, symbol may be delisted\n",
      "VWRD\n"
     ]
    },
    {
     "name": "stderr",
     "output_type": "stream",
     "text": [
      "C:\\Users\\ruedi\\AppData\\Local\\Temp\\ipykernel_21156\\1400600094.py:43: FutureWarning: The frame.append method is deprecated and will be removed from pandas in a future version. Use pandas.concat instead.\n",
      "  df_assets = df_assets.append({'ticker': ticker,\n"
     ]
    },
    {
     "name": "stdout",
     "output_type": "stream",
     "text": [
      "VHYL\n"
     ]
    },
    {
     "name": "stderr",
     "output_type": "stream",
     "text": [
      "C:\\Users\\ruedi\\AppData\\Local\\Temp\\ipykernel_21156\\1400600094.py:43: FutureWarning: The frame.append method is deprecated and will be removed from pandas in a future version. Use pandas.concat instead.\n",
      "  df_assets = df_assets.append({'ticker': ticker,\n"
     ]
    },
    {
     "name": "stdout",
     "output_type": "stream",
     "text": [
      "INFR\n"
     ]
    },
    {
     "name": "stderr",
     "output_type": "stream",
     "text": [
      "C:\\Users\\ruedi\\AppData\\Local\\Temp\\ipykernel_21156\\1400600094.py:43: FutureWarning: The frame.append method is deprecated and will be removed from pandas in a future version. Use pandas.concat instead.\n",
      "  df_assets = df_assets.append({'ticker': ticker,\n"
     ]
    },
    {
     "name": "stdout",
     "output_type": "stream",
     "text": [
      "MVSH\n",
      "- MVSH: No summary info found, symbol may be delisted\n",
      "IWMO\n",
      "- IWMO: No summary info found, symbol may be delisted\n",
      "ZGLD\n",
      "- ZGLD: No summary info found, symbol may be delisted\n",
      "CSMIB\n",
      "- CSMIB: No summary info found, symbol may be delisted\n",
      "XNJP\n",
      "- XNJP: No summary info found, symbol may be delisted\n",
      "AMEL\n"
     ]
    },
    {
     "name": "stderr",
     "output_type": "stream",
     "text": [
      "C:\\Users\\ruedi\\AppData\\Local\\Temp\\ipykernel_21156\\1400600094.py:43: FutureWarning: The frame.append method is deprecated and will be removed from pandas in a future version. Use pandas.concat instead.\n",
      "  df_assets = df_assets.append({'ticker': ticker,\n"
     ]
    },
    {
     "name": "stdout",
     "output_type": "stream",
     "text": [
      "EQQQ\n",
      "- EQQQ: No summary info found, symbol may be delisted\n",
      "XDNO\n",
      "- XDNO: No summary info found, symbol may be delisted\n",
      "CSPXJ\n",
      "- CSPXJ: No summary info found, symbol may be delisted\n",
      "ZSIL\n",
      "- ZSIL: No summary info found, symbol may be delisted\n",
      "XESP\n"
     ]
    },
    {
     "name": "stderr",
     "output_type": "stream",
     "text": [
      "C:\\Users\\ruedi\\AppData\\Local\\Temp\\ipykernel_21156\\1400600094.py:43: FutureWarning: The frame.append method is deprecated and will be removed from pandas in a future version. Use pandas.concat instead.\n",
      "  df_assets = df_assets.append({'ticker': ticker,\n"
     ]
    },
    {
     "name": "stdout",
     "output_type": "stream",
     "text": [
      "CSSMI\n",
      "- CSSMI: No summary info found, symbol may be delisted\n",
      "CHDVD\n",
      "- CHDVD: No summary info found, symbol may be delisted\n",
      "CHSPI\n",
      "- CHSPI: No summary info found, symbol may be delisted\n",
      "SRECHA\n",
      "- SRECHA: No summary info found, symbol may be delisted\n",
      "VUSD\n"
     ]
    },
    {
     "name": "stderr",
     "output_type": "stream",
     "text": [
      "C:\\Users\\ruedi\\AppData\\Local\\Temp\\ipykernel_21156\\1400600094.py:43: FutureWarning: The frame.append method is deprecated and will be removed from pandas in a future version. Use pandas.concat instead.\n",
      "  df_assets = df_assets.append({'ticker': ticker,\n"
     ]
    },
    {
     "name": "stdout",
     "output_type": "stream",
     "text": [
      "XDGU\n",
      "- XDGU: No summary info found, symbol may be delisted\n",
      "XLFS\n"
     ]
    },
    {
     "name": "stderr",
     "output_type": "stream",
     "text": [
      "C:\\Users\\ruedi\\AppData\\Local\\Temp\\ipykernel_21156\\1400600094.py:43: FutureWarning: The frame.append method is deprecated and will be removed from pandas in a future version. Use pandas.concat instead.\n",
      "  df_assets = df_assets.append({'ticker': ticker,\n"
     ]
    },
    {
     "name": "stdout",
     "output_type": "stream",
     "text": [
      "SXLV\n"
     ]
    },
    {
     "name": "stderr",
     "output_type": "stream",
     "text": [
      "C:\\Users\\ruedi\\AppData\\Local\\Temp\\ipykernel_21156\\1400600094.py:43: FutureWarning: The frame.append method is deprecated and will be removed from pandas in a future version. Use pandas.concat instead.\n",
      "  df_assets = df_assets.append({'ticker': ticker,\n"
     ]
    },
    {
     "name": "stdout",
     "output_type": "stream",
     "text": [
      "UDVD\n",
      "- UDVD: No summary info found, symbol may be delisted\n",
      "XLBS\n"
     ]
    },
    {
     "name": "stderr",
     "output_type": "stream",
     "text": [
      "C:\\Users\\ruedi\\AppData\\Local\\Temp\\ipykernel_21156\\1400600094.py:43: FutureWarning: The frame.append method is deprecated and will be removed from pandas in a future version. Use pandas.concat instead.\n",
      "  df_assets = df_assets.append({'ticker': ticker,\n"
     ]
    },
    {
     "name": "stdout",
     "output_type": "stream",
     "text": [
      "SXLK\n"
     ]
    },
    {
     "name": "stderr",
     "output_type": "stream",
     "text": [
      "C:\\Users\\ruedi\\AppData\\Local\\Temp\\ipykernel_21156\\1400600094.py:43: FutureWarning: The frame.append method is deprecated and will be removed from pandas in a future version. Use pandas.concat instead.\n",
      "  df_assets = df_assets.append({'ticker': ticker,\n"
     ]
    },
    {
     "name": "stdout",
     "output_type": "stream",
     "text": [
      "VUKE\n"
     ]
    },
    {
     "name": "stderr",
     "output_type": "stream",
     "text": [
      "C:\\Users\\ruedi\\AppData\\Local\\Temp\\ipykernel_21156\\1400600094.py:43: FutureWarning: The frame.append method is deprecated and will be removed from pandas in a future version. Use pandas.concat instead.\n",
      "  df_assets = df_assets.append({'ticker': ticker,\n"
     ]
    }
   ],
   "source": [
    "## Create Tables\n",
    "table_name = 'daily_prices'\n",
    "c.execute(f\"\"\"\n",
    "        CREATE TABLE IF NOT EXISTS {table_name}\n",
    "        ([asset_ticker] TEXT,\n",
    "         [date] TEXT\n",
    "         [price] REAL)\n",
    "          \"\"\")\n",
    "conn.commit()\n",
    "\n",
    "## Create table with all assets\n",
    "table_name = 'assets'\n",
    "c.execute(f\"\"\"\n",
    "        CREATE TABLE IF NOT EXISTS {table_name}\n",
    "        ([ticker] TEXT,\n",
    "         [name] TEXT\n",
    "         [sector] REAL\n",
    "         [employees] INTEGER\n",
    "         [country] TEXT\n",
    "         [industry] TEXT,\n",
    "         [asset_type] TEXT)\n",
    "          \"\"\")\n",
    "conn.commit()\n",
    "\n",
    "## load all tickers in list\n",
    "ticker_list = []\n",
    "with open('asset_list.txt', 'r', encoding='utf-8') as f:\n",
    "    Lines = f.readlines()\n",
    "    for lines in Lines:\n",
    "        ticker = lines.split(\" \")[0]\n",
    "        ticker_list.append(ticker)\n",
    "\n",
    "## create dataframe\n",
    "df_assets = pd.DataFrame(columns=['ticker', 'name', 'sector', 'employees', 'country', 'asset_type'])\n",
    "\n",
    "def ticker_check(ticker):\n",
    "    \"\"\"\"\n",
    "    Function: Ticker Checker\n",
    "    Überprüft ob der Ticker existiert. Wenn nicht wird mit den gängigsten Anhängen versucht den gültigen Ticker zu identifizieren    \n",
    "    \"\"\"\n",
    "    ticker = re.sub('[^A-Za-z0-9]+', '', ticker)\n",
    "    for i in [\"\",\".SW\", \".L\", \".MI\", \".DE\", \".F\", \".VI\"]:\n",
    "        asset = yf.Ticker(ticker + i)\n",
    "        if asset.info:\n",
    "            return ticker + i, True\n",
    "        else:\n",
    "            return ticker, False\n",
    "\n",
    "## Loop über alle Ticker in der Ticker Liste. Von yf werden die benötigten Informationen bezogen\n",
    "not_found = []\n",
    "for ticker in ticker_list:\n",
    "    print(ticker)\n",
    "    ticker, condition = ticker_check(ticker)\n",
    "    if not condition:\n",
    "        not_found.append(ticker)\n",
    "        continue\n",
    "    \n",
    "    asset = yf.Ticker(ticker)\n",
    "    info = asset.info\n",
    "    d = {}\n",
    "    for element in ['longName', 'industry', 'sector', 'fullTimeEmployees', 'country', 'quoteType']:\n",
    "        try:\n",
    "            d[element] = info[element]\n",
    "        except:\n",
    "            d[element] = None\n",
    " \n",
    "    df_assets = df_assets.append({'ticker': ticker,\n",
    "                                  'name': d['longName'],\n",
    "                                  'industry': d['industry'],\n",
    "                                  'sector': d['sector'],\n",
    "                                  'employees': d['fullTimeEmployees'],\n",
    "                                  'country': d['country'],\n",
    "                                  'asset_type': d['quoteType']}, ignore_index=True)\n",
    "\n",
    "table_name = 'assets'\n",
    "r_df = pd.read_sql(f\"select * from {table_name}\",conn)\n",
    "table_name = 'daily_prices'\n",
    "for ticker in r_df['ticker']:\n",
    "    asset = yf.Ticker(ticker)\n",
    "    prices = asset.history(period=\"max\")[['Close']]\n",
    "    prices['ticker'] = ticker\n",
    "    prices = prices.reset_index()[['ticker', 'Date', 'Close']]\n",
    "    prices.columns = ['asset_ticker', 'date', 'price']\n",
    "    prices.to_sql(table_name, conn, if_exists='append')"
   ]
  },
  {
   "cell_type": "code",
   "execution_count": 4,
   "metadata": {},
   "outputs": [],
   "source": [
    "table_name = 'daily_prices'\n",
    "assets = (\"AAPL\", \"MSFT\", \"ABNB\", \"UBER\", \"KO\")\n",
    "conn = sqlite3.connect(\"Asset_Database\")\n",
    "c = conn.cursor()\n",
    "r_df = pd.read_sql(f\"select * from {table_name} where asset_ticker IN {assets}\",conn)\n"
   ]
  },
  {
   "cell_type": "code",
   "execution_count": 5,
   "metadata": {},
   "outputs": [],
   "source": [
    "c.execute(f\"\"\"SELECT asset_ticker ,COUNT(price) AS count \n",
    "            FROM {table_name} \n",
    "            GROUP BY asset_ticker ORDER BY count;\"\"\")\n",
    "\n",
    "data = c.fetchall()"
   ]
  },
  {
   "cell_type": "code",
   "execution_count": 5,
   "metadata": {},
   "outputs": [
    {
     "ename": "KeyboardInterrupt",
     "evalue": "",
     "output_type": "error",
     "traceback": [
      "\u001b[1;31m---------------------------------------------------------------------------\u001b[0m",
      "\u001b[1;31mKeyboardInterrupt\u001b[0m                         Traceback (most recent call last)",
      "File \u001b[1;32m~\\AppData\\Local\\Programs\\Python\\Python311\\Lib\\zoneinfo\\_common.py:12\u001b[0m, in \u001b[0;36mload_tzdata\u001b[1;34m(key)\u001b[0m\n\u001b[0;32m      9\u001b[0m resource_name \u001b[39m=\u001b[39m components[\u001b[39m-\u001b[39m\u001b[39m1\u001b[39m]\n\u001b[0;32m     11\u001b[0m \u001b[39mtry\u001b[39;00m:\n\u001b[1;32m---> 12\u001b[0m     \u001b[39mreturn\u001b[39;00m resources\u001b[39m.\u001b[39;49mfiles(package_name)\u001b[39m.\u001b[39mjoinpath(resource_name)\u001b[39m.\u001b[39mopen(\u001b[39m\"\u001b[39m\u001b[39mrb\u001b[39m\u001b[39m\"\u001b[39m)\n\u001b[0;32m     13\u001b[0m \u001b[39mexcept\u001b[39;00m (\u001b[39mImportError\u001b[39;00m, \u001b[39mFileNotFoundError\u001b[39;00m, \u001b[39mUnicodeEncodeError\u001b[39;00m):\n\u001b[0;32m     14\u001b[0m     \u001b[39m# There are three types of exception that can be raised that all amount\u001b[39;00m\n\u001b[0;32m     15\u001b[0m     \u001b[39m# to \"we cannot find this key\":\u001b[39;00m\n\u001b[1;32m   (...)\u001b[0m\n\u001b[0;32m     22\u001b[0m     \u001b[39m# UnicodeEncodeError: If package_name or resource_name are not UTF-8,\u001b[39;00m\n\u001b[0;32m     23\u001b[0m     \u001b[39m#   such as keys containing a surrogate character.\u001b[39;00m\n\u001b[0;32m     24\u001b[0m     \u001b[39mraise\u001b[39;00m ZoneInfoNotFoundError(\u001b[39mf\u001b[39m\u001b[39m\"\u001b[39m\u001b[39mNo time zone found with key \u001b[39m\u001b[39m{\u001b[39;00mkey\u001b[39m}\u001b[39;00m\u001b[39m\"\u001b[39m)\n",
      "File \u001b[1;32m~\\AppData\\Local\\Programs\\Python\\Python311\\Lib\\importlib\\resources\\_common.py:22\u001b[0m, in \u001b[0;36mfiles\u001b[1;34m(package)\u001b[0m\n\u001b[0;32m     17\u001b[0m \u001b[39mdef\u001b[39;00m \u001b[39mfiles\u001b[39m(package):\n\u001b[0;32m     18\u001b[0m     \u001b[39m# type: (Package) -> Traversable\u001b[39;00m\n\u001b[0;32m     19\u001b[0m \u001b[39m    \u001b[39m\u001b[39m\"\"\"\u001b[39;00m\n\u001b[0;32m     20\u001b[0m \u001b[39m    Get a Traversable resource from a package\u001b[39;00m\n\u001b[0;32m     21\u001b[0m \u001b[39m    \"\"\"\u001b[39;00m\n\u001b[1;32m---> 22\u001b[0m     \u001b[39mreturn\u001b[39;00m from_package(get_package(package))\n",
      "File \u001b[1;32m~\\AppData\\Local\\Programs\\Python\\Python311\\Lib\\importlib\\resources\\_common.py:53\u001b[0m, in \u001b[0;36mget_package\u001b[1;34m(package)\u001b[0m\n\u001b[0;32m     47\u001b[0m \u001b[39mdef\u001b[39;00m \u001b[39mget_package\u001b[39m(package):\n\u001b[0;32m     48\u001b[0m     \u001b[39m# type: (Package) -> types.ModuleType\u001b[39;00m\n\u001b[0;32m     49\u001b[0m \u001b[39m    \u001b[39m\u001b[39m\"\"\"Take a package name or module object and return the module.\u001b[39;00m\n\u001b[0;32m     50\u001b[0m \n\u001b[0;32m     51\u001b[0m \u001b[39m    Raise an exception if the resolved module is not a package.\u001b[39;00m\n\u001b[0;32m     52\u001b[0m \u001b[39m    \"\"\"\u001b[39;00m\n\u001b[1;32m---> 53\u001b[0m     resolved \u001b[39m=\u001b[39m resolve(package)\n\u001b[0;32m     54\u001b[0m     \u001b[39mif\u001b[39;00m wrap_spec(resolved)\u001b[39m.\u001b[39msubmodule_search_locations \u001b[39mis\u001b[39;00m \u001b[39mNone\u001b[39;00m:\n\u001b[0;32m     55\u001b[0m         \u001b[39mraise\u001b[39;00m \u001b[39mTypeError\u001b[39;00m(\u001b[39mf\u001b[39m\u001b[39m'\u001b[39m\u001b[39m{\u001b[39;00mpackage\u001b[39m!r}\u001b[39;00m\u001b[39m is not a package\u001b[39m\u001b[39m'\u001b[39m)\n",
      "File \u001b[1;32m~\\AppData\\Local\\Programs\\Python\\Python311\\Lib\\importlib\\resources\\_common.py:44\u001b[0m, in \u001b[0;36mresolve\u001b[1;34m(cand)\u001b[0m\n\u001b[0;32m     42\u001b[0m \u001b[39mdef\u001b[39;00m \u001b[39mresolve\u001b[39m(cand):\n\u001b[0;32m     43\u001b[0m     \u001b[39m# type: (Package) -> types.ModuleType\u001b[39;00m\n\u001b[1;32m---> 44\u001b[0m     \u001b[39mreturn\u001b[39;00m cand \u001b[39mif\u001b[39;00m \u001b[39misinstance\u001b[39m(cand, types\u001b[39m.\u001b[39mModuleType) \u001b[39melse\u001b[39;00m importlib\u001b[39m.\u001b[39;49mimport_module(cand)\n",
      "File \u001b[1;32m~\\AppData\\Local\\Programs\\Python\\Python311\\Lib\\importlib\\__init__.py:126\u001b[0m, in \u001b[0;36mimport_module\u001b[1;34m(name, package)\u001b[0m\n\u001b[0;32m    124\u001b[0m             \u001b[39mbreak\u001b[39;00m\n\u001b[0;32m    125\u001b[0m         level \u001b[39m+\u001b[39m\u001b[39m=\u001b[39m \u001b[39m1\u001b[39m\n\u001b[1;32m--> 126\u001b[0m \u001b[39mreturn\u001b[39;00m _bootstrap\u001b[39m.\u001b[39;49m_gcd_import(name[level:], package, level)\n",
      "File \u001b[1;32m<frozen importlib._bootstrap>:1206\u001b[0m, in \u001b[0;36m_gcd_import\u001b[1;34m(name, package, level)\u001b[0m\n",
      "File \u001b[1;32m<frozen importlib._bootstrap>:1178\u001b[0m, in \u001b[0;36m_find_and_load\u001b[1;34m(name, import_)\u001b[0m\n",
      "File \u001b[1;32m<frozen importlib._bootstrap>:1128\u001b[0m, in \u001b[0;36m_find_and_load_unlocked\u001b[1;34m(name, import_)\u001b[0m\n",
      "File \u001b[1;32m<frozen importlib._bootstrap>:241\u001b[0m, in \u001b[0;36m_call_with_frames_removed\u001b[1;34m(f, *args, **kwds)\u001b[0m\n",
      "File \u001b[1;32m<frozen importlib._bootstrap>:1206\u001b[0m, in \u001b[0;36m_gcd_import\u001b[1;34m(name, package, level)\u001b[0m\n",
      "File \u001b[1;32m<frozen importlib._bootstrap>:1178\u001b[0m, in \u001b[0;36m_find_and_load\u001b[1;34m(name, import_)\u001b[0m\n",
      "File \u001b[1;32m<frozen importlib._bootstrap>:1140\u001b[0m, in \u001b[0;36m_find_and_load_unlocked\u001b[1;34m(name, import_)\u001b[0m\n",
      "File \u001b[1;32m<frozen importlib._bootstrap>:1080\u001b[0m, in \u001b[0;36m_find_spec\u001b[1;34m(name, path, target)\u001b[0m\n",
      "File \u001b[1;32m<frozen importlib._bootstrap_external>:1504\u001b[0m, in \u001b[0;36mfind_spec\u001b[1;34m(cls, fullname, path, target)\u001b[0m\n",
      "File \u001b[1;32m<frozen importlib._bootstrap_external>:1476\u001b[0m, in \u001b[0;36m_get_spec\u001b[1;34m(cls, fullname, path, target)\u001b[0m\n",
      "File \u001b[1;32m<frozen importlib._bootstrap_external>:1612\u001b[0m, in \u001b[0;36mfind_spec\u001b[1;34m(self, fullname, target)\u001b[0m\n",
      "File \u001b[1;32m<frozen importlib._bootstrap_external>:147\u001b[0m, in \u001b[0;36m_path_stat\u001b[1;34m(path)\u001b[0m\n",
      "\u001b[1;31mKeyboardInterrupt\u001b[0m: "
     ]
    },
    {
     "name": "stderr",
     "output_type": "stream",
     "text": [
      "Exception ignored in: 'pandas._libs.tslibs.timezones.is_utc_zoneinfo'\n",
      "Traceback (most recent call last):\n",
      "  File \"C:\\Users\\ruedi\\AppData\\Local\\Programs\\Python\\Python311\\Lib\\zoneinfo\\_common.py\", line 12, in load_tzdata\n",
      "    return resources.files(package_name).joinpath(resource_name).open(\"rb\")\n",
      "           ^^^^^^^^^^^^^^^^^^^^^^^^^^^^^\n",
      "  File \"C:\\Users\\ruedi\\AppData\\Local\\Programs\\Python\\Python311\\Lib\\importlib\\resources\\_common.py\", line 22, in files\n",
      "    return from_package(get_package(package))\n",
      "                        ^^^^^^^^^^^^^^^^^^^^\n",
      "  File \"C:\\Users\\ruedi\\AppData\\Local\\Programs\\Python\\Python311\\Lib\\importlib\\resources\\_common.py\", line 53, in get_package\n",
      "    resolved = resolve(package)\n",
      "               ^^^^^^^^^^^^^^^^\n",
      "  File \"C:\\Users\\ruedi\\AppData\\Local\\Programs\\Python\\Python311\\Lib\\importlib\\resources\\_common.py\", line 44, in resolve\n",
      "    return cand if isinstance(cand, types.ModuleType) else importlib.import_module(cand)\n",
      "                                                           ^^^^^^^^^^^^^^^^^^^^^^^^^^^^^\n",
      "  File \"C:\\Users\\ruedi\\AppData\\Local\\Programs\\Python\\Python311\\Lib\\importlib\\__init__.py\", line 126, in import_module\n",
      "    return _bootstrap._gcd_import(name[level:], package, level)\n",
      "           ^^^^^^^^^^^^^^^^^^^^^^^^^^^^^^^^^^^^^^^^^^^^^^^^^^^^\n",
      "  File \"<frozen importlib._bootstrap>\", line 1206, in _gcd_import\n",
      "  File \"<frozen importlib._bootstrap>\", line 1178, in _find_and_load\n",
      "  File \"<frozen importlib._bootstrap>\", line 1128, in _find_and_load_unlocked\n",
      "  File \"<frozen importlib._bootstrap>\", line 241, in _call_with_frames_removed\n",
      "  File \"<frozen importlib._bootstrap>\", line 1206, in _gcd_import\n",
      "  File \"<frozen importlib._bootstrap>\", line 1178, in _find_and_load\n",
      "  File \"<frozen importlib._bootstrap>\", line 1140, in _find_and_load_unlocked\n",
      "  File \"<frozen importlib._bootstrap>\", line 1080, in _find_spec\n",
      "  File \"<frozen importlib._bootstrap_external>\", line 1504, in find_spec\n",
      "  File \"<frozen importlib._bootstrap_external>\", line 1476, in _get_spec\n",
      "  File \"<frozen importlib._bootstrap_external>\", line 1612, in find_spec\n",
      "  File \"<frozen importlib._bootstrap_external>\", line 147, in _path_stat\n",
      "KeyboardInterrupt: \n"
     ]
    }
   ],
   "source": [
    "r_df['date'] = pd.to_datetime(r_df.date)"
   ]
  },
  {
   "cell_type": "code",
   "execution_count": 6,
   "metadata": {},
   "outputs": [],
   "source": [
    "r_df = r_df.pivot(columns='asset_ticker', index=\"date\", values='price')"
   ]
  },
  {
   "cell_type": "code",
   "execution_count": 7,
   "metadata": {},
   "outputs": [
    {
     "data": {
      "text/html": [
       "<div>\n",
       "<style scoped>\n",
       "    .dataframe tbody tr th:only-of-type {\n",
       "        vertical-align: middle;\n",
       "    }\n",
       "\n",
       "    .dataframe tbody tr th {\n",
       "        vertical-align: top;\n",
       "    }\n",
       "\n",
       "    .dataframe thead th {\n",
       "        text-align: right;\n",
       "    }\n",
       "</style>\n",
       "<table border=\"1\" class=\"dataframe\">\n",
       "  <thead>\n",
       "    <tr style=\"text-align: right;\">\n",
       "      <th>asset_ticker</th>\n",
       "      <th>AAPL</th>\n",
       "      <th>ABNB</th>\n",
       "      <th>KO</th>\n",
       "      <th>MSFT</th>\n",
       "      <th>UBER</th>\n",
       "    </tr>\n",
       "    <tr>\n",
       "      <th>asset_ticker</th>\n",
       "      <th></th>\n",
       "      <th></th>\n",
       "      <th></th>\n",
       "      <th></th>\n",
       "      <th></th>\n",
       "    </tr>\n",
       "  </thead>\n",
       "  <tbody>\n",
       "    <tr>\n",
       "      <th>AAPL</th>\n",
       "      <td>1230.299004</td>\n",
       "      <td>2.972609</td>\n",
       "      <td>489.774757</td>\n",
       "      <td>2467.586800</td>\n",
       "      <td>40.285827</td>\n",
       "    </tr>\n",
       "    <tr>\n",
       "      <th>ABNB</th>\n",
       "      <td>2.972609</td>\n",
       "      <td>1012.043645</td>\n",
       "      <td>-100.106153</td>\n",
       "      <td>362.491374</td>\n",
       "      <td>282.785146</td>\n",
       "    </tr>\n",
       "    <tr>\n",
       "      <th>KO</th>\n",
       "      <td>489.774757</td>\n",
       "      <td>-100.106153</td>\n",
       "      <td>244.657683</td>\n",
       "      <td>956.407035</td>\n",
       "      <td>-14.586691</td>\n",
       "    </tr>\n",
       "    <tr>\n",
       "      <th>MSFT</th>\n",
       "      <td>2467.586800</td>\n",
       "      <td>362.491374</td>\n",
       "      <td>956.407035</td>\n",
       "      <td>4595.772569</td>\n",
       "      <td>101.361712</td>\n",
       "    </tr>\n",
       "    <tr>\n",
       "      <th>UBER</th>\n",
       "      <td>40.285827</td>\n",
       "      <td>282.785146</td>\n",
       "      <td>-14.586691</td>\n",
       "      <td>101.361712</td>\n",
       "      <td>96.123364</td>\n",
       "    </tr>\n",
       "  </tbody>\n",
       "</table>\n",
       "</div>"
      ],
      "text/plain": [
       "asset_ticker         AAPL         ABNB          KO         MSFT        UBER\n",
       "asset_ticker                                                               \n",
       "AAPL          1230.299004     2.972609  489.774757  2467.586800   40.285827\n",
       "ABNB             2.972609  1012.043645 -100.106153   362.491374  282.785146\n",
       "KO             489.774757  -100.106153  244.657683   956.407035  -14.586691\n",
       "MSFT          2467.586800   362.491374  956.407035  4595.772569  101.361712\n",
       "UBER            40.285827   282.785146  -14.586691   101.361712   96.123364"
      ]
     },
     "execution_count": 7,
     "metadata": {},
     "output_type": "execute_result"
    }
   ],
   "source": [
    "r_df.cov()"
   ]
  },
  {
   "cell_type": "code",
   "execution_count": 8,
   "metadata": {},
   "outputs": [
    {
     "data": {
      "text/html": [
       "<div>\n",
       "<style scoped>\n",
       "    .dataframe tbody tr th:only-of-type {\n",
       "        vertical-align: middle;\n",
       "    }\n",
       "\n",
       "    .dataframe tbody tr th {\n",
       "        vertical-align: top;\n",
       "    }\n",
       "\n",
       "    .dataframe thead th {\n",
       "        text-align: right;\n",
       "    }\n",
       "</style>\n",
       "<table border=\"1\" class=\"dataframe\">\n",
       "  <thead>\n",
       "    <tr style=\"text-align: right;\">\n",
       "      <th>asset_ticker</th>\n",
       "      <th>AAPL</th>\n",
       "      <th>ABNB</th>\n",
       "      <th>KO</th>\n",
       "      <th>MSFT</th>\n",
       "      <th>UBER</th>\n",
       "    </tr>\n",
       "    <tr>\n",
       "      <th>date</th>\n",
       "      <th></th>\n",
       "      <th></th>\n",
       "      <th></th>\n",
       "      <th></th>\n",
       "      <th></th>\n",
       "    </tr>\n",
       "  </thead>\n",
       "  <tbody>\n",
       "    <tr>\n",
       "      <th>1962-01-02 00:00:00-05:00</th>\n",
       "      <td>NaN</td>\n",
       "      <td>NaN</td>\n",
       "      <td>0.004007</td>\n",
       "      <td>NaN</td>\n",
       "      <td>NaN</td>\n",
       "    </tr>\n",
       "    <tr>\n",
       "      <th>1962-01-03 00:00:00-05:00</th>\n",
       "      <td>NaN</td>\n",
       "      <td>NaN</td>\n",
       "      <td>0.003918</td>\n",
       "      <td>NaN</td>\n",
       "      <td>NaN</td>\n",
       "    </tr>\n",
       "    <tr>\n",
       "      <th>1962-01-04 00:00:00-05:00</th>\n",
       "      <td>NaN</td>\n",
       "      <td>NaN</td>\n",
       "      <td>0.003948</td>\n",
       "      <td>NaN</td>\n",
       "      <td>NaN</td>\n",
       "    </tr>\n",
       "    <tr>\n",
       "      <th>1962-01-05 00:00:00-05:00</th>\n",
       "      <td>NaN</td>\n",
       "      <td>NaN</td>\n",
       "      <td>0.003858</td>\n",
       "      <td>NaN</td>\n",
       "      <td>NaN</td>\n",
       "    </tr>\n",
       "    <tr>\n",
       "      <th>1962-01-08 00:00:00-05:00</th>\n",
       "      <td>NaN</td>\n",
       "      <td>NaN</td>\n",
       "      <td>0.003819</td>\n",
       "      <td>NaN</td>\n",
       "      <td>NaN</td>\n",
       "    </tr>\n",
       "    <tr>\n",
       "      <th>...</th>\n",
       "      <td>...</td>\n",
       "      <td>...</td>\n",
       "      <td>...</td>\n",
       "      <td>...</td>\n",
       "      <td>...</td>\n",
       "    </tr>\n",
       "    <tr>\n",
       "      <th>2022-12-29 00:00:00-05:00</th>\n",
       "      <td>129.610001</td>\n",
       "      <td>85.230003</td>\n",
       "      <td>63.950001</td>\n",
       "      <td>241.009995</td>\n",
       "      <td>24.910000</td>\n",
       "    </tr>\n",
       "    <tr>\n",
       "      <th>2022-12-30 00:00:00-05:00</th>\n",
       "      <td>129.929993</td>\n",
       "      <td>85.500000</td>\n",
       "      <td>63.610001</td>\n",
       "      <td>239.820007</td>\n",
       "      <td>24.730000</td>\n",
       "    </tr>\n",
       "    <tr>\n",
       "      <th>2023-01-03 00:00:00-05:00</th>\n",
       "      <td>125.070000</td>\n",
       "      <td>84.900002</td>\n",
       "      <td>62.950001</td>\n",
       "      <td>239.580002</td>\n",
       "      <td>25.360001</td>\n",
       "    </tr>\n",
       "    <tr>\n",
       "      <th>2023-01-04 00:00:00-05:00</th>\n",
       "      <td>126.360001</td>\n",
       "      <td>88.720001</td>\n",
       "      <td>62.919998</td>\n",
       "      <td>229.100006</td>\n",
       "      <td>25.910000</td>\n",
       "    </tr>\n",
       "    <tr>\n",
       "      <th>2023-01-05 00:00:00-05:00</th>\n",
       "      <td>125.019997</td>\n",
       "      <td>87.709999</td>\n",
       "      <td>62.200001</td>\n",
       "      <td>222.309998</td>\n",
       "      <td>25.549999</td>\n",
       "    </tr>\n",
       "  </tbody>\n",
       "</table>\n",
       "<p>15359 rows × 5 columns</p>\n",
       "</div>"
      ],
      "text/plain": [
       "asset_ticker                     AAPL       ABNB         KO        MSFT  \\\n",
       "date                                                                      \n",
       "1962-01-02 00:00:00-05:00         NaN        NaN   0.004007         NaN   \n",
       "1962-01-03 00:00:00-05:00         NaN        NaN   0.003918         NaN   \n",
       "1962-01-04 00:00:00-05:00         NaN        NaN   0.003948         NaN   \n",
       "1962-01-05 00:00:00-05:00         NaN        NaN   0.003858         NaN   \n",
       "1962-01-08 00:00:00-05:00         NaN        NaN   0.003819         NaN   \n",
       "...                               ...        ...        ...         ...   \n",
       "2022-12-29 00:00:00-05:00  129.610001  85.230003  63.950001  241.009995   \n",
       "2022-12-30 00:00:00-05:00  129.929993  85.500000  63.610001  239.820007   \n",
       "2023-01-03 00:00:00-05:00  125.070000  84.900002  62.950001  239.580002   \n",
       "2023-01-04 00:00:00-05:00  126.360001  88.720001  62.919998  229.100006   \n",
       "2023-01-05 00:00:00-05:00  125.019997  87.709999  62.200001  222.309998   \n",
       "\n",
       "asset_ticker                    UBER  \n",
       "date                                  \n",
       "1962-01-02 00:00:00-05:00        NaN  \n",
       "1962-01-03 00:00:00-05:00        NaN  \n",
       "1962-01-04 00:00:00-05:00        NaN  \n",
       "1962-01-05 00:00:00-05:00        NaN  \n",
       "1962-01-08 00:00:00-05:00        NaN  \n",
       "...                              ...  \n",
       "2022-12-29 00:00:00-05:00  24.910000  \n",
       "2022-12-30 00:00:00-05:00  24.730000  \n",
       "2023-01-03 00:00:00-05:00  25.360001  \n",
       "2023-01-04 00:00:00-05:00  25.910000  \n",
       "2023-01-05 00:00:00-05:00  25.549999  \n",
       "\n",
       "[15359 rows x 5 columns]"
      ]
     },
     "execution_count": 8,
     "metadata": {},
     "output_type": "execute_result"
    }
   ],
   "source": [
    "r_df"
   ]
  },
  {
   "cell_type": "code",
   "execution_count": 51,
   "metadata": {},
   "outputs": [],
   "source": [
    "class Asset():\n",
    "    conn = sqlite3.connect(\"Asset_Database\")\n",
    "    c = conn.cursor()\n",
    "    def __init__(self, ticker):\n",
    "        self.ticker = ticker\n",
    "        \n",
    "    def get_prices(self):\n",
    "        conn = sqlite3.connect(\"Asset_Database\")\n",
    "        table_name = 'daily_prices'\n",
    "        df = pd.read_sql(f\"select date,price from {table_name} where asset_ticker = '{self.ticker}'\",\n",
    "                         con = conn)\n",
    "        df.columns = ['date',self.ticker]\n",
    "        df = df.set_index('date')\n",
    "        return df\n",
    "        "
   ]
  },
  {
   "cell_type": "code",
   "execution_count": 67,
   "metadata": {},
   "outputs": [],
   "source": [
    "class Portfolio():\n",
    "\n",
    "  def __init__(self,asset_list: list):\n",
    "    self.assets = self.generate_asset_df(asset_list)\n",
    "    self.anz_assets = len(assets.columns)\n",
    "    self.returns = assets.pct_change()\n",
    "    self.covariance = self.returns.cov()\n",
    "    self.weights = self.generate_random_weights()\n",
    "    self.expected_return = self.calculate_expected_return()\n",
    "\n",
    "  def __str__(self):\n",
    "    return f\"\"\"Das ist ein Portfolio mit {self.anz_assets} Assets\"\"\"\n",
    "\n",
    "  def __repr__(self):\n",
    "    return \"Portfolio\"\n",
    "\n",
    "  def generate_random_weights(self):\n",
    "    random_numbers = np.random.random(self.anz_assets)\n",
    "    return random_numbers / sum(random_numbers)\n",
    "\n",
    "  def calculate_expected_return(self):\n",
    "    avg_returns = self.returns.mean()\n",
    "    avg_returns_ann = ((1+ avg_returns) ** 365)-1\n",
    "    expected_portfolio_return = sum(avg_returns * self.weights)\n",
    "    return expected_portfolio_return\n",
    "\n",
    "  def generate_asset_df(self, asset_list):\n",
    "    df = pd.concat([a.get_prices() for a in asset_list], axis=1)\n",
    "    return df\n",
    "\n"
   ]
  },
  {
   "cell_type": "code",
   "execution_count": 68,
   "metadata": {},
   "outputs": [
    {
     "ename": "AttributeError",
     "evalue": "'tuple' object has no attribute 'columns'",
     "output_type": "error",
     "traceback": [
      "\u001b[1;31m---------------------------------------------------------------------------\u001b[0m",
      "\u001b[1;31mAttributeError\u001b[0m                            Traceback (most recent call last)",
      "Cell \u001b[1;32mIn[68], line 5\u001b[0m\n\u001b[0;32m      2\u001b[0m \u001b[39mfor\u001b[39;00m asset \u001b[39min\u001b[39;00m [\u001b[39m'\u001b[39m\u001b[39mAAPL\u001b[39m\u001b[39m'\u001b[39m, \u001b[39m'\u001b[39m\u001b[39mMSFT\u001b[39m\u001b[39m'\u001b[39m]:\n\u001b[0;32m      3\u001b[0m     l\u001b[39m.\u001b[39mappend(Asset(asset))\n\u001b[1;32m----> 5\u001b[0m p \u001b[39m=\u001b[39m Portfolio(l)\n",
      "Cell \u001b[1;32mIn[67], line 5\u001b[0m, in \u001b[0;36mPortfolio.__init__\u001b[1;34m(self, asset_list)\u001b[0m\n\u001b[0;32m      3\u001b[0m \u001b[39mdef\u001b[39;00m \u001b[39m__init__\u001b[39m(\u001b[39mself\u001b[39m,asset_list: \u001b[39mlist\u001b[39m):\n\u001b[0;32m      4\u001b[0m   \u001b[39mself\u001b[39m\u001b[39m.\u001b[39massets \u001b[39m=\u001b[39m \u001b[39mself\u001b[39m\u001b[39m.\u001b[39mgenerate_asset_df(asset_list)\n\u001b[1;32m----> 5\u001b[0m   \u001b[39mself\u001b[39m\u001b[39m.\u001b[39manz_assets \u001b[39m=\u001b[39m \u001b[39mlen\u001b[39m(assets\u001b[39m.\u001b[39;49mcolumns)\n\u001b[0;32m      6\u001b[0m   \u001b[39mself\u001b[39m\u001b[39m.\u001b[39mreturns \u001b[39m=\u001b[39m assets\u001b[39m.\u001b[39mpct_change()\n\u001b[0;32m      7\u001b[0m   \u001b[39mself\u001b[39m\u001b[39m.\u001b[39mcovariance \u001b[39m=\u001b[39m \u001b[39mself\u001b[39m\u001b[39m.\u001b[39mreturns\u001b[39m.\u001b[39mcov()\n",
      "\u001b[1;31mAttributeError\u001b[0m: 'tuple' object has no attribute 'columns'"
     ]
    }
   ],
   "source": [
    "l = []\n",
    "for asset in ['AAPL', 'MSFT']:\n",
    "    l.append(Asset(asset))\n",
    "\n",
    "p = Portfolio(l)"
   ]
  },
  {
   "cell_type": "code",
   "execution_count": 55,
   "metadata": {},
   "outputs": [
    {
     "data": {
      "text/html": [
       "<div>\n",
       "<style scoped>\n",
       "    .dataframe tbody tr th:only-of-type {\n",
       "        vertical-align: middle;\n",
       "    }\n",
       "\n",
       "    .dataframe tbody tr th {\n",
       "        vertical-align: top;\n",
       "    }\n",
       "\n",
       "    .dataframe thead th {\n",
       "        text-align: right;\n",
       "    }\n",
       "</style>\n",
       "<table border=\"1\" class=\"dataframe\">\n",
       "  <thead>\n",
       "    <tr style=\"text-align: right;\">\n",
       "      <th></th>\n",
       "      <th>MSFT</th>\n",
       "    </tr>\n",
       "    <tr>\n",
       "      <th>date</th>\n",
       "      <th></th>\n",
       "    </tr>\n",
       "  </thead>\n",
       "  <tbody>\n",
       "    <tr>\n",
       "      <th>1986-03-13 00:00:00-05:00</th>\n",
       "      <td>0.061608</td>\n",
       "    </tr>\n",
       "    <tr>\n",
       "      <th>1986-03-14 00:00:00-05:00</th>\n",
       "      <td>0.063809</td>\n",
       "    </tr>\n",
       "    <tr>\n",
       "      <th>1986-03-17 00:00:00-05:00</th>\n",
       "      <td>0.064909</td>\n",
       "    </tr>\n",
       "    <tr>\n",
       "      <th>1986-03-18 00:00:00-05:00</th>\n",
       "      <td>0.063258</td>\n",
       "    </tr>\n",
       "    <tr>\n",
       "      <th>1986-03-19 00:00:00-05:00</th>\n",
       "      <td>0.062158</td>\n",
       "    </tr>\n",
       "    <tr>\n",
       "      <th>...</th>\n",
       "      <td>...</td>\n",
       "    </tr>\n",
       "    <tr>\n",
       "      <th>2022-12-29 00:00:00-05:00</th>\n",
       "      <td>241.009995</td>\n",
       "    </tr>\n",
       "    <tr>\n",
       "      <th>2022-12-30 00:00:00-05:00</th>\n",
       "      <td>239.820007</td>\n",
       "    </tr>\n",
       "    <tr>\n",
       "      <th>2023-01-03 00:00:00-05:00</th>\n",
       "      <td>239.580002</td>\n",
       "    </tr>\n",
       "    <tr>\n",
       "      <th>2023-01-04 00:00:00-05:00</th>\n",
       "      <td>229.100006</td>\n",
       "    </tr>\n",
       "    <tr>\n",
       "      <th>2023-01-05 00:00:00-05:00</th>\n",
       "      <td>222.309998</td>\n",
       "    </tr>\n",
       "  </tbody>\n",
       "</table>\n",
       "<p>9280 rows × 1 columns</p>\n",
       "</div>"
      ],
      "text/plain": [
       "                                 MSFT\n",
       "date                                 \n",
       "1986-03-13 00:00:00-05:00    0.061608\n",
       "1986-03-14 00:00:00-05:00    0.063809\n",
       "1986-03-17 00:00:00-05:00    0.064909\n",
       "1986-03-18 00:00:00-05:00    0.063258\n",
       "1986-03-19 00:00:00-05:00    0.062158\n",
       "...                               ...\n",
       "2022-12-29 00:00:00-05:00  241.009995\n",
       "2022-12-30 00:00:00-05:00  239.820007\n",
       "2023-01-03 00:00:00-05:00  239.580002\n",
       "2023-01-04 00:00:00-05:00  229.100006\n",
       "2023-01-05 00:00:00-05:00  222.309998\n",
       "\n",
       "[9280 rows x 1 columns]"
      ]
     },
     "execution_count": 55,
     "metadata": {},
     "output_type": "execute_result"
    }
   ],
   "source": [
    "asset_df[1]"
   ]
  },
  {
   "cell_type": "code",
   "execution_count": 56,
   "metadata": {},
   "outputs": [
    {
     "data": {
      "text/html": [
       "<div>\n",
       "<style scoped>\n",
       "    .dataframe tbody tr th:only-of-type {\n",
       "        vertical-align: middle;\n",
       "    }\n",
       "\n",
       "    .dataframe tbody tr th {\n",
       "        vertical-align: top;\n",
       "    }\n",
       "\n",
       "    .dataframe thead th {\n",
       "        text-align: right;\n",
       "    }\n",
       "</style>\n",
       "<table border=\"1\" class=\"dataframe\">\n",
       "  <thead>\n",
       "    <tr style=\"text-align: right;\">\n",
       "      <th></th>\n",
       "      <th>AAPL</th>\n",
       "    </tr>\n",
       "    <tr>\n",
       "      <th>date</th>\n",
       "      <th></th>\n",
       "    </tr>\n",
       "  </thead>\n",
       "  <tbody>\n",
       "    <tr>\n",
       "      <th>1980-12-12 00:00:00-05:00</th>\n",
       "      <td>0.100764</td>\n",
       "    </tr>\n",
       "    <tr>\n",
       "      <th>1980-12-15 00:00:00-05:00</th>\n",
       "      <td>0.095508</td>\n",
       "    </tr>\n",
       "    <tr>\n",
       "      <th>1980-12-16 00:00:00-05:00</th>\n",
       "      <td>0.088498</td>\n",
       "    </tr>\n",
       "    <tr>\n",
       "      <th>1980-12-17 00:00:00-05:00</th>\n",
       "      <td>0.090688</td>\n",
       "    </tr>\n",
       "    <tr>\n",
       "      <th>1980-12-18 00:00:00-05:00</th>\n",
       "      <td>0.093317</td>\n",
       "    </tr>\n",
       "    <tr>\n",
       "      <th>...</th>\n",
       "      <td>...</td>\n",
       "    </tr>\n",
       "    <tr>\n",
       "      <th>2022-12-29 00:00:00-05:00</th>\n",
       "      <td>129.610001</td>\n",
       "    </tr>\n",
       "    <tr>\n",
       "      <th>2022-12-30 00:00:00-05:00</th>\n",
       "      <td>129.929993</td>\n",
       "    </tr>\n",
       "    <tr>\n",
       "      <th>2023-01-03 00:00:00-05:00</th>\n",
       "      <td>125.070000</td>\n",
       "    </tr>\n",
       "    <tr>\n",
       "      <th>2023-01-04 00:00:00-05:00</th>\n",
       "      <td>126.360001</td>\n",
       "    </tr>\n",
       "    <tr>\n",
       "      <th>2023-01-05 00:00:00-05:00</th>\n",
       "      <td>125.019997</td>\n",
       "    </tr>\n",
       "  </tbody>\n",
       "</table>\n",
       "<p>10606 rows × 1 columns</p>\n",
       "</div>"
      ],
      "text/plain": [
       "                                 AAPL\n",
       "date                                 \n",
       "1980-12-12 00:00:00-05:00    0.100764\n",
       "1980-12-15 00:00:00-05:00    0.095508\n",
       "1980-12-16 00:00:00-05:00    0.088498\n",
       "1980-12-17 00:00:00-05:00    0.090688\n",
       "1980-12-18 00:00:00-05:00    0.093317\n",
       "...                               ...\n",
       "2022-12-29 00:00:00-05:00  129.610001\n",
       "2022-12-30 00:00:00-05:00  129.929993\n",
       "2023-01-03 00:00:00-05:00  125.070000\n",
       "2023-01-04 00:00:00-05:00  126.360001\n",
       "2023-01-05 00:00:00-05:00  125.019997\n",
       "\n",
       "[10606 rows x 1 columns]"
      ]
     },
     "execution_count": 56,
     "metadata": {},
     "output_type": "execute_result"
    }
   ],
   "source": [
    "asset_df[0]"
   ]
  },
  {
   "cell_type": "code",
   "execution_count": 60,
   "metadata": {},
   "outputs": [
    {
     "data": {
      "text/html": [
       "<div>\n",
       "<style scoped>\n",
       "    .dataframe tbody tr th:only-of-type {\n",
       "        vertical-align: middle;\n",
       "    }\n",
       "\n",
       "    .dataframe tbody tr th {\n",
       "        vertical-align: top;\n",
       "    }\n",
       "\n",
       "    .dataframe thead th {\n",
       "        text-align: right;\n",
       "    }\n",
       "</style>\n",
       "<table border=\"1\" class=\"dataframe\">\n",
       "  <thead>\n",
       "    <tr style=\"text-align: right;\">\n",
       "      <th></th>\n",
       "      <th>AAPL</th>\n",
       "      <th>MSFT</th>\n",
       "    </tr>\n",
       "    <tr>\n",
       "      <th>date</th>\n",
       "      <th></th>\n",
       "      <th></th>\n",
       "    </tr>\n",
       "  </thead>\n",
       "  <tbody>\n",
       "    <tr>\n",
       "      <th>1980-12-12 00:00:00-05:00</th>\n",
       "      <td>0.100764</td>\n",
       "      <td>NaN</td>\n",
       "    </tr>\n",
       "    <tr>\n",
       "      <th>1980-12-15 00:00:00-05:00</th>\n",
       "      <td>0.095508</td>\n",
       "      <td>NaN</td>\n",
       "    </tr>\n",
       "    <tr>\n",
       "      <th>1980-12-16 00:00:00-05:00</th>\n",
       "      <td>0.088498</td>\n",
       "      <td>NaN</td>\n",
       "    </tr>\n",
       "    <tr>\n",
       "      <th>1980-12-17 00:00:00-05:00</th>\n",
       "      <td>0.090688</td>\n",
       "      <td>NaN</td>\n",
       "    </tr>\n",
       "    <tr>\n",
       "      <th>1980-12-18 00:00:00-05:00</th>\n",
       "      <td>0.093317</td>\n",
       "      <td>NaN</td>\n",
       "    </tr>\n",
       "    <tr>\n",
       "      <th>...</th>\n",
       "      <td>...</td>\n",
       "      <td>...</td>\n",
       "    </tr>\n",
       "    <tr>\n",
       "      <th>2022-12-29 00:00:00-05:00</th>\n",
       "      <td>129.610001</td>\n",
       "      <td>241.009995</td>\n",
       "    </tr>\n",
       "    <tr>\n",
       "      <th>2022-12-30 00:00:00-05:00</th>\n",
       "      <td>129.929993</td>\n",
       "      <td>239.820007</td>\n",
       "    </tr>\n",
       "    <tr>\n",
       "      <th>2023-01-03 00:00:00-05:00</th>\n",
       "      <td>125.070000</td>\n",
       "      <td>239.580002</td>\n",
       "    </tr>\n",
       "    <tr>\n",
       "      <th>2023-01-04 00:00:00-05:00</th>\n",
       "      <td>126.360001</td>\n",
       "      <td>229.100006</td>\n",
       "    </tr>\n",
       "    <tr>\n",
       "      <th>2023-01-05 00:00:00-05:00</th>\n",
       "      <td>125.019997</td>\n",
       "      <td>222.309998</td>\n",
       "    </tr>\n",
       "  </tbody>\n",
       "</table>\n",
       "<p>10606 rows × 2 columns</p>\n",
       "</div>"
      ],
      "text/plain": [
       "                                 AAPL        MSFT\n",
       "date                                             \n",
       "1980-12-12 00:00:00-05:00    0.100764         NaN\n",
       "1980-12-15 00:00:00-05:00    0.095508         NaN\n",
       "1980-12-16 00:00:00-05:00    0.088498         NaN\n",
       "1980-12-17 00:00:00-05:00    0.090688         NaN\n",
       "1980-12-18 00:00:00-05:00    0.093317         NaN\n",
       "...                               ...         ...\n",
       "2022-12-29 00:00:00-05:00  129.610001  241.009995\n",
       "2022-12-30 00:00:00-05:00  129.929993  239.820007\n",
       "2023-01-03 00:00:00-05:00  125.070000  239.580002\n",
       "2023-01-04 00:00:00-05:00  126.360001  229.100006\n",
       "2023-01-05 00:00:00-05:00  125.019997  222.309998\n",
       "\n",
       "[10606 rows x 2 columns]"
      ]
     },
     "execution_count": 60,
     "metadata": {},
     "output_type": "execute_result"
    }
   ],
   "source": [
    "pd.concat(asset_df, axis=1)"
   ]
  },
  {
   "cell_type": "code",
   "execution_count": 26,
   "metadata": {},
   "outputs": [
    {
     "data": {
      "text/html": [
       "<div>\n",
       "<style scoped>\n",
       "    .dataframe tbody tr th:only-of-type {\n",
       "        vertical-align: middle;\n",
       "    }\n",
       "\n",
       "    .dataframe tbody tr th {\n",
       "        vertical-align: top;\n",
       "    }\n",
       "\n",
       "    .dataframe thead th {\n",
       "        text-align: right;\n",
       "    }\n",
       "</style>\n",
       "<table border=\"1\" class=\"dataframe\">\n",
       "  <thead>\n",
       "    <tr style=\"text-align: right;\">\n",
       "      <th></th>\n",
       "      <th>date</th>\n",
       "      <th>AAPL</th>\n",
       "    </tr>\n",
       "  </thead>\n",
       "  <tbody>\n",
       "    <tr>\n",
       "      <th>0</th>\n",
       "      <td>1980-12-12 00:00:00-05:00</td>\n",
       "      <td>0.100764</td>\n",
       "    </tr>\n",
       "    <tr>\n",
       "      <th>1</th>\n",
       "      <td>1980-12-15 00:00:00-05:00</td>\n",
       "      <td>0.095508</td>\n",
       "    </tr>\n",
       "    <tr>\n",
       "      <th>2</th>\n",
       "      <td>1980-12-16 00:00:00-05:00</td>\n",
       "      <td>0.088498</td>\n",
       "    </tr>\n",
       "    <tr>\n",
       "      <th>3</th>\n",
       "      <td>1980-12-17 00:00:00-05:00</td>\n",
       "      <td>0.090688</td>\n",
       "    </tr>\n",
       "    <tr>\n",
       "      <th>4</th>\n",
       "      <td>1980-12-18 00:00:00-05:00</td>\n",
       "      <td>0.093317</td>\n",
       "    </tr>\n",
       "    <tr>\n",
       "      <th>...</th>\n",
       "      <td>...</td>\n",
       "      <td>...</td>\n",
       "    </tr>\n",
       "    <tr>\n",
       "      <th>10601</th>\n",
       "      <td>2022-12-29 00:00:00-05:00</td>\n",
       "      <td>129.610001</td>\n",
       "    </tr>\n",
       "    <tr>\n",
       "      <th>10602</th>\n",
       "      <td>2022-12-30 00:00:00-05:00</td>\n",
       "      <td>129.929993</td>\n",
       "    </tr>\n",
       "    <tr>\n",
       "      <th>10603</th>\n",
       "      <td>2023-01-03 00:00:00-05:00</td>\n",
       "      <td>125.070000</td>\n",
       "    </tr>\n",
       "    <tr>\n",
       "      <th>10604</th>\n",
       "      <td>2023-01-04 00:00:00-05:00</td>\n",
       "      <td>126.360001</td>\n",
       "    </tr>\n",
       "    <tr>\n",
       "      <th>10605</th>\n",
       "      <td>2023-01-05 00:00:00-05:00</td>\n",
       "      <td>125.019997</td>\n",
       "    </tr>\n",
       "  </tbody>\n",
       "</table>\n",
       "<p>10606 rows × 2 columns</p>\n",
       "</div>"
      ],
      "text/plain": [
       "                            date        AAPL\n",
       "0      1980-12-12 00:00:00-05:00    0.100764\n",
       "1      1980-12-15 00:00:00-05:00    0.095508\n",
       "2      1980-12-16 00:00:00-05:00    0.088498\n",
       "3      1980-12-17 00:00:00-05:00    0.090688\n",
       "4      1980-12-18 00:00:00-05:00    0.093317\n",
       "...                          ...         ...\n",
       "10601  2022-12-29 00:00:00-05:00  129.610001\n",
       "10602  2022-12-30 00:00:00-05:00  129.929993\n",
       "10603  2023-01-03 00:00:00-05:00  125.070000\n",
       "10604  2023-01-04 00:00:00-05:00  126.360001\n",
       "10605  2023-01-05 00:00:00-05:00  125.019997\n",
       "\n",
       "[10606 rows x 2 columns]"
      ]
     },
     "execution_count": 26,
     "metadata": {},
     "output_type": "execute_result"
    }
   ],
   "source": [
    "aapl.get_prices()"
   ]
  },
  {
   "cell_type": "code",
   "execution_count": 51,
   "metadata": {},
   "outputs": [],
   "source": [
    "mixed = Portfolio(r_df)"
   ]
  },
  {
   "cell_type": "code",
   "execution_count": 52,
   "metadata": {},
   "outputs": [
    {
     "name": "stdout",
     "output_type": "stream",
     "text": [
      "Das ist ein Portfolio mit 5 Assets\n"
     ]
    }
   ],
   "source": [
    "print(mixed)"
   ]
  },
  {
   "cell_type": "code",
   "execution_count": 58,
   "metadata": {},
   "outputs": [
    {
     "data": {
      "text/plain": [
       "0.0004153341377913394"
      ]
     },
     "execution_count": 58,
     "metadata": {},
     "output_type": "execute_result"
    }
   ],
   "source": [
    "np.dot(mixed.weights.T, np.dot(mixed.covariance, mixed.weights))"
   ]
  },
  {
   "cell_type": "code",
   "execution_count": 61,
   "metadata": {},
   "outputs": [
    {
     "data": {
      "text/plain": [
       "array([0.2059248 , 0.33491089, 0.16265536, 0.2038527 , 0.09265624])"
      ]
     },
     "execution_count": 61,
     "metadata": {},
     "output_type": "execute_result"
    }
   ],
   "source": [
    "mixed.weights.T"
   ]
  },
  {
   "cell_type": "code",
   "execution_count": 62,
   "metadata": {},
   "outputs": [
    {
     "data": {
      "text/plain": [
       "array([0.2059248 , 0.33491089, 0.16265536, 0.2038527 , 0.09265624])"
      ]
     },
     "execution_count": 62,
     "metadata": {},
     "output_type": "execute_result"
    }
   ],
   "source": [
    "mixed.weights"
   ]
  },
  {
   "cell_type": "code",
   "execution_count": null,
   "metadata": {},
   "outputs": [],
   "source": []
  }
 ],
 "metadata": {
  "kernelspec": {
   "display_name": "venv_portfolio",
   "language": "python",
   "name": "python3"
  },
  "language_info": {
   "codemirror_mode": {
    "name": "ipython",
    "version": 3
   },
   "file_extension": ".py",
   "mimetype": "text/x-python",
   "name": "python",
   "nbconvert_exporter": "python",
   "pygments_lexer": "ipython3",
   "version": "3.11.1"
  },
  "orig_nbformat": 4,
  "vscode": {
   "interpreter": {
    "hash": "2716844557d315a5f9c1a2fc02590298ae7d0bb6a63a0af852833d8f6803451d"
   }
  }
 },
 "nbformat": 4,
 "nbformat_minor": 2
}
