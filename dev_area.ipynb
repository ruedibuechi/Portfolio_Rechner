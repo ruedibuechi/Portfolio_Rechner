{
 "cells": [
  {
   "cell_type": "code",
   "execution_count": 2,
   "metadata": {},
   "outputs": [],
   "source": [
    "import pandas as pd\n",
    "import yfinance as yf\n",
    "import matplotlib.pyplot as plt\n",
    "import sqlite3\n",
    "import re"
   ]
  },
  {
   "cell_type": "code",
   "execution_count": null,
   "metadata": {},
   "outputs": [],
   "source": [
    "## Create Table for asset prices\n",
    "conn = sqlite3.connect(\"Asset_Database\")\n",
    "c = conn.cursor()\n"
   ]
  },
  {
   "cell_type": "code",
   "execution_count": 31,
   "metadata": {},
   "outputs": [
    {
     "name": "stdout",
     "output_type": "stream",
     "text": [
      "MMM\n"
     ]
    },
    {
     "name": "stderr",
     "output_type": "stream",
     "text": [
      "C:\\Users\\ruedi\\AppData\\Local\\Temp\\ipykernel_21156\\1400600094.py:43: FutureWarning: The frame.append method is deprecated and will be removed from pandas in a future version. Use pandas.concat instead.\n",
      "  df_assets = df_assets.append({'ticker': ticker,\n"
     ]
    },
    {
     "name": "stdout",
     "output_type": "stream",
     "text": [
      "ABBN\n",
      "- ABBN: No summary info found, symbol may be delisted\n",
      "ACN\n"
     ]
    },
    {
     "name": "stderr",
     "output_type": "stream",
     "text": [
      "C:\\Users\\ruedi\\AppData\\Local\\Temp\\ipykernel_21156\\1400600094.py:43: FutureWarning: The frame.append method is deprecated and will be removed from pandas in a future version. Use pandas.concat instead.\n",
      "  df_assets = df_assets.append({'ticker': ticker,\n"
     ]
    },
    {
     "name": "stdout",
     "output_type": "stream",
     "text": [
      "ACLN\n",
      "- ACLN: No summary info found, symbol may be delisted\n",
      "AC\n"
     ]
    },
    {
     "name": "stderr",
     "output_type": "stream",
     "text": [
      "C:\\Users\\ruedi\\AppData\\Local\\Temp\\ipykernel_21156\\1400600094.py:43: FutureWarning: The frame.append method is deprecated and will be removed from pandas in a future version. Use pandas.concat instead.\n",
      "  df_assets = df_assets.append({'ticker': ticker,\n"
     ]
    },
    {
     "name": "stdout",
     "output_type": "stream",
     "text": [
      "ATVI\n"
     ]
    },
    {
     "name": "stderr",
     "output_type": "stream",
     "text": [
      "C:\\Users\\ruedi\\AppData\\Local\\Temp\\ipykernel_21156\\1400600094.py:43: FutureWarning: The frame.append method is deprecated and will be removed from pandas in a future version. Use pandas.concat instead.\n",
      "  df_assets = df_assets.append({'ticker': ticker,\n"
     ]
    },
    {
     "name": "stdout",
     "output_type": "stream",
     "text": [
      "ADEN\n",
      "- ADEN: No summary info found, symbol may be delisted\n",
      "ADS\n"
     ]
    },
    {
     "name": "stderr",
     "output_type": "stream",
     "text": [
      "C:\\Users\\ruedi\\AppData\\Local\\Temp\\ipykernel_21156\\1400600094.py:43: FutureWarning: The frame.append method is deprecated and will be removed from pandas in a future version. Use pandas.concat instead.\n",
      "  df_assets = df_assets.append({'ticker': ticker,\n"
     ]
    },
    {
     "name": "stdout",
     "output_type": "stream",
     "text": [
      "- ADS: No summary info found, symbol may be delisted\n",
      "ADBE\n"
     ]
    },
    {
     "name": "stderr",
     "output_type": "stream",
     "text": [
      "C:\\Users\\ruedi\\AppData\\Local\\Temp\\ipykernel_21156\\1400600094.py:43: FutureWarning: The frame.append method is deprecated and will be removed from pandas in a future version. Use pandas.concat instead.\n",
      "  df_assets = df_assets.append({'ticker': ticker,\n"
     ]
    },
    {
     "name": "stdout",
     "output_type": "stream",
     "text": [
      "AF\n",
      "- AF: No summary info found, symbol may be delisted\n",
      "Al\n"
     ]
    },
    {
     "name": "stderr",
     "output_type": "stream",
     "text": [
      "C:\\Users\\ruedi\\AppData\\Local\\Temp\\ipykernel_21156\\1400600094.py:43: FutureWarning: The frame.append method is deprecated and will be removed from pandas in a future version. Use pandas.concat instead.\n",
      "  df_assets = df_assets.append({'ticker': ticker,\n"
     ]
    },
    {
     "name": "stdout",
     "output_type": "stream",
     "text": [
      "ABNB\n"
     ]
    },
    {
     "name": "stderr",
     "output_type": "stream",
     "text": [
      "C:\\Users\\ruedi\\AppData\\Local\\Temp\\ipykernel_21156\\1400600094.py:43: FutureWarning: The frame.append method is deprecated and will be removed from pandas in a future version. Use pandas.concat instead.\n",
      "  df_assets = df_assets.append({'ticker': ticker,\n"
     ]
    },
    {
     "name": "stdout",
     "output_type": "stream",
     "text": [
      "AIR\n"
     ]
    },
    {
     "name": "stderr",
     "output_type": "stream",
     "text": [
      "C:\\Users\\ruedi\\AppData\\Local\\Temp\\ipykernel_21156\\1400600094.py:43: FutureWarning: The frame.append method is deprecated and will be removed from pandas in a future version. Use pandas.concat instead.\n",
      "  df_assets = df_assets.append({'ticker': ticker,\n"
     ]
    },
    {
     "name": "stdout",
     "output_type": "stream",
     "text": [
      "ALC\n"
     ]
    },
    {
     "name": "stderr",
     "output_type": "stream",
     "text": [
      "C:\\Users\\ruedi\\AppData\\Local\\Temp\\ipykernel_21156\\1400600094.py:43: FutureWarning: The frame.append method is deprecated and will be removed from pandas in a future version. Use pandas.concat instead.\n",
      "  df_assets = df_assets.append({'ticker': ticker,\n"
     ]
    },
    {
     "name": "stdout",
     "output_type": "stream",
     "text": [
      "ALV\n"
     ]
    },
    {
     "name": "stderr",
     "output_type": "stream",
     "text": [
      "C:\\Users\\ruedi\\AppData\\Local\\Temp\\ipykernel_21156\\1400600094.py:43: FutureWarning: The frame.append method is deprecated and will be removed from pandas in a future version. Use pandas.concat instead.\n",
      "  df_assets = df_assets.append({'ticker': ticker,\n"
     ]
    },
    {
     "name": "stdout",
     "output_type": "stream",
     "text": [
      "GOOG\n"
     ]
    },
    {
     "name": "stderr",
     "output_type": "stream",
     "text": [
      "C:\\Users\\ruedi\\AppData\\Local\\Temp\\ipykernel_21156\\1400600094.py:43: FutureWarning: The frame.append method is deprecated and will be removed from pandas in a future version. Use pandas.concat instead.\n",
      "  df_assets = df_assets.append({'ticker': ticker,\n"
     ]
    },
    {
     "name": "stdout",
     "output_type": "stream",
     "text": [
      "ALO\n",
      "- ALO: No summary info found, symbol may be delisted\n",
      "AMZN\n"
     ]
    },
    {
     "name": "stderr",
     "output_type": "stream",
     "text": [
      "C:\\Users\\ruedi\\AppData\\Local\\Temp\\ipykernel_21156\\1400600094.py:43: FutureWarning: The frame.append method is deprecated and will be removed from pandas in a future version. Use pandas.concat instead.\n",
      "  df_assets = df_assets.append({'ticker': ticker,\n"
     ]
    },
    {
     "name": "stdout",
     "output_type": "stream",
     "text": [
      "AMD\n"
     ]
    },
    {
     "name": "stderr",
     "output_type": "stream",
     "text": [
      "C:\\Users\\ruedi\\AppData\\Local\\Temp\\ipykernel_21156\\1400600094.py:43: FutureWarning: The frame.append method is deprecated and will be removed from pandas in a future version. Use pandas.concat instead.\n",
      "  df_assets = df_assets.append({'ticker': ticker,\n"
     ]
    },
    {
     "name": "stdout",
     "output_type": "stream",
     "text": [
      "AAL\n"
     ]
    },
    {
     "name": "stderr",
     "output_type": "stream",
     "text": [
      "C:\\Users\\ruedi\\AppData\\Local\\Temp\\ipykernel_21156\\1400600094.py:43: FutureWarning: The frame.append method is deprecated and will be removed from pandas in a future version. Use pandas.concat instead.\n",
      "  df_assets = df_assets.append({'ticker': ticker,\n"
     ]
    },
    {
     "name": "stdout",
     "output_type": "stream",
     "text": [
      "AXP\n"
     ]
    },
    {
     "name": "stderr",
     "output_type": "stream",
     "text": [
      "C:\\Users\\ruedi\\AppData\\Local\\Temp\\ipykernel_21156\\1400600094.py:43: FutureWarning: The frame.append method is deprecated and will be removed from pandas in a future version. Use pandas.concat instead.\n",
      "  df_assets = df_assets.append({'ticker': ticker,\n"
     ]
    },
    {
     "name": "stdout",
     "output_type": "stream",
     "text": [
      "AMGN\n"
     ]
    },
    {
     "name": "stderr",
     "output_type": "stream",
     "text": [
      "C:\\Users\\ruedi\\AppData\\Local\\Temp\\ipykernel_21156\\1400600094.py:43: FutureWarning: The frame.append method is deprecated and will be removed from pandas in a future version. Use pandas.concat instead.\n",
      "  df_assets = df_assets.append({'ticker': ticker,\n"
     ]
    },
    {
     "name": "stdout",
     "output_type": "stream",
     "text": [
      "AMS\n"
     ]
    },
    {
     "name": "stderr",
     "output_type": "stream",
     "text": [
      "C:\\Users\\ruedi\\AppData\\Local\\Temp\\ipykernel_21156\\1400600094.py:43: FutureWarning: The frame.append method is deprecated and will be removed from pandas in a future version. Use pandas.concat instead.\n",
      "  df_assets = df_assets.append({'ticker': ticker,\n"
     ]
    },
    {
     "name": "stdout",
     "output_type": "stream",
     "text": [
      "BUD\n"
     ]
    },
    {
     "name": "stderr",
     "output_type": "stream",
     "text": [
      "C:\\Users\\ruedi\\AppData\\Local\\Temp\\ipykernel_21156\\1400600094.py:43: FutureWarning: The frame.append method is deprecated and will be removed from pandas in a future version. Use pandas.concat instead.\n",
      "  df_assets = df_assets.append({'ticker': ticker,\n"
     ]
    },
    {
     "name": "stdout",
     "output_type": "stream",
     "text": [
      "AAPL\n"
     ]
    },
    {
     "name": "stderr",
     "output_type": "stream",
     "text": [
      "C:\\Users\\ruedi\\AppData\\Local\\Temp\\ipykernel_21156\\1400600094.py:43: FutureWarning: The frame.append method is deprecated and will be removed from pandas in a future version. Use pandas.concat instead.\n",
      "  df_assets = df_assets.append({'ticker': ticker,\n"
     ]
    },
    {
     "name": "stdout",
     "output_type": "stream",
     "text": [
      "AMAT\n"
     ]
    },
    {
     "name": "stderr",
     "output_type": "stream",
     "text": [
      "C:\\Users\\ruedi\\AppData\\Local\\Temp\\ipykernel_21156\\1400600094.py:43: FutureWarning: The frame.append method is deprecated and will be removed from pandas in a future version. Use pandas.concat instead.\n",
      "  df_assets = df_assets.append({'ticker': ticker,\n"
     ]
    },
    {
     "name": "stdout",
     "output_type": "stream",
     "text": [
      "ASML\n"
     ]
    },
    {
     "name": "stderr",
     "output_type": "stream",
     "text": [
      "C:\\Users\\ruedi\\AppData\\Local\\Temp\\ipykernel_21156\\1400600094.py:43: FutureWarning: The frame.append method is deprecated and will be removed from pandas in a future version. Use pandas.concat instead.\n",
      "  df_assets = df_assets.append({'ticker': ticker,\n"
     ]
    },
    {
     "name": "stdout",
     "output_type": "stream",
     "text": [
      "AML\n"
     ]
    },
    {
     "name": "stderr",
     "output_type": "stream",
     "text": [
      "C:\\Users\\ruedi\\AppData\\Local\\Temp\\ipykernel_21156\\1400600094.py:43: FutureWarning: The frame.append method is deprecated and will be removed from pandas in a future version. Use pandas.concat instead.\n",
      "  df_assets = df_assets.append({'ticker': ticker,\n"
     ]
    },
    {
     "name": "stdout",
     "output_type": "stream",
     "text": [
      "AZN\n"
     ]
    },
    {
     "name": "stderr",
     "output_type": "stream",
     "text": [
      "C:\\Users\\ruedi\\AppData\\Local\\Temp\\ipykernel_21156\\1400600094.py:43: FutureWarning: The frame.append method is deprecated and will be removed from pandas in a future version. Use pandas.concat instead.\n",
      "  df_assets = df_assets.append({'ticker': ticker,\n"
     ]
    },
    {
     "name": "stdout",
     "output_type": "stream",
     "text": [
      "T\n"
     ]
    },
    {
     "name": "stderr",
     "output_type": "stream",
     "text": [
      "C:\\Users\\ruedi\\AppData\\Local\\Temp\\ipykernel_21156\\1400600094.py:43: FutureWarning: The frame.append method is deprecated and will be removed from pandas in a future version. Use pandas.concat instead.\n",
      "  df_assets = df_assets.append({'ticker': ticker,\n"
     ]
    },
    {
     "name": "stdout",
     "output_type": "stream",
     "text": [
      "CS\n"
     ]
    },
    {
     "name": "stderr",
     "output_type": "stream",
     "text": [
      "C:\\Users\\ruedi\\AppData\\Local\\Temp\\ipykernel_21156\\1400600094.py:43: FutureWarning: The frame.append method is deprecated and will be removed from pandas in a future version. Use pandas.concat instead.\n",
      "  df_assets = df_assets.append({'ticker': ticker,\n"
     ]
    },
    {
     "name": "stdout",
     "output_type": "stream",
     "text": [
      "BALN\n",
      "- BALN: No summary info found, symbol may be delisted\n",
      "BAC\n"
     ]
    },
    {
     "name": "stderr",
     "output_type": "stream",
     "text": [
      "C:\\Users\\ruedi\\AppData\\Local\\Temp\\ipykernel_21156\\1400600094.py:43: FutureWarning: The frame.append method is deprecated and will be removed from pandas in a future version. Use pandas.concat instead.\n",
      "  df_assets = df_assets.append({'ticker': ticker,\n"
     ]
    },
    {
     "name": "stdout",
     "output_type": "stream",
     "text": [
      "BCGE\n",
      "- BCGE: No summary info found, symbol may be delisted\n",
      "BCVN\n",
      "- BCVN: No summary info found, symbol may be delisted\n",
      "BAS\n",
      "- BAS: No summary info found, symbol may be delisted\n",
      "BSKP\n",
      "- BSKP: No summary info found, symbol may be delisted\n",
      "BAYN\n",
      "- BAYN: No summary info found, symbol may be delisted\n",
      "BELL\n",
      "- BELL: No summary info found, symbol may be delisted\n",
      "BRK/B\n",
      "- BRKB: No summary info found, symbol may be delisted\n",
      "BEKN\n",
      "- BEKN: No summary info found, symbol may be delisted\n",
      "BYND\n"
     ]
    },
    {
     "name": "stderr",
     "output_type": "stream",
     "text": [
      "C:\\Users\\ruedi\\AppData\\Local\\Temp\\ipykernel_21156\\1400600094.py:43: FutureWarning: The frame.append method is deprecated and will be removed from pandas in a future version. Use pandas.concat instead.\n",
      "  df_assets = df_assets.append({'ticker': ticker,\n"
     ]
    },
    {
     "name": "stdout",
     "output_type": "stream",
     "text": [
      "BHP\n"
     ]
    },
    {
     "name": "stderr",
     "output_type": "stream",
     "text": [
      "C:\\Users\\ruedi\\AppData\\Local\\Temp\\ipykernel_21156\\1400600094.py:43: FutureWarning: The frame.append method is deprecated and will be removed from pandas in a future version. Use pandas.concat instead.\n",
      "  df_assets = df_assets.append({'ticker': ticker,\n"
     ]
    },
    {
     "name": "stdout",
     "output_type": "stream",
     "text": [
      "BNTX\n"
     ]
    },
    {
     "name": "stderr",
     "output_type": "stream",
     "text": [
      "C:\\Users\\ruedi\\AppData\\Local\\Temp\\ipykernel_21156\\1400600094.py:43: FutureWarning: The frame.append method is deprecated and will be removed from pandas in a future version. Use pandas.concat instead.\n",
      "  df_assets = df_assets.append({'ticker': ticker,\n"
     ]
    },
    {
     "name": "stdout",
     "output_type": "stream",
     "text": [
      "BKW\n"
     ]
    },
    {
     "name": "stderr",
     "output_type": "stream",
     "text": [
      "C:\\Users\\ruedi\\AppData\\Local\\Temp\\ipykernel_21156\\1400600094.py:43: FutureWarning: The frame.append method is deprecated and will be removed from pandas in a future version. Use pandas.concat instead.\n",
      "  df_assets = df_assets.append({'ticker': ticker,\n"
     ]
    },
    {
     "name": "stdout",
     "output_type": "stream",
     "text": [
      "BLK\n"
     ]
    },
    {
     "name": "stderr",
     "output_type": "stream",
     "text": [
      "C:\\Users\\ruedi\\AppData\\Local\\Temp\\ipykernel_21156\\1400600094.py:43: FutureWarning: The frame.append method is deprecated and will be removed from pandas in a future version. Use pandas.concat instead.\n",
      "  df_assets = df_assets.append({'ticker': ticker,\n"
     ]
    },
    {
     "name": "stdout",
     "output_type": "stream",
     "text": [
      "SQ\n"
     ]
    },
    {
     "name": "stderr",
     "output_type": "stream",
     "text": [
      "C:\\Users\\ruedi\\AppData\\Local\\Temp\\ipykernel_21156\\1400600094.py:43: FutureWarning: The frame.append method is deprecated and will be removed from pandas in a future version. Use pandas.concat instead.\n",
      "  df_assets = df_assets.append({'ticker': ticker,\n"
     ]
    },
    {
     "name": "stdout",
     "output_type": "stream",
     "text": [
      "BMW\n",
      "- BMW: No summary info found, symbol may be delisted\n",
      "BNP\n"
     ]
    },
    {
     "name": "stderr",
     "output_type": "stream",
     "text": [
      "C:\\Users\\ruedi\\AppData\\Local\\Temp\\ipykernel_21156\\1400600094.py:43: FutureWarning: The frame.append method is deprecated and will be removed from pandas in a future version. Use pandas.concat instead.\n",
      "  df_assets = df_assets.append({'ticker': ticker,\n"
     ]
    },
    {
     "name": "stdout",
     "output_type": "stream",
     "text": [
      "BOBNN\n",
      "- BOBNN: No summary info found, symbol may be delisted\n",
      "BA\n"
     ]
    },
    {
     "name": "stderr",
     "output_type": "stream",
     "text": [
      "C:\\Users\\ruedi\\AppData\\Local\\Temp\\ipykernel_21156\\1400600094.py:43: FutureWarning: The frame.append method is deprecated and will be removed from pandas in a future version. Use pandas.concat instead.\n",
      "  df_assets = df_assets.append({'ticker': ticker,\n"
     ]
    },
    {
     "name": "stdout",
     "output_type": "stream",
     "text": [
      "BKNG\n"
     ]
    },
    {
     "name": "stderr",
     "output_type": "stream",
     "text": [
      "C:\\Users\\ruedi\\AppData\\Local\\Temp\\ipykernel_21156\\1400600094.py:43: FutureWarning: The frame.append method is deprecated and will be removed from pandas in a future version. Use pandas.concat instead.\n",
      "  df_assets = df_assets.append({'ticker': ticker,\n"
     ]
    },
    {
     "name": "stdout",
     "output_type": "stream",
     "text": [
      "BVB\n"
     ]
    },
    {
     "name": "stderr",
     "output_type": "stream",
     "text": [
      "C:\\Users\\ruedi\\AppData\\Local\\Temp\\ipykernel_21156\\1400600094.py:43: FutureWarning: The frame.append method is deprecated and will be removed from pandas in a future version. Use pandas.concat instead.\n",
      "  df_assets = df_assets.append({'ticker': ticker,\n"
     ]
    },
    {
     "name": "stdout",
     "output_type": "stream",
     "text": [
      "BATS\n"
     ]
    },
    {
     "name": "stderr",
     "output_type": "stream",
     "text": [
      "C:\\Users\\ruedi\\AppData\\Local\\Temp\\ipykernel_21156\\1400600094.py:43: FutureWarning: The frame.append method is deprecated and will be removed from pandas in a future version. Use pandas.concat instead.\n",
      "  df_assets = df_assets.append({'ticker': ticker,\n"
     ]
    },
    {
     "name": "stdout",
     "output_type": "stream",
     "text": [
      "BP.\n"
     ]
    },
    {
     "name": "stderr",
     "output_type": "stream",
     "text": [
      "C:\\Users\\ruedi\\AppData\\Local\\Temp\\ipykernel_21156\\1400600094.py:43: FutureWarning: The frame.append method is deprecated and will be removed from pandas in a future version. Use pandas.concat instead.\n",
      "  df_assets = df_assets.append({'ticker': ticker,\n"
     ]
    },
    {
     "name": "stdout",
     "output_type": "stream",
     "text": [
      "BMBL\n"
     ]
    },
    {
     "name": "stderr",
     "output_type": "stream",
     "text": [
      "C:\\Users\\ruedi\\AppData\\Local\\Temp\\ipykernel_21156\\1400600094.py:43: FutureWarning: The frame.append method is deprecated and will be removed from pandas in a future version. Use pandas.concat instead.\n",
      "  df_assets = df_assets.append({'ticker': ticker,\n"
     ]
    },
    {
     "name": "stdout",
     "output_type": "stream",
     "text": [
      "BRBY\n",
      "- BRBY: No summary info found, symbol may be delisted\n",
      "CALN\n"
     ]
    },
    {
     "name": "stderr",
     "output_type": "stream",
     "text": [
      "C:\\Users\\ruedi\\AppData\\Local\\Temp\\ipykernel_21156\\1400600094.py:43: FutureWarning: The frame.append method is deprecated and will be removed from pandas in a future version. Use pandas.concat instead.\n",
      "  df_assets = df_assets.append({'ticker': ticker,\n"
     ]
    },
    {
     "name": "stdout",
     "output_type": "stream",
     "text": [
      "CCL\n"
     ]
    },
    {
     "name": "stderr",
     "output_type": "stream",
     "text": [
      "C:\\Users\\ruedi\\AppData\\Local\\Temp\\ipykernel_21156\\1400600094.py:43: FutureWarning: The frame.append method is deprecated and will be removed from pandas in a future version. Use pandas.concat instead.\n",
      "  df_assets = df_assets.append({'ticker': ticker,\n"
     ]
    },
    {
     "name": "stdout",
     "output_type": "stream",
     "text": [
      "CAT\n"
     ]
    },
    {
     "name": "stderr",
     "output_type": "stream",
     "text": [
      "C:\\Users\\ruedi\\AppData\\Local\\Temp\\ipykernel_21156\\1400600094.py:43: FutureWarning: The frame.append method is deprecated and will be removed from pandas in a future version. Use pandas.concat instead.\n",
      "  df_assets = df_assets.append({'ticker': ticker,\n"
     ]
    },
    {
     "name": "stdout",
     "output_type": "stream",
     "text": [
      "CVX\n"
     ]
    },
    {
     "name": "stderr",
     "output_type": "stream",
     "text": [
      "C:\\Users\\ruedi\\AppData\\Local\\Temp\\ipykernel_21156\\1400600094.py:43: FutureWarning: The frame.append method is deprecated and will be removed from pandas in a future version. Use pandas.concat instead.\n",
      "  df_assets = df_assets.append({'ticker': ticker,\n"
     ]
    },
    {
     "name": "stdout",
     "output_type": "stream",
     "text": [
      "CDI\n"
     ]
    },
    {
     "name": "stderr",
     "output_type": "stream",
     "text": [
      "C:\\Users\\ruedi\\AppData\\Local\\Temp\\ipykernel_21156\\1400600094.py:43: FutureWarning: The frame.append method is deprecated and will be removed from pandas in a future version. Use pandas.concat instead.\n",
      "  df_assets = df_assets.append({'ticker': ticker,\n"
     ]
    },
    {
     "name": "stdout",
     "output_type": "stream",
     "text": [
      "CSCO\n"
     ]
    },
    {
     "name": "stderr",
     "output_type": "stream",
     "text": [
      "C:\\Users\\ruedi\\AppData\\Local\\Temp\\ipykernel_21156\\1400600094.py:43: FutureWarning: The frame.append method is deprecated and will be removed from pandas in a future version. Use pandas.concat instead.\n",
      "  df_assets = df_assets.append({'ticker': ticker,\n"
     ]
    },
    {
     "name": "stdout",
     "output_type": "stream",
     "text": [
      "C\n"
     ]
    },
    {
     "name": "stderr",
     "output_type": "stream",
     "text": [
      "C:\\Users\\ruedi\\AppData\\Local\\Temp\\ipykernel_21156\\1400600094.py:43: FutureWarning: The frame.append method is deprecated and will be removed from pandas in a future version. Use pandas.concat instead.\n",
      "  df_assets = df_assets.append({'ticker': ticker,\n"
     ]
    },
    {
     "name": "stdout",
     "output_type": "stream",
     "text": [
      "CLN\n"
     ]
    },
    {
     "name": "stderr",
     "output_type": "stream",
     "text": [
      "C:\\Users\\ruedi\\AppData\\Local\\Temp\\ipykernel_21156\\1400600094.py:43: FutureWarning: The frame.append method is deprecated and will be removed from pandas in a future version. Use pandas.concat instead.\n",
      "  df_assets = df_assets.append({'ticker': ticker,\n"
     ]
    },
    {
     "name": "stdout",
     "output_type": "stream",
     "text": [
      "KO\n"
     ]
    },
    {
     "name": "stderr",
     "output_type": "stream",
     "text": [
      "C:\\Users\\ruedi\\AppData\\Local\\Temp\\ipykernel_21156\\1400600094.py:43: FutureWarning: The frame.append method is deprecated and will be removed from pandas in a future version. Use pandas.concat instead.\n",
      "  df_assets = df_assets.append({'ticker': ticker,\n"
     ]
    },
    {
     "name": "stdout",
     "output_type": "stream",
     "text": [
      "COIN\n"
     ]
    },
    {
     "name": "stderr",
     "output_type": "stream",
     "text": [
      "C:\\Users\\ruedi\\AppData\\Local\\Temp\\ipykernel_21156\\1400600094.py:43: FutureWarning: The frame.append method is deprecated and will be removed from pandas in a future version. Use pandas.concat instead.\n",
      "  df_assets = df_assets.append({'ticker': ticker,\n"
     ]
    },
    {
     "name": "stdout",
     "output_type": "stream",
     "text": [
      "CMCSA\n"
     ]
    },
    {
     "name": "stderr",
     "output_type": "stream",
     "text": [
      "C:\\Users\\ruedi\\AppData\\Local\\Temp\\ipykernel_21156\\1400600094.py:43: FutureWarning: The frame.append method is deprecated and will be removed from pandas in a future version. Use pandas.concat instead.\n",
      "  df_assets = df_assets.append({'ticker': ticker,\n"
     ]
    },
    {
     "name": "stdout",
     "output_type": "stream",
     "text": [
      "CBK\n",
      "- CBK: No summary info found, symbol may be delisted\n",
      "COST\n"
     ]
    },
    {
     "name": "stderr",
     "output_type": "stream",
     "text": [
      "C:\\Users\\ruedi\\AppData\\Local\\Temp\\ipykernel_21156\\1400600094.py:43: FutureWarning: The frame.append method is deprecated and will be removed from pandas in a future version. Use pandas.concat instead.\n",
      "  df_assets = df_assets.append({'ticker': ticker,\n"
     ]
    },
    {
     "name": "stdout",
     "output_type": "stream",
     "text": [
      "ACA\n"
     ]
    },
    {
     "name": "stderr",
     "output_type": "stream",
     "text": [
      "C:\\Users\\ruedi\\AppData\\Local\\Temp\\ipykernel_21156\\1400600094.py:43: FutureWarning: The frame.append method is deprecated and will be removed from pandas in a future version. Use pandas.concat instead.\n",
      "  df_assets = df_assets.append({'ticker': ticker,\n"
     ]
    },
    {
     "name": "stdout",
     "output_type": "stream",
     "text": [
      "CSGN\n"
     ]
    },
    {
     "name": "stderr",
     "output_type": "stream",
     "text": [
      "C:\\Users\\ruedi\\AppData\\Local\\Temp\\ipykernel_21156\\1400600094.py:43: FutureWarning: The frame.append method is deprecated and will be removed from pandas in a future version. Use pandas.concat instead.\n",
      "  df_assets = df_assets.append({'ticker': ticker,\n"
     ]
    },
    {
     "name": "stdout",
     "output_type": "stream",
     "text": [
      "5CV\n",
      "- 5CV: No summary info found, symbol may be delisted\n",
      "DAI\n"
     ]
    },
    {
     "name": "stderr",
     "output_type": "stream",
     "text": [
      "C:\\Users\\ruedi\\AppData\\Local\\Temp\\ipykernel_21156\\1400600094.py:43: FutureWarning: The frame.append method is deprecated and will be removed from pandas in a future version. Use pandas.concat instead.\n",
      "  df_assets = df_assets.append({'ticker': ticker,\n"
     ]
    },
    {
     "name": "stdout",
     "output_type": "stream",
     "text": [
      "BN\n"
     ]
    },
    {
     "name": "stderr",
     "output_type": "stream",
     "text": [
      "C:\\Users\\ruedi\\AppData\\Local\\Temp\\ipykernel_21156\\1400600094.py:43: FutureWarning: The frame.append method is deprecated and will be removed from pandas in a future version. Use pandas.concat instead.\n",
      "  df_assets = df_assets.append({'ticker': ticker,\n"
     ]
    },
    {
     "name": "stdout",
     "output_type": "stream",
     "text": [
      "DELL\n"
     ]
    },
    {
     "name": "stderr",
     "output_type": "stream",
     "text": [
      "C:\\Users\\ruedi\\AppData\\Local\\Temp\\ipykernel_21156\\1400600094.py:43: FutureWarning: The frame.append method is deprecated and will be removed from pandas in a future version. Use pandas.concat instead.\n",
      "  df_assets = df_assets.append({'ticker': ticker,\n"
     ]
    },
    {
     "name": "stdout",
     "output_type": "stream",
     "text": [
      "DAL\n"
     ]
    },
    {
     "name": "stderr",
     "output_type": "stream",
     "text": [
      "C:\\Users\\ruedi\\AppData\\Local\\Temp\\ipykernel_21156\\1400600094.py:43: FutureWarning: The frame.append method is deprecated and will be removed from pandas in a future version. Use pandas.concat instead.\n",
      "  df_assets = df_assets.append({'ticker': ticker,\n"
     ]
    },
    {
     "name": "stdout",
     "output_type": "stream",
     "text": [
      "DBK\n",
      "- DBK: No summary info found, symbol may be delisted\n",
      "DPW\n",
      "- DPW: No summary info found, symbol may be delisted\n",
      "DTE\n"
     ]
    },
    {
     "name": "stderr",
     "output_type": "stream",
     "text": [
      "C:\\Users\\ruedi\\AppData\\Local\\Temp\\ipykernel_21156\\1400600094.py:43: FutureWarning: The frame.append method is deprecated and will be removed from pandas in a future version. Use pandas.concat instead.\n",
      "  df_assets = df_assets.append({'ticker': ticker,\n"
     ]
    },
    {
     "name": "stdout",
     "output_type": "stream",
     "text": [
      "DUFN\n",
      "- DUFN: No summary info found, symbol may be delisted\n",
      "EOAN\n",
      "- EOAN: No summary info found, symbol may be delisted\n",
      "EZJ\n"
     ]
    },
    {
     "name": "stderr",
     "output_type": "stream",
     "text": [
      "C:\\Users\\ruedi\\AppData\\Local\\Temp\\ipykernel_21156\\1400600094.py:43: FutureWarning: The frame.append method is deprecated and will be removed from pandas in a future version. Use pandas.concat instead.\n",
      "  df_assets = df_assets.append({'ticker': ticker,\n"
     ]
    },
    {
     "name": "stdout",
     "output_type": "stream",
     "text": [
      "EBAY\n"
     ]
    },
    {
     "name": "stderr",
     "output_type": "stream",
     "text": [
      "C:\\Users\\ruedi\\AppData\\Local\\Temp\\ipykernel_21156\\1400600094.py:43: FutureWarning: The frame.append method is deprecated and will be removed from pandas in a future version. Use pandas.concat instead.\n",
      "  df_assets = df_assets.append({'ticker': ticker,\n"
     ]
    },
    {
     "name": "stdout",
     "output_type": "stream",
     "text": [
      "EDF\n"
     ]
    },
    {
     "name": "stderr",
     "output_type": "stream",
     "text": [
      "C:\\Users\\ruedi\\AppData\\Local\\Temp\\ipykernel_21156\\1400600094.py:43: FutureWarning: The frame.append method is deprecated and will be removed from pandas in a future version. Use pandas.concat instead.\n",
      "  df_assets = df_assets.append({'ticker': ticker,\n"
     ]
    },
    {
     "name": "stdout",
     "output_type": "stream",
     "text": [
      "EA\n"
     ]
    },
    {
     "name": "stderr",
     "output_type": "stream",
     "text": [
      "C:\\Users\\ruedi\\AppData\\Local\\Temp\\ipykernel_21156\\1400600094.py:43: FutureWarning: The frame.append method is deprecated and will be removed from pandas in a future version. Use pandas.concat instead.\n",
      "  df_assets = df_assets.append({'ticker': ticker,\n"
     ]
    },
    {
     "name": "stdout",
     "output_type": "stream",
     "text": [
      "LLY\n"
     ]
    },
    {
     "name": "stderr",
     "output_type": "stream",
     "text": [
      "C:\\Users\\ruedi\\AppData\\Local\\Temp\\ipykernel_21156\\1400600094.py:43: FutureWarning: The frame.append method is deprecated and will be removed from pandas in a future version. Use pandas.concat instead.\n",
      "  df_assets = df_assets.append({'ticker': ticker,\n"
     ]
    },
    {
     "name": "stdout",
     "output_type": "stream",
     "text": [
      "EMMN\n",
      "- EMMN: No summary info found, symbol may be delisted\n",
      "EMSN\n",
      "- EMSN: No summary info found, symbol may be delisted\n",
      "ENEL\n",
      "- ENEL: No summary info found, symbol may be delisted\n",
      "ENGI\n",
      "- ENGI: No summary info found, symbol may be delisted\n",
      "ENI\n"
     ]
    },
    {
     "name": "stderr",
     "output_type": "stream",
     "text": [
      "C:\\Users\\ruedi\\AppData\\Local\\Temp\\ipykernel_21156\\1400600094.py:43: FutureWarning: The frame.append method is deprecated and will be removed from pandas in a future version. Use pandas.concat instead.\n",
      "  df_assets = df_assets.append({'ticker': ticker,\n"
     ]
    },
    {
     "name": "stdout",
     "output_type": "stream",
     "text": [
      "EL\n"
     ]
    },
    {
     "name": "stderr",
     "output_type": "stream",
     "text": [
      "C:\\Users\\ruedi\\AppData\\Local\\Temp\\ipykernel_21156\\1400600094.py:43: FutureWarning: The frame.append method is deprecated and will be removed from pandas in a future version. Use pandas.concat instead.\n",
      "  df_assets = df_assets.append({'ticker': ticker,\n"
     ]
    },
    {
     "name": "stdout",
     "output_type": "stream",
     "text": [
      "ETSY\n"
     ]
    },
    {
     "name": "stderr",
     "output_type": "stream",
     "text": [
      "C:\\Users\\ruedi\\AppData\\Local\\Temp\\ipykernel_21156\\1400600094.py:43: FutureWarning: The frame.append method is deprecated and will be removed from pandas in a future version. Use pandas.concat instead.\n",
      "  df_assets = df_assets.append({'ticker': ticker,\n"
     ]
    },
    {
     "name": "stdout",
     "output_type": "stream",
     "text": [
      "EXPE\n"
     ]
    },
    {
     "name": "stderr",
     "output_type": "stream",
     "text": [
      "C:\\Users\\ruedi\\AppData\\Local\\Temp\\ipykernel_21156\\1400600094.py:43: FutureWarning: The frame.append method is deprecated and will be removed from pandas in a future version. Use pandas.concat instead.\n",
      "  df_assets = df_assets.append({'ticker': ticker,\n"
     ]
    },
    {
     "name": "stdout",
     "output_type": "stream",
     "text": [
      "XOM\n"
     ]
    },
    {
     "name": "stderr",
     "output_type": "stream",
     "text": [
      "C:\\Users\\ruedi\\AppData\\Local\\Temp\\ipykernel_21156\\1400600094.py:43: FutureWarning: The frame.append method is deprecated and will be removed from pandas in a future version. Use pandas.concat instead.\n",
      "  df_assets = df_assets.append({'ticker': ticker,\n"
     ]
    },
    {
     "name": "stdout",
     "output_type": "stream",
     "text": [
      "FDX\n"
     ]
    },
    {
     "name": "stderr",
     "output_type": "stream",
     "text": [
      "C:\\Users\\ruedi\\AppData\\Local\\Temp\\ipykernel_21156\\1400600094.py:43: FutureWarning: The frame.append method is deprecated and will be removed from pandas in a future version. Use pandas.concat instead.\n",
      "  df_assets = df_assets.append({'ticker': ticker,\n"
     ]
    },
    {
     "name": "stdout",
     "output_type": "stream",
     "text": [
      "RACE\n"
     ]
    },
    {
     "name": "stderr",
     "output_type": "stream",
     "text": [
      "C:\\Users\\ruedi\\AppData\\Local\\Temp\\ipykernel_21156\\1400600094.py:43: FutureWarning: The frame.append method is deprecated and will be removed from pandas in a future version. Use pandas.concat instead.\n",
      "  df_assets = df_assets.append({'ticker': ticker,\n"
     ]
    },
    {
     "name": "stdout",
     "output_type": "stream",
     "text": [
      "FI-N\n"
     ]
    },
    {
     "name": "stderr",
     "output_type": "stream",
     "text": [
      "C:\\Users\\ruedi\\AppData\\Local\\Temp\\ipykernel_21156\\1400600094.py:43: FutureWarning: The frame.append method is deprecated and will be removed from pandas in a future version. Use pandas.concat instead.\n",
      "  df_assets = df_assets.append({'ticker': ticker,\n"
     ]
    },
    {
     "name": "stdout",
     "output_type": "stream",
     "text": [
      "FHZN\n",
      "- FHZN: No summary info found, symbol may be delisted\n",
      "FL\n"
     ]
    },
    {
     "name": "stderr",
     "output_type": "stream",
     "text": [
      "C:\\Users\\ruedi\\AppData\\Local\\Temp\\ipykernel_21156\\1400600094.py:43: FutureWarning: The frame.append method is deprecated and will be removed from pandas in a future version. Use pandas.concat instead.\n",
      "  df_assets = df_assets.append({'ticker': ticker,\n"
     ]
    },
    {
     "name": "stdout",
     "output_type": "stream",
     "text": [
      "F\n"
     ]
    },
    {
     "name": "stderr",
     "output_type": "stream",
     "text": [
      "C:\\Users\\ruedi\\AppData\\Local\\Temp\\ipykernel_21156\\1400600094.py:43: FutureWarning: The frame.append method is deprecated and will be removed from pandas in a future version. Use pandas.concat instead.\n",
      "  df_assets = df_assets.append({'ticker': ticker,\n"
     ]
    },
    {
     "name": "stdout",
     "output_type": "stream",
     "text": [
      "GPS\n"
     ]
    },
    {
     "name": "stderr",
     "output_type": "stream",
     "text": [
      "C:\\Users\\ruedi\\AppData\\Local\\Temp\\ipykernel_21156\\1400600094.py:43: FutureWarning: The frame.append method is deprecated and will be removed from pandas in a future version. Use pandas.concat instead.\n",
      "  df_assets = df_assets.append({'ticker': ticker,\n"
     ]
    },
    {
     "name": "stdout",
     "output_type": "stream",
     "text": [
      "GEBN\n",
      "- GEBN: No summary info found, symbol may be delisted\n",
      "GE\n"
     ]
    },
    {
     "name": "stderr",
     "output_type": "stream",
     "text": [
      "C:\\Users\\ruedi\\AppData\\Local\\Temp\\ipykernel_21156\\1400600094.py:43: FutureWarning: The frame.append method is deprecated and will be removed from pandas in a future version. Use pandas.concat instead.\n",
      "  df_assets = df_assets.append({'ticker': ticker,\n"
     ]
    },
    {
     "name": "stdout",
     "output_type": "stream",
     "text": [
      "GIS\n"
     ]
    },
    {
     "name": "stderr",
     "output_type": "stream",
     "text": [
      "C:\\Users\\ruedi\\AppData\\Local\\Temp\\ipykernel_21156\\1400600094.py:43: FutureWarning: The frame.append method is deprecated and will be removed from pandas in a future version. Use pandas.concat instead.\n",
      "  df_assets = df_assets.append({'ticker': ticker,\n"
     ]
    },
    {
     "name": "stdout",
     "output_type": "stream",
     "text": [
      "GM\n"
     ]
    },
    {
     "name": "stderr",
     "output_type": "stream",
     "text": [
      "C:\\Users\\ruedi\\AppData\\Local\\Temp\\ipykernel_21156\\1400600094.py:43: FutureWarning: The frame.append method is deprecated and will be removed from pandas in a future version. Use pandas.concat instead.\n",
      "  df_assets = df_assets.append({'ticker': ticker,\n"
     ]
    },
    {
     "name": "stdout",
     "output_type": "stream",
     "text": [
      "GIVN\n"
     ]
    },
    {
     "name": "stderr",
     "output_type": "stream",
     "text": [
      "C:\\Users\\ruedi\\AppData\\Local\\Temp\\ipykernel_21156\\1400600094.py:43: FutureWarning: The frame.append method is deprecated and will be removed from pandas in a future version. Use pandas.concat instead.\n",
      "  df_assets = df_assets.append({'ticker': ticker,\n"
     ]
    },
    {
     "name": "stdout",
     "output_type": "stream",
     "text": [
      "GSK\n"
     ]
    },
    {
     "name": "stderr",
     "output_type": "stream",
     "text": [
      "C:\\Users\\ruedi\\AppData\\Local\\Temp\\ipykernel_21156\\1400600094.py:43: FutureWarning: The frame.append method is deprecated and will be removed from pandas in a future version. Use pandas.concat instead.\n",
      "  df_assets = df_assets.append({'ticker': ticker,\n"
     ]
    },
    {
     "name": "stdout",
     "output_type": "stream",
     "text": [
      "GLEN\n",
      "- GLEN: No summary info found, symbol may be delisted\n",
      "GS\n"
     ]
    },
    {
     "name": "stderr",
     "output_type": "stream",
     "text": [
      "C:\\Users\\ruedi\\AppData\\Local\\Temp\\ipykernel_21156\\1400600094.py:43: FutureWarning: The frame.append method is deprecated and will be removed from pandas in a future version. Use pandas.concat instead.\n",
      "  df_assets = df_assets.append({'ticker': ticker,\n"
     ]
    },
    {
     "name": "stdout",
     "output_type": "stream",
     "text": [
      "GT\n"
     ]
    },
    {
     "name": "stderr",
     "output_type": "stream",
     "text": [
      "C:\\Users\\ruedi\\AppData\\Local\\Temp\\ipykernel_21156\\1400600094.py:43: FutureWarning: The frame.append method is deprecated and will be removed from pandas in a future version. Use pandas.concat instead.\n",
      "  df_assets = df_assets.append({'ticker': ticker,\n"
     ]
    },
    {
     "name": "stdout",
     "output_type": "stream",
     "text": [
      "GPRO\n"
     ]
    },
    {
     "name": "stderr",
     "output_type": "stream",
     "text": [
      "C:\\Users\\ruedi\\AppData\\Local\\Temp\\ipykernel_21156\\1400600094.py:43: FutureWarning: The frame.append method is deprecated and will be removed from pandas in a future version. Use pandas.concat instead.\n",
      "  df_assets = df_assets.append({'ticker': ticker,\n"
     ]
    },
    {
     "name": "stdout",
     "output_type": "stream",
     "text": [
      "HOG\n"
     ]
    },
    {
     "name": "stderr",
     "output_type": "stream",
     "text": [
      "C:\\Users\\ruedi\\AppData\\Local\\Temp\\ipykernel_21156\\1400600094.py:43: FutureWarning: The frame.append method is deprecated and will be removed from pandas in a future version. Use pandas.concat instead.\n",
      "  df_assets = df_assets.append({'ticker': ticker,\n"
     ]
    },
    {
     "name": "stdout",
     "output_type": "stream",
     "text": [
      "HAS\n"
     ]
    },
    {
     "name": "stderr",
     "output_type": "stream",
     "text": [
      "C:\\Users\\ruedi\\AppData\\Local\\Temp\\ipykernel_21156\\1400600094.py:43: FutureWarning: The frame.append method is deprecated and will be removed from pandas in a future version. Use pandas.concat instead.\n",
      "  df_assets = df_assets.append({'ticker': ticker,\n"
     ]
    },
    {
     "name": "stdout",
     "output_type": "stream",
     "text": [
      "HEIO\n",
      "- HEIO: No summary info found, symbol may be delisted\n",
      "HFG\n",
      "- HFG: No summary info found, symbol may be delisted\n",
      "HELN\n",
      "- HELN: No summary info found, symbol may be delisted\n",
      "RMS\n"
     ]
    },
    {
     "name": "stderr",
     "output_type": "stream",
     "text": [
      "C:\\Users\\ruedi\\AppData\\Local\\Temp\\ipykernel_21156\\1400600094.py:43: FutureWarning: The frame.append method is deprecated and will be removed from pandas in a future version. Use pandas.concat instead.\n",
      "  df_assets = df_assets.append({'ticker': ticker,\n"
     ]
    },
    {
     "name": "stdout",
     "output_type": "stream",
     "text": [
      "HOLN\n",
      "- HOLN: No summary info found, symbol may be delisted\n",
      "HD\n"
     ]
    },
    {
     "name": "stderr",
     "output_type": "stream",
     "text": [
      "C:\\Users\\ruedi\\AppData\\Local\\Temp\\ipykernel_21156\\1400600094.py:43: FutureWarning: The frame.append method is deprecated and will be removed from pandas in a future version. Use pandas.concat instead.\n",
      "  df_assets = df_assets.append({'ticker': ticker,\n"
     ]
    },
    {
     "name": "stdout",
     "output_type": "stream",
     "text": [
      "HMC\n"
     ]
    },
    {
     "name": "stderr",
     "output_type": "stream",
     "text": [
      "C:\\Users\\ruedi\\AppData\\Local\\Temp\\ipykernel_21156\\1400600094.py:43: FutureWarning: The frame.append method is deprecated and will be removed from pandas in a future version. Use pandas.concat instead.\n",
      "  df_assets = df_assets.append({'ticker': ticker,\n"
     ]
    },
    {
     "name": "stdout",
     "output_type": "stream",
     "text": [
      "HON\n"
     ]
    },
    {
     "name": "stderr",
     "output_type": "stream",
     "text": [
      "C:\\Users\\ruedi\\AppData\\Local\\Temp\\ipykernel_21156\\1400600094.py:43: FutureWarning: The frame.append method is deprecated and will be removed from pandas in a future version. Use pandas.concat instead.\n",
      "  df_assets = df_assets.append({'ticker': ticker,\n"
     ]
    },
    {
     "name": "stdout",
     "output_type": "stream",
     "text": [
      "HSBA\n",
      "- HSBA: No summary info found, symbol may be delisted\n",
      "BOSS\n"
     ]
    },
    {
     "name": "stderr",
     "output_type": "stream",
     "text": [
      "C:\\Users\\ruedi\\AppData\\Local\\Temp\\ipykernel_21156\\1400600094.py:43: FutureWarning: The frame.append method is deprecated and will be removed from pandas in a future version. Use pandas.concat instead.\n",
      "  df_assets = df_assets.append({'ticker': ticker,\n"
     ]
    },
    {
     "name": "stdout",
     "output_type": "stream",
     "text": [
      "IBM\n"
     ]
    },
    {
     "name": "stderr",
     "output_type": "stream",
     "text": [
      "C:\\Users\\ruedi\\AppData\\Local\\Temp\\ipykernel_21156\\1400600094.py:43: FutureWarning: The frame.append method is deprecated and will be removed from pandas in a future version. Use pandas.concat instead.\n",
      "  df_assets = df_assets.append({'ticker': ticker,\n"
     ]
    },
    {
     "name": "stdout",
     "output_type": "stream",
     "text": [
      "IDIA\n",
      "- IDIA: No summary info found, symbol may be delisted\n",
      "IMPN\n",
      "- IMPN: No summary info found, symbol may be delisted\n",
      "INGA\n"
     ]
    },
    {
     "name": "stderr",
     "output_type": "stream",
     "text": [
      "C:\\Users\\ruedi\\AppData\\Local\\Temp\\ipykernel_21156\\1400600094.py:43: FutureWarning: The frame.append method is deprecated and will be removed from pandas in a future version. Use pandas.concat instead.\n",
      "  df_assets = df_assets.append({'ticker': ticker,\n"
     ]
    },
    {
     "name": "stdout",
     "output_type": "stream",
     "text": [
      "INTC\n"
     ]
    },
    {
     "name": "stderr",
     "output_type": "stream",
     "text": [
      "C:\\Users\\ruedi\\AppData\\Local\\Temp\\ipykernel_21156\\1400600094.py:43: FutureWarning: The frame.append method is deprecated and will be removed from pandas in a future version. Use pandas.concat instead.\n",
      "  df_assets = df_assets.append({'ticker': ticker,\n"
     ]
    },
    {
     "name": "stdout",
     "output_type": "stream",
     "text": [
      "INTU\n"
     ]
    },
    {
     "name": "stderr",
     "output_type": "stream",
     "text": [
      "C:\\Users\\ruedi\\AppData\\Local\\Temp\\ipykernel_21156\\1400600094.py:43: FutureWarning: The frame.append method is deprecated and will be removed from pandas in a future version. Use pandas.concat instead.\n",
      "  df_assets = df_assets.append({'ticker': ticker,\n"
     ]
    },
    {
     "name": "stdout",
     "output_type": "stream",
     "text": [
      "DE\n"
     ]
    },
    {
     "name": "stderr",
     "output_type": "stream",
     "text": [
      "C:\\Users\\ruedi\\AppData\\Local\\Temp\\ipykernel_21156\\1400600094.py:43: FutureWarning: The frame.append method is deprecated and will be removed from pandas in a future version. Use pandas.concat instead.\n",
      "  df_assets = df_assets.append({'ticker': ticker,\n"
     ]
    },
    {
     "name": "stdout",
     "output_type": "stream",
     "text": [
      "JNJ\n"
     ]
    },
    {
     "name": "stderr",
     "output_type": "stream",
     "text": [
      "C:\\Users\\ruedi\\AppData\\Local\\Temp\\ipykernel_21156\\1400600094.py:43: FutureWarning: The frame.append method is deprecated and will be removed from pandas in a future version. Use pandas.concat instead.\n",
      "  df_assets = df_assets.append({'ticker': ticker,\n"
     ]
    },
    {
     "name": "stdout",
     "output_type": "stream",
     "text": [
      "JPM\n"
     ]
    },
    {
     "name": "stderr",
     "output_type": "stream",
     "text": [
      "C:\\Users\\ruedi\\AppData\\Local\\Temp\\ipykernel_21156\\1400600094.py:43: FutureWarning: The frame.append method is deprecated and will be removed from pandas in a future version. Use pandas.concat instead.\n",
      "  df_assets = df_assets.append({'ticker': ticker,\n"
     ]
    },
    {
     "name": "stdout",
     "output_type": "stream",
     "text": [
      "BAER\n",
      "- BAER: No summary info found, symbol may be delisted\n",
      "JUVE\n",
      "- JUVE: No summary info found, symbol may be delisted\n",
      "K\n"
     ]
    },
    {
     "name": "stderr",
     "output_type": "stream",
     "text": [
      "C:\\Users\\ruedi\\AppData\\Local\\Temp\\ipykernel_21156\\1400600094.py:43: FutureWarning: The frame.append method is deprecated and will be removed from pandas in a future version. Use pandas.concat instead.\n",
      "  df_assets = df_assets.append({'ticker': ticker,\n"
     ]
    },
    {
     "name": "stdout",
     "output_type": "stream",
     "text": [
      "KER\n",
      "- KER: No summary info found, symbol may be delisted\n",
      "KMB\n"
     ]
    },
    {
     "name": "stderr",
     "output_type": "stream",
     "text": [
      "C:\\Users\\ruedi\\AppData\\Local\\Temp\\ipykernel_21156\\1400600094.py:43: FutureWarning: The frame.append method is deprecated and will be removed from pandas in a future version. Use pandas.concat instead.\n",
      "  df_assets = df_assets.append({'ticker': ticker,\n"
     ]
    },
    {
     "name": "stdout",
     "output_type": "stream",
     "text": [
      "KHC\n"
     ]
    },
    {
     "name": "stderr",
     "output_type": "stream",
     "text": [
      "C:\\Users\\ruedi\\AppData\\Local\\Temp\\ipykernel_21156\\1400600094.py:43: FutureWarning: The frame.append method is deprecated and will be removed from pandas in a future version. Use pandas.concat instead.\n",
      "  df_assets = df_assets.append({'ticker': ticker,\n"
     ]
    },
    {
     "name": "stdout",
     "output_type": "stream",
     "text": [
      "KUD\n",
      "- KUD: No summary info found, symbol may be delisted\n",
      "KNIN\n",
      "- KNIN: No summary info found, symbol may be delisted\n",
      "OR\n"
     ]
    },
    {
     "name": "stderr",
     "output_type": "stream",
     "text": [
      "C:\\Users\\ruedi\\AppData\\Local\\Temp\\ipykernel_21156\\1400600094.py:43: FutureWarning: The frame.append method is deprecated and will be removed from pandas in a future version. Use pandas.concat instead.\n",
      "  df_assets = df_assets.append({'ticker': ticker,\n"
     ]
    },
    {
     "name": "stdout",
     "output_type": "stream",
     "text": [
      "LIN\n"
     ]
    },
    {
     "name": "stderr",
     "output_type": "stream",
     "text": [
      "C:\\Users\\ruedi\\AppData\\Local\\Temp\\ipykernel_21156\\1400600094.py:43: FutureWarning: The frame.append method is deprecated and will be removed from pandas in a future version. Use pandas.concat instead.\n",
      "  df_assets = df_assets.append({'ticker': ticker,\n"
     ]
    },
    {
     "name": "stdout",
     "output_type": "stream",
     "text": [
      "LISN\n",
      "- LISN: No summary info found, symbol may be delisted\n",
      "LLOY\n",
      "- LLOY: No summary info found, symbol may be delisted\n",
      "LMT\n"
     ]
    },
    {
     "name": "stderr",
     "output_type": "stream",
     "text": [
      "C:\\Users\\ruedi\\AppData\\Local\\Temp\\ipykernel_21156\\1400600094.py:43: FutureWarning: The frame.append method is deprecated and will be removed from pandas in a future version. Use pandas.concat instead.\n",
      "  df_assets = df_assets.append({'ticker': ticker,\n"
     ]
    },
    {
     "name": "stdout",
     "output_type": "stream",
     "text": [
      "LOGN\n"
     ]
    },
    {
     "name": "stderr",
     "output_type": "stream",
     "text": [
      "C:\\Users\\ruedi\\AppData\\Local\\Temp\\ipykernel_21156\\1400600094.py:43: FutureWarning: The frame.append method is deprecated and will be removed from pandas in a future version. Use pandas.concat instead.\n",
      "  df_assets = df_assets.append({'ticker': ticker,\n"
     ]
    },
    {
     "name": "stdout",
     "output_type": "stream",
     "text": [
      "LONN\n",
      "- LONN: No summary info found, symbol may be delisted\n",
      "LCID\n"
     ]
    },
    {
     "name": "stderr",
     "output_type": "stream",
     "text": [
      "C:\\Users\\ruedi\\AppData\\Local\\Temp\\ipykernel_21156\\1400600094.py:43: FutureWarning: The frame.append method is deprecated and will be removed from pandas in a future version. Use pandas.concat instead.\n",
      "  df_assets = df_assets.append({'ticker': ticker,\n"
     ]
    },
    {
     "name": "stdout",
     "output_type": "stream",
     "text": [
      "LHA\n",
      "- LHA: No summary info found, symbol may be delisted\n",
      "LULU\n"
     ]
    },
    {
     "name": "stderr",
     "output_type": "stream",
     "text": [
      "C:\\Users\\ruedi\\AppData\\Local\\Temp\\ipykernel_21156\\1400600094.py:43: FutureWarning: The frame.append method is deprecated and will be removed from pandas in a future version. Use pandas.concat instead.\n",
      "  df_assets = df_assets.append({'ticker': ticker,\n"
     ]
    },
    {
     "name": "stdout",
     "output_type": "stream",
     "text": [
      "LUKN\n",
      "- LUKN: No summary info found, symbol may be delisted\n",
      "MC\n"
     ]
    },
    {
     "name": "stderr",
     "output_type": "stream",
     "text": [
      "C:\\Users\\ruedi\\AppData\\Local\\Temp\\ipykernel_21156\\1400600094.py:43: FutureWarning: The frame.append method is deprecated and will be removed from pandas in a future version. Use pandas.concat instead.\n",
      "  df_assets = df_assets.append({'ticker': ticker,\n"
     ]
    },
    {
     "name": "stdout",
     "output_type": "stream",
     "text": [
      "MSGE\n"
     ]
    },
    {
     "name": "stderr",
     "output_type": "stream",
     "text": [
      "C:\\Users\\ruedi\\AppData\\Local\\Temp\\ipykernel_21156\\1400600094.py:43: FutureWarning: The frame.append method is deprecated and will be removed from pandas in a future version. Use pandas.concat instead.\n",
      "  df_assets = df_assets.append({'ticker': ticker,\n"
     ]
    },
    {
     "name": "stdout",
     "output_type": "stream",
     "text": [
      "MANU\n"
     ]
    },
    {
     "name": "stderr",
     "output_type": "stream",
     "text": [
      "C:\\Users\\ruedi\\AppData\\Local\\Temp\\ipykernel_21156\\1400600094.py:43: FutureWarning: The frame.append method is deprecated and will be removed from pandas in a future version. Use pandas.concat instead.\n",
      "  df_assets = df_assets.append({'ticker': ticker,\n"
     ]
    },
    {
     "name": "stdout",
     "output_type": "stream",
     "text": [
      "MKS\n"
     ]
    },
    {
     "name": "stderr",
     "output_type": "stream",
     "text": [
      "C:\\Users\\ruedi\\AppData\\Local\\Temp\\ipykernel_21156\\1400600094.py:43: FutureWarning: The frame.append method is deprecated and will be removed from pandas in a future version. Use pandas.concat instead.\n",
      "  df_assets = df_assets.append({'ticker': ticker,\n"
     ]
    },
    {
     "name": "stdout",
     "output_type": "stream",
     "text": [
      "MAR\n"
     ]
    },
    {
     "name": "stderr",
     "output_type": "stream",
     "text": [
      "C:\\Users\\ruedi\\AppData\\Local\\Temp\\ipykernel_21156\\1400600094.py:43: FutureWarning: The frame.append method is deprecated and will be removed from pandas in a future version. Use pandas.concat instead.\n",
      "  df_assets = df_assets.append({'ticker': ticker,\n"
     ]
    },
    {
     "name": "stdout",
     "output_type": "stream",
     "text": [
      "MA\n"
     ]
    },
    {
     "name": "stderr",
     "output_type": "stream",
     "text": [
      "C:\\Users\\ruedi\\AppData\\Local\\Temp\\ipykernel_21156\\1400600094.py:43: FutureWarning: The frame.append method is deprecated and will be removed from pandas in a future version. Use pandas.concat instead.\n",
      "  df_assets = df_assets.append({'ticker': ticker,\n"
     ]
    },
    {
     "name": "stdout",
     "output_type": "stream",
     "text": [
      "MTCH\n"
     ]
    },
    {
     "name": "stderr",
     "output_type": "stream",
     "text": [
      "C:\\Users\\ruedi\\AppData\\Local\\Temp\\ipykernel_21156\\1400600094.py:43: FutureWarning: The frame.append method is deprecated and will be removed from pandas in a future version. Use pandas.concat instead.\n",
      "  df_assets = df_assets.append({'ticker': ticker,\n"
     ]
    },
    {
     "name": "stdout",
     "output_type": "stream",
     "text": [
      "MCD\n"
     ]
    },
    {
     "name": "stderr",
     "output_type": "stream",
     "text": [
      "C:\\Users\\ruedi\\AppData\\Local\\Temp\\ipykernel_21156\\1400600094.py:43: FutureWarning: The frame.append method is deprecated and will be removed from pandas in a future version. Use pandas.concat instead.\n",
      "  df_assets = df_assets.append({'ticker': ticker,\n"
     ]
    },
    {
     "name": "stdout",
     "output_type": "stream",
     "text": [
      "MRK\n"
     ]
    },
    {
     "name": "stderr",
     "output_type": "stream",
     "text": [
      "C:\\Users\\ruedi\\AppData\\Local\\Temp\\ipykernel_21156\\1400600094.py:43: FutureWarning: The frame.append method is deprecated and will be removed from pandas in a future version. Use pandas.concat instead.\n",
      "  df_assets = df_assets.append({'ticker': ticker,\n"
     ]
    },
    {
     "name": "stdout",
     "output_type": "stream",
     "text": [
      "FB\n"
     ]
    },
    {
     "name": "stderr",
     "output_type": "stream",
     "text": [
      "C:\\Users\\ruedi\\AppData\\Local\\Temp\\ipykernel_21156\\1400600094.py:43: FutureWarning: The frame.append method is deprecated and will be removed from pandas in a future version. Use pandas.concat instead.\n",
      "  df_assets = df_assets.append({'ticker': ticker,\n"
     ]
    },
    {
     "name": "stdout",
     "output_type": "stream",
     "text": [
      "MU\n"
     ]
    },
    {
     "name": "stderr",
     "output_type": "stream",
     "text": [
      "C:\\Users\\ruedi\\AppData\\Local\\Temp\\ipykernel_21156\\1400600094.py:43: FutureWarning: The frame.append method is deprecated and will be removed from pandas in a future version. Use pandas.concat instead.\n",
      "  df_assets = df_assets.append({'ticker': ticker,\n"
     ]
    },
    {
     "name": "stdout",
     "output_type": "stream",
     "text": [
      "MSFT\n"
     ]
    },
    {
     "name": "stderr",
     "output_type": "stream",
     "text": [
      "C:\\Users\\ruedi\\AppData\\Local\\Temp\\ipykernel_21156\\1400600094.py:43: FutureWarning: The frame.append method is deprecated and will be removed from pandas in a future version. Use pandas.concat instead.\n",
      "  df_assets = df_assets.append({'ticker': ticker,\n"
     ]
    },
    {
     "name": "stdout",
     "output_type": "stream",
     "text": [
      "MRNA\n"
     ]
    },
    {
     "name": "stderr",
     "output_type": "stream",
     "text": [
      "C:\\Users\\ruedi\\AppData\\Local\\Temp\\ipykernel_21156\\1400600094.py:43: FutureWarning: The frame.append method is deprecated and will be removed from pandas in a future version. Use pandas.concat instead.\n",
      "  df_assets = df_assets.append({'ticker': ticker,\n"
     ]
    },
    {
     "name": "stdout",
     "output_type": "stream",
     "text": [
      "MONC\n",
      "- MONC: No summary info found, symbol may be delisted\n",
      "MDLZ\n"
     ]
    },
    {
     "name": "stderr",
     "output_type": "stream",
     "text": [
      "C:\\Users\\ruedi\\AppData\\Local\\Temp\\ipykernel_21156\\1400600094.py:43: FutureWarning: The frame.append method is deprecated and will be removed from pandas in a future version. Use pandas.concat instead.\n",
      "  df_assets = df_assets.append({'ticker': ticker,\n"
     ]
    },
    {
     "name": "stdout",
     "output_type": "stream",
     "text": [
      "MS\n"
     ]
    },
    {
     "name": "stderr",
     "output_type": "stream",
     "text": [
      "C:\\Users\\ruedi\\AppData\\Local\\Temp\\ipykernel_21156\\1400600094.py:43: FutureWarning: The frame.append method is deprecated and will be removed from pandas in a future version. Use pandas.concat instead.\n",
      "  df_assets = df_assets.append({'ticker': ticker,\n"
     ]
    },
    {
     "name": "stdout",
     "output_type": "stream",
     "text": [
      "MUV2\n",
      "- MUV2: No summary info found, symbol may be delisted\n",
      "NESN\n",
      "- NESN: No summary info found, symbol may be delisted\n",
      "NFLX\n"
     ]
    },
    {
     "name": "stderr",
     "output_type": "stream",
     "text": [
      "C:\\Users\\ruedi\\AppData\\Local\\Temp\\ipykernel_21156\\1400600094.py:43: FutureWarning: The frame.append method is deprecated and will be removed from pandas in a future version. Use pandas.concat instead.\n",
      "  df_assets = df_assets.append({'ticker': ticker,\n"
     ]
    },
    {
     "name": "stdout",
     "output_type": "stream",
     "text": [
      "NKE\n"
     ]
    },
    {
     "name": "stderr",
     "output_type": "stream",
     "text": [
      "C:\\Users\\ruedi\\AppData\\Local\\Temp\\ipykernel_21156\\1400600094.py:43: FutureWarning: The frame.append method is deprecated and will be removed from pandas in a future version. Use pandas.concat instead.\n",
      "  df_assets = df_assets.append({'ticker': ticker,\n"
     ]
    },
    {
     "name": "stdout",
     "output_type": "stream",
     "text": [
      "NKLA\n"
     ]
    },
    {
     "name": "stderr",
     "output_type": "stream",
     "text": [
      "C:\\Users\\ruedi\\AppData\\Local\\Temp\\ipykernel_21156\\1400600094.py:43: FutureWarning: The frame.append method is deprecated and will be removed from pandas in a future version. Use pandas.concat instead.\n",
      "  df_assets = df_assets.append({'ticker': ticker,\n"
     ]
    },
    {
     "name": "stdout",
     "output_type": "stream",
     "text": [
      "NCLH\n"
     ]
    },
    {
     "name": "stderr",
     "output_type": "stream",
     "text": [
      "C:\\Users\\ruedi\\AppData\\Local\\Temp\\ipykernel_21156\\1400600094.py:43: FutureWarning: The frame.append method is deprecated and will be removed from pandas in a future version. Use pandas.concat instead.\n",
      "  df_assets = df_assets.append({'ticker': ticker,\n"
     ]
    },
    {
     "name": "stdout",
     "output_type": "stream",
     "text": [
      "NOVN\n"
     ]
    },
    {
     "name": "stderr",
     "output_type": "stream",
     "text": [
      "C:\\Users\\ruedi\\AppData\\Local\\Temp\\ipykernel_21156\\1400600094.py:43: FutureWarning: The frame.append method is deprecated and will be removed from pandas in a future version. Use pandas.concat instead.\n",
      "  df_assets = df_assets.append({'ticker': ticker,\n"
     ]
    },
    {
     "name": "stdout",
     "output_type": "stream",
     "text": [
      "NVAX\n"
     ]
    },
    {
     "name": "stderr",
     "output_type": "stream",
     "text": [
      "C:\\Users\\ruedi\\AppData\\Local\\Temp\\ipykernel_21156\\1400600094.py:43: FutureWarning: The frame.append method is deprecated and will be removed from pandas in a future version. Use pandas.concat instead.\n",
      "  df_assets = df_assets.append({'ticker': ticker,\n"
     ]
    },
    {
     "name": "stdout",
     "output_type": "stream",
     "text": [
      "NVDA\n"
     ]
    },
    {
     "name": "stderr",
     "output_type": "stream",
     "text": [
      "C:\\Users\\ruedi\\AppData\\Local\\Temp\\ipykernel_21156\\1400600094.py:43: FutureWarning: The frame.append method is deprecated and will be removed from pandas in a future version. Use pandas.concat instead.\n",
      "  df_assets = df_assets.append({'ticker': ticker,\n"
     ]
    },
    {
     "name": "stdout",
     "output_type": "stream",
     "text": [
      "ORCL\n"
     ]
    },
    {
     "name": "stderr",
     "output_type": "stream",
     "text": [
      "C:\\Users\\ruedi\\AppData\\Local\\Temp\\ipykernel_21156\\1400600094.py:43: FutureWarning: The frame.append method is deprecated and will be removed from pandas in a future version. Use pandas.concat instead.\n",
      "  df_assets = df_assets.append({'ticker': ticker,\n"
     ]
    },
    {
     "name": "stdout",
     "output_type": "stream",
     "text": [
      "ORA\n"
     ]
    },
    {
     "name": "stderr",
     "output_type": "stream",
     "text": [
      "C:\\Users\\ruedi\\AppData\\Local\\Temp\\ipykernel_21156\\1400600094.py:43: FutureWarning: The frame.append method is deprecated and will be removed from pandas in a future version. Use pandas.concat instead.\n",
      "  df_assets = df_assets.append({'ticker': ticker,\n"
     ]
    },
    {
     "name": "stdout",
     "output_type": "stream",
     "text": [
      "PG\n"
     ]
    },
    {
     "name": "stderr",
     "output_type": "stream",
     "text": [
      "C:\\Users\\ruedi\\AppData\\Local\\Temp\\ipykernel_21156\\1400600094.py:43: FutureWarning: The frame.append method is deprecated and will be removed from pandas in a future version. Use pandas.concat instead.\n",
      "  df_assets = df_assets.append({'ticker': ticker,\n"
     ]
    },
    {
     "name": "stdout",
     "output_type": "stream",
     "text": [
      "PLTR\n"
     ]
    },
    {
     "name": "stderr",
     "output_type": "stream",
     "text": [
      "C:\\Users\\ruedi\\AppData\\Local\\Temp\\ipykernel_21156\\1400600094.py:43: FutureWarning: The frame.append method is deprecated and will be removed from pandas in a future version. Use pandas.concat instead.\n",
      "  df_assets = df_assets.append({'ticker': ticker,\n"
     ]
    },
    {
     "name": "stdout",
     "output_type": "stream",
     "text": [
      "PGHN\n",
      "- PGHN: No summary info found, symbol may be delisted\n",
      "PEP\n"
     ]
    },
    {
     "name": "stderr",
     "output_type": "stream",
     "text": [
      "C:\\Users\\ruedi\\AppData\\Local\\Temp\\ipykernel_21156\\1400600094.py:43: FutureWarning: The frame.append method is deprecated and will be removed from pandas in a future version. Use pandas.concat instead.\n",
      "  df_assets = df_assets.append({'ticker': ticker,\n"
     ]
    },
    {
     "name": "stdout",
     "output_type": "stream",
     "text": [
      "PFE\n"
     ]
    },
    {
     "name": "stderr",
     "output_type": "stream",
     "text": [
      "C:\\Users\\ruedi\\AppData\\Local\\Temp\\ipykernel_21156\\1400600094.py:43: FutureWarning: The frame.append method is deprecated and will be removed from pandas in a future version. Use pandas.concat instead.\n",
      "  df_assets = df_assets.append({'ticker': ticker,\n"
     ]
    },
    {
     "name": "stdout",
     "output_type": "stream",
     "text": [
      "PM\n"
     ]
    },
    {
     "name": "stderr",
     "output_type": "stream",
     "text": [
      "C:\\Users\\ruedi\\AppData\\Local\\Temp\\ipykernel_21156\\1400600094.py:43: FutureWarning: The frame.append method is deprecated and will be removed from pandas in a future version. Use pandas.concat instead.\n",
      "  df_assets = df_assets.append({'ticker': ticker,\n"
     ]
    },
    {
     "name": "stdout",
     "output_type": "stream",
     "text": [
      "PHIA\n",
      "- PHIA: No summary info found, symbol may be delisted\n",
      "PINS\n"
     ]
    },
    {
     "name": "stderr",
     "output_type": "stream",
     "text": [
      "C:\\Users\\ruedi\\AppData\\Local\\Temp\\ipykernel_21156\\1400600094.py:43: FutureWarning: The frame.append method is deprecated and will be removed from pandas in a future version. Use pandas.concat instead.\n",
      "  df_assets = df_assets.append({'ticker': ticker,\n"
     ]
    },
    {
     "name": "stdout",
     "output_type": "stream",
     "text": [
      "PLUG\n"
     ]
    },
    {
     "name": "stderr",
     "output_type": "stream",
     "text": [
      "C:\\Users\\ruedi\\AppData\\Local\\Temp\\ipykernel_21156\\1400600094.py:43: FutureWarning: The frame.append method is deprecated and will be removed from pandas in a future version. Use pandas.concat instead.\n",
      "  df_assets = df_assets.append({'ticker': ticker,\n"
     ]
    },
    {
     "name": "stdout",
     "output_type": "stream",
     "text": [
      "P911\n",
      "- P911: No summary info found, symbol may be delisted\n",
      "PUM\n",
      "- PUM: No summary info found, symbol may be delisted\n",
      "QCOM\n"
     ]
    },
    {
     "name": "stderr",
     "output_type": "stream",
     "text": [
      "C:\\Users\\ruedi\\AppData\\Local\\Temp\\ipykernel_21156\\1400600094.py:43: FutureWarning: The frame.append method is deprecated and will be removed from pandas in a future version. Use pandas.concat instead.\n",
      "  df_assets = df_assets.append({'ticker': ticker,\n"
     ]
    },
    {
     "name": "stdout",
     "output_type": "stream",
     "text": [
      "0\n",
      "- 0: No summary info found, symbol may be delisted\n",
      "RNO\n"
     ]
    },
    {
     "name": "stderr",
     "output_type": "stream",
     "text": [
      "C:\\Users\\ruedi\\AppData\\Local\\Temp\\ipykernel_21156\\1400600094.py:43: FutureWarning: The frame.append method is deprecated and will be removed from pandas in a future version. Use pandas.concat instead.\n",
      "  df_assets = df_assets.append({'ticker': ticker,\n"
     ]
    },
    {
     "name": "stdout",
     "output_type": "stream",
     "text": [
      "CFR\n"
     ]
    },
    {
     "name": "stderr",
     "output_type": "stream",
     "text": [
      "C:\\Users\\ruedi\\AppData\\Local\\Temp\\ipykernel_21156\\1400600094.py:43: FutureWarning: The frame.append method is deprecated and will be removed from pandas in a future version. Use pandas.concat instead.\n",
      "  df_assets = df_assets.append({'ticker': ticker,\n"
     ]
    },
    {
     "name": "stdout",
     "output_type": "stream",
     "text": [
      "RIO\n"
     ]
    },
    {
     "name": "stderr",
     "output_type": "stream",
     "text": [
      "C:\\Users\\ruedi\\AppData\\Local\\Temp\\ipykernel_21156\\1400600094.py:43: FutureWarning: The frame.append method is deprecated and will be removed from pandas in a future version. Use pandas.concat instead.\n",
      "  df_assets = df_assets.append({'ticker': ticker,\n"
     ]
    },
    {
     "name": "stdout",
     "output_type": "stream",
     "text": [
      "RIVN\n"
     ]
    },
    {
     "name": "stderr",
     "output_type": "stream",
     "text": [
      "C:\\Users\\ruedi\\AppData\\Local\\Temp\\ipykernel_21156\\1400600094.py:43: FutureWarning: The frame.append method is deprecated and will be removed from pandas in a future version. Use pandas.concat instead.\n",
      "  df_assets = df_assets.append({'ticker': ticker,\n"
     ]
    },
    {
     "name": "stdout",
     "output_type": "stream",
     "text": [
      "RBLX\n"
     ]
    },
    {
     "name": "stderr",
     "output_type": "stream",
     "text": [
      "C:\\Users\\ruedi\\AppData\\Local\\Temp\\ipykernel_21156\\1400600094.py:43: FutureWarning: The frame.append method is deprecated and will be removed from pandas in a future version. Use pandas.concat instead.\n",
      "  df_assets = df_assets.append({'ticker': ticker,\n"
     ]
    },
    {
     "name": "stdout",
     "output_type": "stream",
     "text": [
      "ROG\n"
     ]
    },
    {
     "name": "stderr",
     "output_type": "stream",
     "text": [
      "C:\\Users\\ruedi\\AppData\\Local\\Temp\\ipykernel_21156\\1400600094.py:43: FutureWarning: The frame.append method is deprecated and will be removed from pandas in a future version. Use pandas.concat instead.\n",
      "  df_assets = df_assets.append({'ticker': ticker,\n"
     ]
    },
    {
     "name": "stdout",
     "output_type": "stream",
     "text": [
      "ROKU\n"
     ]
    },
    {
     "name": "stderr",
     "output_type": "stream",
     "text": [
      "C:\\Users\\ruedi\\AppData\\Local\\Temp\\ipykernel_21156\\1400600094.py:43: FutureWarning: The frame.append method is deprecated and will be removed from pandas in a future version. Use pandas.concat instead.\n",
      "  df_assets = df_assets.append({'ticker': ticker,\n"
     ]
    },
    {
     "name": "stdout",
     "output_type": "stream",
     "text": [
      "RR/\n",
      "- RR: No summary info found, symbol may be delisted\n",
      "RWE\n",
      "- RWE: No summary info found, symbol may be delisted\n",
      "CRM\n"
     ]
    },
    {
     "name": "stderr",
     "output_type": "stream",
     "text": [
      "C:\\Users\\ruedi\\AppData\\Local\\Temp\\ipykernel_21156\\1400600094.py:43: FutureWarning: The frame.append method is deprecated and will be removed from pandas in a future version. Use pandas.concat instead.\n",
      "  df_assets = df_assets.append({'ticker': ticker,\n"
     ]
    },
    {
     "name": "stdout",
     "output_type": "stream",
     "text": [
      "SMSN\n"
     ]
    },
    {
     "name": "stderr",
     "output_type": "stream",
     "text": [
      "C:\\Users\\ruedi\\AppData\\Local\\Temp\\ipykernel_21156\\1400600094.py:43: FutureWarning: The frame.append method is deprecated and will be removed from pandas in a future version. Use pandas.concat instead.\n",
      "  df_assets = df_assets.append({'ticker': ticker,\n"
     ]
    },
    {
     "name": "stdout",
     "output_type": "stream",
     "text": [
      "SANO\n",
      "- SANO: No summary info found, symbol may be delisted\n",
      "SANT\n"
     ]
    },
    {
     "name": "stderr",
     "output_type": "stream",
     "text": [
      "C:\\Users\\ruedi\\AppData\\Local\\Temp\\ipykernel_21156\\1400600094.py:43: FutureWarning: The frame.append method is deprecated and will be removed from pandas in a future version. Use pandas.concat instead.\n",
      "  df_assets = df_assets.append({'ticker': ticker,\n"
     ]
    },
    {
     "name": "stdout",
     "output_type": "stream",
     "text": [
      "SAP\n"
     ]
    },
    {
     "name": "stderr",
     "output_type": "stream",
     "text": [
      "C:\\Users\\ruedi\\AppData\\Local\\Temp\\ipykernel_21156\\1400600094.py:43: FutureWarning: The frame.append method is deprecated and will be removed from pandas in a future version. Use pandas.concat instead.\n",
      "  df_assets = df_assets.append({'ticker': ticker,\n"
     ]
    },
    {
     "name": "stdout",
     "output_type": "stream",
     "text": [
      "SCHN\n"
     ]
    },
    {
     "name": "stderr",
     "output_type": "stream",
     "text": [
      "C:\\Users\\ruedi\\AppData\\Local\\Temp\\ipykernel_21156\\1400600094.py:43: FutureWarning: The frame.append method is deprecated and will be removed from pandas in a future version. Use pandas.concat instead.\n",
      "  df_assets = df_assets.append({'ticker': ticker,\n"
     ]
    },
    {
     "name": "stdout",
     "output_type": "stream",
     "text": [
      "SGSN\n",
      "- SGSN: No summary info found, symbol may be delisted\n",
      "RDSA\n",
      "- RDSA: No summary info found, symbol may be delisted\n",
      "SHOP\n"
     ]
    },
    {
     "name": "stderr",
     "output_type": "stream",
     "text": [
      "C:\\Users\\ruedi\\AppData\\Local\\Temp\\ipykernel_21156\\1400600094.py:43: FutureWarning: The frame.append method is deprecated and will be removed from pandas in a future version. Use pandas.concat instead.\n",
      "  df_assets = df_assets.append({'ticker': ticker,\n"
     ]
    },
    {
     "name": "stdout",
     "output_type": "stream",
     "text": [
      "SIE\n"
     ]
    },
    {
     "name": "stderr",
     "output_type": "stream",
     "text": [
      "C:\\Users\\ruedi\\AppData\\Local\\Temp\\ipykernel_21156\\1400600094.py:43: FutureWarning: The frame.append method is deprecated and will be removed from pandas in a future version. Use pandas.concat instead.\n",
      "  df_assets = df_assets.append({'ticker': ticker,\n"
     ]
    },
    {
     "name": "stdout",
     "output_type": "stream",
     "text": [
      "SIKA\n",
      "- SIKA: No summary info found, symbol may be delisted\n",
      "SNAP\n"
     ]
    },
    {
     "name": "stderr",
     "output_type": "stream",
     "text": [
      "C:\\Users\\ruedi\\AppData\\Local\\Temp\\ipykernel_21156\\1400600094.py:43: FutureWarning: The frame.append method is deprecated and will be removed from pandas in a future version. Use pandas.concat instead.\n",
      "  df_assets = df_assets.append({'ticker': ticker,\n"
     ]
    },
    {
     "name": "stdout",
     "output_type": "stream",
     "text": [
      "SNOW\n"
     ]
    },
    {
     "name": "stderr",
     "output_type": "stream",
     "text": [
      "C:\\Users\\ruedi\\AppData\\Local\\Temp\\ipykernel_21156\\1400600094.py:43: FutureWarning: The frame.append method is deprecated and will be removed from pandas in a future version. Use pandas.concat instead.\n",
      "  df_assets = df_assets.append({'ticker': ticker,\n"
     ]
    },
    {
     "name": "stdout",
     "output_type": "stream",
     "text": [
      "GLE\n"
     ]
    },
    {
     "name": "stderr",
     "output_type": "stream",
     "text": [
      "C:\\Users\\ruedi\\AppData\\Local\\Temp\\ipykernel_21156\\1400600094.py:43: FutureWarning: The frame.append method is deprecated and will be removed from pandas in a future version. Use pandas.concat instead.\n",
      "  df_assets = df_assets.append({'ticker': ticker,\n"
     ]
    },
    {
     "name": "stdout",
     "output_type": "stream",
     "text": [
      "SOON\n"
     ]
    },
    {
     "name": "stderr",
     "output_type": "stream",
     "text": [
      "C:\\Users\\ruedi\\AppData\\Local\\Temp\\ipykernel_21156\\1400600094.py:43: FutureWarning: The frame.append method is deprecated and will be removed from pandas in a future version. Use pandas.concat instead.\n",
      "  df_assets = df_assets.append({'ticker': ticker,\n"
     ]
    },
    {
     "name": "stdout",
     "output_type": "stream",
     "text": [
      "SNE\n",
      "- SNE: No summary info found, symbol may be delisted\n",
      "SGKN\n",
      "- SGKN: No summary info found, symbol may be delisted\n",
      "SRAIL\n",
      "- SRAIL: No summary info found, symbol may be delisted\n",
      "SBUX\n"
     ]
    },
    {
     "name": "stderr",
     "output_type": "stream",
     "text": [
      "C:\\Users\\ruedi\\AppData\\Local\\Temp\\ipykernel_21156\\1400600094.py:43: FutureWarning: The frame.append method is deprecated and will be removed from pandas in a future version. Use pandas.concat instead.\n",
      "  df_assets = df_assets.append({'ticker': ticker,\n"
     ]
    },
    {
     "name": "stdout",
     "output_type": "stream",
     "text": [
      "STLA\n"
     ]
    },
    {
     "name": "stderr",
     "output_type": "stream",
     "text": [
      "C:\\Users\\ruedi\\AppData\\Local\\Temp\\ipykernel_21156\\1400600094.py:43: FutureWarning: The frame.append method is deprecated and will be removed from pandas in a future version. Use pandas.concat instead.\n",
      "  df_assets = df_assets.append({'ticker': ticker,\n"
     ]
    },
    {
     "name": "stdout",
     "output_type": "stream",
     "text": [
      "STMN\n",
      "- STMN: No summary info found, symbol may be delisted\n",
      "SUN\n"
     ]
    },
    {
     "name": "stderr",
     "output_type": "stream",
     "text": [
      "C:\\Users\\ruedi\\AppData\\Local\\Temp\\ipykernel_21156\\1400600094.py:43: FutureWarning: The frame.append method is deprecated and will be removed from pandas in a future version. Use pandas.concat instead.\n",
      "  df_assets = df_assets.append({'ticker': ticker,\n"
     ]
    },
    {
     "name": "stdout",
     "output_type": "stream",
     "text": [
      "UHR\n",
      "- UHR: No summary info found, symbol may be delisted\n",
      "SLHN\n"
     ]
    },
    {
     "name": "stderr",
     "output_type": "stream",
     "text": [
      "C:\\Users\\ruedi\\AppData\\Local\\Temp\\ipykernel_21156\\1400600094.py:43: FutureWarning: The frame.append method is deprecated and will be removed from pandas in a future version. Use pandas.concat instead.\n",
      "  df_assets = df_assets.append({'ticker': ticker,\n"
     ]
    },
    {
     "name": "stdout",
     "output_type": "stream",
     "text": [
      "SREN\n"
     ]
    },
    {
     "name": "stderr",
     "output_type": "stream",
     "text": [
      "C:\\Users\\ruedi\\AppData\\Local\\Temp\\ipykernel_21156\\1400600094.py:43: FutureWarning: The frame.append method is deprecated and will be removed from pandas in a future version. Use pandas.concat instead.\n",
      "  df_assets = df_assets.append({'ticker': ticker,\n"
     ]
    },
    {
     "name": "stdout",
     "output_type": "stream",
     "text": [
      "SCMN\n",
      "- SCMN: No summary info found, symbol may be delisted\n",
      "SQN\n",
      "- SQN: No summary info found, symbol may be delisted\n",
      "TTWO\n"
     ]
    },
    {
     "name": "stderr",
     "output_type": "stream",
     "text": [
      "C:\\Users\\ruedi\\AppData\\Local\\Temp\\ipykernel_21156\\1400600094.py:43: FutureWarning: The frame.append method is deprecated and will be removed from pandas in a future version. Use pandas.concat instead.\n",
      "  df_assets = df_assets.append({'ticker': ticker,\n"
     ]
    },
    {
     "name": "stdout",
     "output_type": "stream",
     "text": [
      "TGT\n"
     ]
    },
    {
     "name": "stderr",
     "output_type": "stream",
     "text": [
      "C:\\Users\\ruedi\\AppData\\Local\\Temp\\ipykernel_21156\\1400600094.py:43: FutureWarning: The frame.append method is deprecated and will be removed from pandas in a future version. Use pandas.concat instead.\n",
      "  df_assets = df_assets.append({'ticker': ticker,\n"
     ]
    },
    {
     "name": "stdout",
     "output_type": "stream",
     "text": [
      "TTM\n"
     ]
    },
    {
     "name": "stderr",
     "output_type": "stream",
     "text": [
      "C:\\Users\\ruedi\\AppData\\Local\\Temp\\ipykernel_21156\\1400600094.py:43: FutureWarning: The frame.append method is deprecated and will be removed from pandas in a future version. Use pandas.concat instead.\n",
      "  df_assets = df_assets.append({'ticker': ticker,\n"
     ]
    },
    {
     "name": "stdout",
     "output_type": "stream",
     "text": [
      "TMV\n"
     ]
    },
    {
     "name": "stderr",
     "output_type": "stream",
     "text": [
      "C:\\Users\\ruedi\\AppData\\Local\\Temp\\ipykernel_21156\\1400600094.py:43: FutureWarning: The frame.append method is deprecated and will be removed from pandas in a future version. Use pandas.concat instead.\n",
      "  df_assets = df_assets.append({'ticker': ticker,\n"
     ]
    },
    {
     "name": "stdout",
     "output_type": "stream",
     "text": [
      "TEMN\n"
     ]
    },
    {
     "name": "stderr",
     "output_type": "stream",
     "text": [
      "C:\\Users\\ruedi\\AppData\\Local\\Temp\\ipykernel_21156\\1400600094.py:43: FutureWarning: The frame.append method is deprecated and will be removed from pandas in a future version. Use pandas.concat instead.\n",
      "  df_assets = df_assets.append({'ticker': ticker,\n"
     ]
    },
    {
     "name": "stdout",
     "output_type": "stream",
     "text": [
      "TSCO\n"
     ]
    },
    {
     "name": "stderr",
     "output_type": "stream",
     "text": [
      "C:\\Users\\ruedi\\AppData\\Local\\Temp\\ipykernel_21156\\1400600094.py:43: FutureWarning: The frame.append method is deprecated and will be removed from pandas in a future version. Use pandas.concat instead.\n",
      "  df_assets = df_assets.append({'ticker': ticker,\n"
     ]
    },
    {
     "name": "stdout",
     "output_type": "stream",
     "text": [
      "TSLA\n"
     ]
    },
    {
     "name": "stderr",
     "output_type": "stream",
     "text": [
      "C:\\Users\\ruedi\\AppData\\Local\\Temp\\ipykernel_21156\\1400600094.py:43: FutureWarning: The frame.append method is deprecated and will be removed from pandas in a future version. Use pandas.concat instead.\n",
      "  df_assets = df_assets.append({'ticker': ticker,\n"
     ]
    },
    {
     "name": "stdout",
     "output_type": "stream",
     "text": [
      "TKA\n"
     ]
    },
    {
     "name": "stderr",
     "output_type": "stream",
     "text": [
      "C:\\Users\\ruedi\\AppData\\Local\\Temp\\ipykernel_21156\\1400600094.py:43: FutureWarning: The frame.append method is deprecated and will be removed from pandas in a future version. Use pandas.concat instead.\n",
      "  df_assets = df_assets.append({'ticker': ticker,\n"
     ]
    },
    {
     "name": "stdout",
     "output_type": "stream",
     "text": [
      "TTE\n"
     ]
    },
    {
     "name": "stderr",
     "output_type": "stream",
     "text": [
      "C:\\Users\\ruedi\\AppData\\Local\\Temp\\ipykernel_21156\\1400600094.py:43: FutureWarning: The frame.append method is deprecated and will be removed from pandas in a future version. Use pandas.concat instead.\n",
      "  df_assets = df_assets.append({'ticker': ticker,\n"
     ]
    },
    {
     "name": "stdout",
     "output_type": "stream",
     "text": [
      "TM\n"
     ]
    },
    {
     "name": "stderr",
     "output_type": "stream",
     "text": [
      "C:\\Users\\ruedi\\AppData\\Local\\Temp\\ipykernel_21156\\1400600094.py:43: FutureWarning: The frame.append method is deprecated and will be removed from pandas in a future version. Use pandas.concat instead.\n",
      "  df_assets = df_assets.append({'ticker': ticker,\n"
     ]
    },
    {
     "name": "stdout",
     "output_type": "stream",
     "text": [
      "TUI1\n",
      "- TUI1: No summary info found, symbol may be delisted\n",
      "UBER\n"
     ]
    },
    {
     "name": "stderr",
     "output_type": "stream",
     "text": [
      "C:\\Users\\ruedi\\AppData\\Local\\Temp\\ipykernel_21156\\1400600094.py:43: FutureWarning: The frame.append method is deprecated and will be removed from pandas in a future version. Use pandas.concat instead.\n",
      "  df_assets = df_assets.append({'ticker': ticker,\n"
     ]
    },
    {
     "name": "stdout",
     "output_type": "stream",
     "text": [
      "UBI\n"
     ]
    },
    {
     "name": "stderr",
     "output_type": "stream",
     "text": [
      "C:\\Users\\ruedi\\AppData\\Local\\Temp\\ipykernel_21156\\1400600094.py:43: FutureWarning: The frame.append method is deprecated and will be removed from pandas in a future version. Use pandas.concat instead.\n",
      "  df_assets = df_assets.append({'ticker': ticker,\n"
     ]
    },
    {
     "name": "stdout",
     "output_type": "stream",
     "text": [
      "UBSG\n",
      "- UBSG: No summary info found, symbol may be delisted\n",
      "UAA\n"
     ]
    },
    {
     "name": "stderr",
     "output_type": "stream",
     "text": [
      "C:\\Users\\ruedi\\AppData\\Local\\Temp\\ipykernel_21156\\1400600094.py:43: FutureWarning: The frame.append method is deprecated and will be removed from pandas in a future version. Use pandas.concat instead.\n",
      "  df_assets = df_assets.append({'ticker': ticker,\n"
     ]
    },
    {
     "name": "stdout",
     "output_type": "stream",
     "text": [
      "ULVR\n",
      "- ULVR: No summary info found, symbol may be delisted\n",
      "UPS\n"
     ]
    },
    {
     "name": "stderr",
     "output_type": "stream",
     "text": [
      "C:\\Users\\ruedi\\AppData\\Local\\Temp\\ipykernel_21156\\1400600094.py:43: FutureWarning: The frame.append method is deprecated and will be removed from pandas in a future version. Use pandas.concat instead.\n",
      "  df_assets = df_assets.append({'ticker': ticker,\n"
     ]
    },
    {
     "name": "stdout",
     "output_type": "stream",
     "text": [
      "VALE\n"
     ]
    },
    {
     "name": "stderr",
     "output_type": "stream",
     "text": [
      "C:\\Users\\ruedi\\AppData\\Local\\Temp\\ipykernel_21156\\1400600094.py:43: FutureWarning: The frame.append method is deprecated and will be removed from pandas in a future version. Use pandas.concat instead.\n",
      "  df_assets = df_assets.append({'ticker': ticker,\n"
     ]
    },
    {
     "name": "stdout",
     "output_type": "stream",
     "text": [
      "VATN\n",
      "- VATN: No summary info found, symbol may be delisted\n",
      "VALN\n"
     ]
    },
    {
     "name": "stderr",
     "output_type": "stream",
     "text": [
      "C:\\Users\\ruedi\\AppData\\Local\\Temp\\ipykernel_21156\\1400600094.py:43: FutureWarning: The frame.append method is deprecated and will be removed from pandas in a future version. Use pandas.concat instead.\n",
      "  df_assets = df_assets.append({'ticker': ticker,\n"
     ]
    },
    {
     "name": "stdout",
     "output_type": "stream",
     "text": [
      "VACN\n",
      "- VACN: No summary info found, symbol may be delisted\n",
      "VIE\n",
      "- VIE: No summary info found, symbol may be delisted\n",
      "VZ\n"
     ]
    },
    {
     "name": "stderr",
     "output_type": "stream",
     "text": [
      "C:\\Users\\ruedi\\AppData\\Local\\Temp\\ipykernel_21156\\1400600094.py:43: FutureWarning: The frame.append method is deprecated and will be removed from pandas in a future version. Use pandas.concat instead.\n",
      "  df_assets = df_assets.append({'ticker': ticker,\n"
     ]
    },
    {
     "name": "stdout",
     "output_type": "stream",
     "text": [
      "SPCE\n"
     ]
    },
    {
     "name": "stderr",
     "output_type": "stream",
     "text": [
      "C:\\Users\\ruedi\\AppData\\Local\\Temp\\ipykernel_21156\\1400600094.py:43: FutureWarning: The frame.append method is deprecated and will be removed from pandas in a future version. Use pandas.concat instead.\n",
      "  df_assets = df_assets.append({'ticker': ticker,\n"
     ]
    },
    {
     "name": "stdout",
     "output_type": "stream",
     "text": [
      "VIV\n"
     ]
    },
    {
     "name": "stderr",
     "output_type": "stream",
     "text": [
      "C:\\Users\\ruedi\\AppData\\Local\\Temp\\ipykernel_21156\\1400600094.py:43: FutureWarning: The frame.append method is deprecated and will be removed from pandas in a future version. Use pandas.concat instead.\n",
      "  df_assets = df_assets.append({'ticker': ticker,\n"
     ]
    },
    {
     "name": "stdout",
     "output_type": "stream",
     "text": [
      "VOD\n"
     ]
    },
    {
     "name": "stderr",
     "output_type": "stream",
     "text": [
      "C:\\Users\\ruedi\\AppData\\Local\\Temp\\ipykernel_21156\\1400600094.py:43: FutureWarning: The frame.append method is deprecated and will be removed from pandas in a future version. Use pandas.concat instead.\n",
      "  df_assets = df_assets.append({'ticker': ticker,\n"
     ]
    },
    {
     "name": "stdout",
     "output_type": "stream",
     "text": [
      "VOW\n",
      "- VOW: No summary info found, symbol may be delisted\n",
      "VONN\n",
      "- VONN: No summary info found, symbol may be delisted\n",
      "WMT\n"
     ]
    },
    {
     "name": "stderr",
     "output_type": "stream",
     "text": [
      "C:\\Users\\ruedi\\AppData\\Local\\Temp\\ipykernel_21156\\1400600094.py:43: FutureWarning: The frame.append method is deprecated and will be removed from pandas in a future version. Use pandas.concat instead.\n",
      "  df_assets = df_assets.append({'ticker': ticker,\n"
     ]
    },
    {
     "name": "stdout",
     "output_type": "stream",
     "text": [
      "DIS\n"
     ]
    },
    {
     "name": "stderr",
     "output_type": "stream",
     "text": [
      "C:\\Users\\ruedi\\AppData\\Local\\Temp\\ipykernel_21156\\1400600094.py:43: FutureWarning: The frame.append method is deprecated and will be removed from pandas in a future version. Use pandas.concat instead.\n",
      "  df_assets = df_assets.append({'ticker': ticker,\n"
     ]
    },
    {
     "name": "stdout",
     "output_type": "stream",
     "text": [
      "WBD\n"
     ]
    },
    {
     "name": "stderr",
     "output_type": "stream",
     "text": [
      "C:\\Users\\ruedi\\AppData\\Local\\Temp\\ipykernel_21156\\1400600094.py:43: FutureWarning: The frame.append method is deprecated and will be removed from pandas in a future version. Use pandas.concat instead.\n",
      "  df_assets = df_assets.append({'ticker': ticker,\n"
     ]
    },
    {
     "name": "stdout",
     "output_type": "stream",
     "text": [
      "WISE\n",
      "- WISE: No summary info found, symbol may be delisted\n",
      "WISH\n"
     ]
    },
    {
     "name": "stderr",
     "output_type": "stream",
     "text": [
      "C:\\Users\\ruedi\\AppData\\Local\\Temp\\ipykernel_21156\\1400600094.py:43: FutureWarning: The frame.append method is deprecated and will be removed from pandas in a future version. Use pandas.concat instead.\n",
      "  df_assets = df_assets.append({'ticker': ticker,\n"
     ]
    },
    {
     "name": "stdout",
     "output_type": "stream",
     "text": [
      "WWE\n"
     ]
    },
    {
     "name": "stderr",
     "output_type": "stream",
     "text": [
      "C:\\Users\\ruedi\\AppData\\Local\\Temp\\ipykernel_21156\\1400600094.py:43: FutureWarning: The frame.append method is deprecated and will be removed from pandas in a future version. Use pandas.concat instead.\n",
      "  df_assets = df_assets.append({'ticker': ticker,\n"
     ]
    },
    {
     "name": "stdout",
     "output_type": "stream",
     "text": [
      "WW\n"
     ]
    },
    {
     "name": "stderr",
     "output_type": "stream",
     "text": [
      "C:\\Users\\ruedi\\AppData\\Local\\Temp\\ipykernel_21156\\1400600094.py:43: FutureWarning: The frame.append method is deprecated and will be removed from pandas in a future version. Use pandas.concat instead.\n",
      "  df_assets = df_assets.append({'ticker': ticker,\n"
     ]
    },
    {
     "name": "stdout",
     "output_type": "stream",
     "text": [
      "YUM\n"
     ]
    },
    {
     "name": "stderr",
     "output_type": "stream",
     "text": [
      "C:\\Users\\ruedi\\AppData\\Local\\Temp\\ipykernel_21156\\1400600094.py:43: FutureWarning: The frame.append method is deprecated and will be removed from pandas in a future version. Use pandas.concat instead.\n",
      "  df_assets = df_assets.append({'ticker': ticker,\n"
     ]
    },
    {
     "name": "stdout",
     "output_type": "stream",
     "text": [
      "ZAL\n",
      "- ZAL: No summary info found, symbol may be delisted\n",
      "ITX\n"
     ]
    },
    {
     "name": "stderr",
     "output_type": "stream",
     "text": [
      "C:\\Users\\ruedi\\AppData\\Local\\Temp\\ipykernel_21156\\1400600094.py:43: FutureWarning: The frame.append method is deprecated and will be removed from pandas in a future version. Use pandas.concat instead.\n",
      "  df_assets = df_assets.append({'ticker': ticker,\n"
     ]
    },
    {
     "name": "stdout",
     "output_type": "stream",
     "text": [
      "ZM\n"
     ]
    },
    {
     "name": "stderr",
     "output_type": "stream",
     "text": [
      "C:\\Users\\ruedi\\AppData\\Local\\Temp\\ipykernel_21156\\1400600094.py:43: FutureWarning: The frame.append method is deprecated and will be removed from pandas in a future version. Use pandas.concat instead.\n",
      "  df_assets = df_assets.append({'ticker': ticker,\n"
     ]
    },
    {
     "name": "stdout",
     "output_type": "stream",
     "text": [
      "ROSE\n"
     ]
    },
    {
     "name": "stderr",
     "output_type": "stream",
     "text": [
      "C:\\Users\\ruedi\\AppData\\Local\\Temp\\ipykernel_21156\\1400600094.py:43: FutureWarning: The frame.append method is deprecated and will be removed from pandas in a future version. Use pandas.concat instead.\n",
      "  df_assets = df_assets.append({'ticker': ticker,\n"
     ]
    },
    {
     "name": "stdout",
     "output_type": "stream",
     "text": [
      "ZURN\n",
      "- ZURN: No summary info found, symbol may be delisted\n",
      "ZNGA\n",
      "- ZNGA: No summary info found, symbol may be delisted\n",
      "XMKA\n",
      "- XMKA: No summary info found, symbol may be delisted\n",
      "CSEMAS\n",
      "- CSEMAS: No summary info found, symbol may be delisted\n",
      "SAUS\n"
     ]
    },
    {
     "name": "stderr",
     "output_type": "stream",
     "text": [
      "C:\\Users\\ruedi\\AppData\\Local\\Temp\\ipykernel_21156\\1400600094.py:43: FutureWarning: The frame.append method is deprecated and will be removed from pandas in a future version. Use pandas.concat instead.\n",
      "  df_assets = df_assets.append({'ticker': ticker,\n"
     ]
    },
    {
     "name": "stdout",
     "output_type": "stream",
     "text": [
      "XMBR\n",
      "- XMBR: No summary info found, symbol may be delisted\n",
      "CANCDA\n",
      "- CANCDA: No summary info found, symbol may be delisted\n",
      "XCHA\n",
      "- XCHA: No summary info found, symbol may be delisted\n",
      "MSE\n",
      "- MSE: No summary info found, symbol may be delisted\n",
      "SPYW\n"
     ]
    },
    {
     "name": "stderr",
     "output_type": "stream",
     "text": [
      "C:\\Users\\ruedi\\AppData\\Local\\Temp\\ipykernel_21156\\1400600094.py:43: FutureWarning: The frame.append method is deprecated and will be removed from pandas in a future version. Use pandas.concat instead.\n",
      "  df_assets = df_assets.append({'ticker': ticker,\n"
     ]
    },
    {
     "name": "stdout",
     "output_type": "stream",
     "text": [
      "CAC\n"
     ]
    },
    {
     "name": "stderr",
     "output_type": "stream",
     "text": [
      "C:\\Users\\ruedi\\AppData\\Local\\Temp\\ipykernel_21156\\1400600094.py:43: FutureWarning: The frame.append method is deprecated and will be removed from pandas in a future version. Use pandas.concat instead.\n",
      "  df_assets = df_assets.append({'ticker': ticker,\n"
     ]
    },
    {
     "name": "stdout",
     "output_type": "stream",
     "text": [
      "XDAX\n",
      "- XDAX: No summary info found, symbol may be delisted\n",
      "IWDC\n",
      "- IWDC: No summary info found, symbol may be delisted\n",
      "VWRD\n"
     ]
    },
    {
     "name": "stderr",
     "output_type": "stream",
     "text": [
      "C:\\Users\\ruedi\\AppData\\Local\\Temp\\ipykernel_21156\\1400600094.py:43: FutureWarning: The frame.append method is deprecated and will be removed from pandas in a future version. Use pandas.concat instead.\n",
      "  df_assets = df_assets.append({'ticker': ticker,\n"
     ]
    },
    {
     "name": "stdout",
     "output_type": "stream",
     "text": [
      "VHYL\n"
     ]
    },
    {
     "name": "stderr",
     "output_type": "stream",
     "text": [
      "C:\\Users\\ruedi\\AppData\\Local\\Temp\\ipykernel_21156\\1400600094.py:43: FutureWarning: The frame.append method is deprecated and will be removed from pandas in a future version. Use pandas.concat instead.\n",
      "  df_assets = df_assets.append({'ticker': ticker,\n"
     ]
    },
    {
     "name": "stdout",
     "output_type": "stream",
     "text": [
      "INFR\n"
     ]
    },
    {
     "name": "stderr",
     "output_type": "stream",
     "text": [
      "C:\\Users\\ruedi\\AppData\\Local\\Temp\\ipykernel_21156\\1400600094.py:43: FutureWarning: The frame.append method is deprecated and will be removed from pandas in a future version. Use pandas.concat instead.\n",
      "  df_assets = df_assets.append({'ticker': ticker,\n"
     ]
    },
    {
     "name": "stdout",
     "output_type": "stream",
     "text": [
      "MVSH\n",
      "- MVSH: No summary info found, symbol may be delisted\n",
      "IWMO\n",
      "- IWMO: No summary info found, symbol may be delisted\n",
      "ZGLD\n",
      "- ZGLD: No summary info found, symbol may be delisted\n",
      "CSMIB\n",
      "- CSMIB: No summary info found, symbol may be delisted\n",
      "XNJP\n",
      "- XNJP: No summary info found, symbol may be delisted\n",
      "AMEL\n"
     ]
    },
    {
     "name": "stderr",
     "output_type": "stream",
     "text": [
      "C:\\Users\\ruedi\\AppData\\Local\\Temp\\ipykernel_21156\\1400600094.py:43: FutureWarning: The frame.append method is deprecated and will be removed from pandas in a future version. Use pandas.concat instead.\n",
      "  df_assets = df_assets.append({'ticker': ticker,\n"
     ]
    },
    {
     "name": "stdout",
     "output_type": "stream",
     "text": [
      "EQQQ\n",
      "- EQQQ: No summary info found, symbol may be delisted\n",
      "XDNO\n",
      "- XDNO: No summary info found, symbol may be delisted\n",
      "CSPXJ\n",
      "- CSPXJ: No summary info found, symbol may be delisted\n",
      "ZSIL\n",
      "- ZSIL: No summary info found, symbol may be delisted\n",
      "XESP\n"
     ]
    },
    {
     "name": "stderr",
     "output_type": "stream",
     "text": [
      "C:\\Users\\ruedi\\AppData\\Local\\Temp\\ipykernel_21156\\1400600094.py:43: FutureWarning: The frame.append method is deprecated and will be removed from pandas in a future version. Use pandas.concat instead.\n",
      "  df_assets = df_assets.append({'ticker': ticker,\n"
     ]
    },
    {
     "name": "stdout",
     "output_type": "stream",
     "text": [
      "CSSMI\n",
      "- CSSMI: No summary info found, symbol may be delisted\n",
      "CHDVD\n",
      "- CHDVD: No summary info found, symbol may be delisted\n",
      "CHSPI\n",
      "- CHSPI: No summary info found, symbol may be delisted\n",
      "SRECHA\n",
      "- SRECHA: No summary info found, symbol may be delisted\n",
      "VUSD\n"
     ]
    },
    {
     "name": "stderr",
     "output_type": "stream",
     "text": [
      "C:\\Users\\ruedi\\AppData\\Local\\Temp\\ipykernel_21156\\1400600094.py:43: FutureWarning: The frame.append method is deprecated and will be removed from pandas in a future version. Use pandas.concat instead.\n",
      "  df_assets = df_assets.append({'ticker': ticker,\n"
     ]
    },
    {
     "name": "stdout",
     "output_type": "stream",
     "text": [
      "XDGU\n",
      "- XDGU: No summary info found, symbol may be delisted\n",
      "XLFS\n"
     ]
    },
    {
     "name": "stderr",
     "output_type": "stream",
     "text": [
      "C:\\Users\\ruedi\\AppData\\Local\\Temp\\ipykernel_21156\\1400600094.py:43: FutureWarning: The frame.append method is deprecated and will be removed from pandas in a future version. Use pandas.concat instead.\n",
      "  df_assets = df_assets.append({'ticker': ticker,\n"
     ]
    },
    {
     "name": "stdout",
     "output_type": "stream",
     "text": [
      "SXLV\n"
     ]
    },
    {
     "name": "stderr",
     "output_type": "stream",
     "text": [
      "C:\\Users\\ruedi\\AppData\\Local\\Temp\\ipykernel_21156\\1400600094.py:43: FutureWarning: The frame.append method is deprecated and will be removed from pandas in a future version. Use pandas.concat instead.\n",
      "  df_assets = df_assets.append({'ticker': ticker,\n"
     ]
    },
    {
     "name": "stdout",
     "output_type": "stream",
     "text": [
      "UDVD\n",
      "- UDVD: No summary info found, symbol may be delisted\n",
      "XLBS\n"
     ]
    },
    {
     "name": "stderr",
     "output_type": "stream",
     "text": [
      "C:\\Users\\ruedi\\AppData\\Local\\Temp\\ipykernel_21156\\1400600094.py:43: FutureWarning: The frame.append method is deprecated and will be removed from pandas in a future version. Use pandas.concat instead.\n",
      "  df_assets = df_assets.append({'ticker': ticker,\n"
     ]
    },
    {
     "name": "stdout",
     "output_type": "stream",
     "text": [
      "SXLK\n"
     ]
    },
    {
     "name": "stderr",
     "output_type": "stream",
     "text": [
      "C:\\Users\\ruedi\\AppData\\Local\\Temp\\ipykernel_21156\\1400600094.py:43: FutureWarning: The frame.append method is deprecated and will be removed from pandas in a future version. Use pandas.concat instead.\n",
      "  df_assets = df_assets.append({'ticker': ticker,\n"
     ]
    },
    {
     "name": "stdout",
     "output_type": "stream",
     "text": [
      "VUKE\n"
     ]
    },
    {
     "name": "stderr",
     "output_type": "stream",
     "text": [
      "C:\\Users\\ruedi\\AppData\\Local\\Temp\\ipykernel_21156\\1400600094.py:43: FutureWarning: The frame.append method is deprecated and will be removed from pandas in a future version. Use pandas.concat instead.\n",
      "  df_assets = df_assets.append({'ticker': ticker,\n"
     ]
    }
   ],
   "source": [
    "\n",
    "## Create Tables\n",
    "table_name = 'daily_prices'\n",
    "c.execute(f\"\"\"\n",
    "        CREATE TABLE IF NOT EXISTS {table_name}\n",
    "        ([asset_ticker] TEXT,\n",
    "         [date] TEXT\n",
    "         [price] REAL)\n",
    "          \"\"\")\n",
    "conn.commit()\n",
    "\n",
    "## Create table with all assets\n",
    "table_name = 'assets'\n",
    "c.execute(f\"\"\"\n",
    "        CREATE TABLE IF NOT EXISTS {table_name}\n",
    "        ([ticker] TEXT,\n",
    "         [name] TEXT\n",
    "         [sector] REAL\n",
    "         [employees] INTEGER\n",
    "         [country] TEXT\n",
    "         [industry] TEXT,\n",
    "         [asset_type] TEXT)\n",
    "          \"\"\")\n",
    "conn.commit()\n",
    "\n",
    "## load all tickers in list\n",
    "ticker_list = []\n",
    "with open('asset_list.txt', 'r', encoding='utf-8') as f:\n",
    "    Lines = f.readlines()\n",
    "    for lines in Lines:\n",
    "        ticker = lines.split(\" \")[0]\n",
    "        ticker_list.append(ticker)\n",
    "\n",
    "## create dataframe\n",
    "df_assets = pd.DataFrame(columns=['ticker', 'name', 'sector', 'employees', 'country', 'asset_type'])\n",
    "\n",
    "def ticker_check(ticker):\n",
    "    \"\"\"\"\n",
    "    Function: Ticker Checker\n",
    "    Überprüft ob der Ticker existiert. Wenn nicht wird mit den gängigsten Anhängen versucht den gültigen Ticker zu identifizieren    \n",
    "    \"\"\"\n",
    "    ticker = re.sub('[^A-Za-z0-9]+', '', ticker)\n",
    "    for i in [\"\",\".SW\", \".L\", \".MI\", \".DE\", \".F\", \".VI\"]:\n",
    "        asset = yf.Ticker(ticker + i)\n",
    "        if asset.info:\n",
    "            return ticker + i, True\n",
    "        else:\n",
    "            return ticker, False\n",
    "\n",
    "## Loop über alle Ticker in der Ticker Liste. Von yf werden die benötigten Informationen bezogen\n",
    "not_found = []\n",
    "for ticker in ticker_list:\n",
    "    print(ticker)\n",
    "    ticker, condition = ticker_check(ticker)\n",
    "    if not condition:\n",
    "        not_found.append(ticker)\n",
    "        continue\n",
    "    \n",
    "    asset = yf.Ticker(ticker)\n",
    "    info = asset.info\n",
    "    d = {}\n",
    "    for element in ['longName', 'industry', 'sector', 'fullTimeEmployees', 'country', 'quoteType']:\n",
    "        try:\n",
    "            d[element] = info[element]\n",
    "        except:\n",
    "            d[element] = None\n",
    " \n",
    "    df_assets = df_assets.append({'ticker': ticker,\n",
    "                                  'name': d['longName'],\n",
    "                                  'industry': d['industry'],\n",
    "                                  'sector': d['sector'],\n",
    "                                  'employees': d['fullTimeEmployees'],\n",
    "                                  'country': d['country'],\n",
    "                                  'asset_type': d['quoteType']}, ignore_index=True)\n",
    "\n",
    "table_name = 'assets'\n",
    "r_df = pd.read_sql(f\"select * from {table_name}\",conn)\n",
    "table_name = 'daily_prices'\n",
    "for ticker in r_df['ticker']:\n",
    "    asset = yf.Ticker(ticker)\n",
    "    prices = asset.history(period=\"max\")[['Close']]\n",
    "    prices['ticker'] = ticker\n",
    "    prices = prices.reset_index()[['ticker', 'Date', 'Close']]\n",
    "    prices.columns = ['asset_ticker', 'date', 'price']\n",
    "    prices.to_sql(table_name, conn, if_exists='append')"
   ]
  },
  {
   "cell_type": "code",
   "execution_count": 34,
   "metadata": {},
   "outputs": [
    {
     "name": "stdout",
     "output_type": "stream",
     "text": [
      "ADEN: No data found for this date range, symbol may be delisted\n",
      "AML: No data found for this date range, symbol may be delisted\n",
      "BKW: 1d data not available for startTime=-2208994789 and endTime=1673012204. Only 100 years worth of day granularity data are allowed to be fetched per request.\n",
      "BNP: No data found for this date range, symbol may be delisted\n",
      "BVB: No data found for this date range, symbol may be delisted\n",
      "BATS: 1d data not available for startTime=-2208994789 and endTime=1673012213. Only 100 years worth of day granularity data are allowed to be fetched per request.\n",
      "CALN: No data found for this date range, symbol may be delisted\n",
      "CDI: 1d data not available for startTime=-2208994789 and endTime=1673012252. Only 100 years worth of day granularity data are allowed to be fetched per request.\n",
      "CLN: No data found for this date range, symbol may be delisted\n",
      "CSGN: No data found for this date range, symbol may be delisted\n",
      "DAI: No data found for this date range, symbol may be delisted\n",
      "ENI: 1d data not available for startTime=-2208994789 and endTime=1673012308. Only 100 years worth of day granularity data are allowed to be fetched per request.\n",
      "FIN: No data found for this date range, symbol may be delisted\n",
      "GIVN: 1d data not available for startTime=-2208994789 and endTime=1673012368. Only 100 years worth of day granularity data are allowed to be fetched per request.\n",
      "RMS: No data found for this date range, symbol may be delisted\n",
      "INGA: No data found for this date range, symbol may be delisted\n",
      "Got error from yahoo api for ticker FB, Error: {'code': 'Not Found', 'description': 'No data found, symbol may be delisted'}\n",
      "- FB: No timezone found, symbol may be delisted\n",
      "RNO: 1d data not available for startTime=-2208994789 and endTime=1673012574. Only 100 years worth of day granularity data are allowed to be fetched per request.\n",
      "SMSN: No data found for this date range, symbol may be delisted\n",
      "SIE: No data found for this date range, symbol may be delisted\n",
      "GLE: No data found for this date range, symbol may be delisted\n",
      "SOON: No data found for this date range, symbol may be delisted\n",
      "SLHN: No data found for this date range, symbol may be delisted\n",
      "SREN: No data found for this date range, symbol may be delisted\n",
      "TEMN: 1d data not available for startTime=-2208994789 and endTime=1673012635. Only 100 years worth of day granularity data are allowed to be fetched per request.\n",
      "TKA: No data found for this date range, symbol may be delisted\n",
      "UBI: No data found for this date range, symbol may be delisted\n",
      "Got error from yahoo api for ticker SAUS, Error: {'code': 'Not Found', 'description': 'No data found, symbol may be delisted'}\n",
      "- SAUS: No timezone found, symbol may be delisted\n",
      "SPYW: 1d data not available for startTime=-2208994789 and endTime=1673012692. Only 100 years worth of day granularity data are allowed to be fetched per request.\n",
      "VWRD: 1d data not available for startTime=-2208994789 and endTime=1673012694. Only 100 years worth of day granularity data are allowed to be fetched per request.\n",
      "Got error from yahoo api for ticker VHYL, Error: {'code': 'Not Found', 'description': 'No data found, symbol may be delisted'}\n",
      "- VHYL: No timezone found, symbol may be delisted\n",
      "AMEL: 1d data not available for startTime=-2208994789 and endTime=1673012694. Only 100 years worth of day granularity data are allowed to be fetched per request.\n",
      "VUSD: 1d data not available for startTime=-2208994789 and endTime=1673012695. Only 100 years worth of day granularity data are allowed to be fetched per request.\n",
      "SXLV: 1d data not available for startTime=-2208994789 and endTime=1673012695. Only 100 years worth of day granularity data are allowed to be fetched per request.\n",
      "XLBS: 1d data not available for startTime=-2208994789 and endTime=1673012696. Only 100 years worth of day granularity data are allowed to be fetched per request.\n",
      "SXLK: 1d data not available for startTime=-2208994789 and endTime=1673012696. Only 100 years worth of day granularity data are allowed to be fetched per request.\n",
      "VUKE: 1d data not available for startTime=-2208994789 and endTime=1673012696. Only 100 years worth of day granularity data are allowed to be fetched per request.\n"
     ]
    }
   ],
   "source": []
  },
  {
   "cell_type": "code",
   "execution_count": 112,
   "metadata": {},
   "outputs": [],
   "source": [
    "table_name = 'daily_prices'\n",
    "assets = (\"AAPL\", \"MSFT\", \"ABNB\", \"UBER\", \"KO\")\n",
    "conn = sqlite3.connect(\"Asset_Database\")\n",
    "c = conn.cursor()\n",
    "r_df = pd.read_sql(f\"select * from {table_name} where asset_ticker IN {assets}\",conn)\n"
   ]
  },
  {
   "cell_type": "code",
   "execution_count": 93,
   "metadata": {},
   "outputs": [
    {
     "data": {
      "text/plain": [
       "[('INFR', 1),\n",
       " ('MKS', 1),\n",
       " ('XLFS', 75),\n",
       " ('ROSE', 273),\n",
       " ('RIVN', 290),\n",
       " ('VALN', 422),\n",
       " ('COIN', 437),\n",
       " ('RBLX', 461),\n",
       " ('BMBL', 479),\n",
       " ('XESP', 502),\n",
       " ('WISH', 517),\n",
       " ('ABNB', 521),\n",
       " ('PLTR', 571),\n",
       " ('LCID', 579),\n",
       " ('SNOW', 581),\n",
       " ('MSGE', 691),\n",
       " ('BNTX', 816),\n",
       " ('UBER', 922),\n",
       " ('BYND', 928),\n",
       " ('PINS', 937),\n",
       " ('ZM', 937),\n",
       " ('ALC', 944),\n",
       " ('MRNA', 1027),\n",
       " ('ACA', 1049),\n",
       " ('NKLA', 1152),\n",
       " ('SPCE', 1326),\n",
       " ('ROKU', 1327),\n",
       " ('SNAP', 1473),\n",
       " ('BOSS', 1480),\n",
       " ('NOVN', 1584),\n",
       " ('DELL', 1608),\n",
       " ('OR', 1638),\n",
       " ('SQ', 1794),\n",
       " ('AC', 1801),\n",
       " ('RACE', 1815),\n",
       " ('KHC', 1891),\n",
       " ('SHOP', 1922),\n",
       " ('ETSY', 1946),\n",
       " ('GPRO', 2148),\n",
       " ('MC', 2197),\n",
       " ('ITX', 2240),\n",
       " ('SANT', 2499),\n",
       " ('NCLH', 2509),\n",
       " ('SUN', 2590),\n",
       " ('MANU', 2618),\n",
       " ('Al', 2949),\n",
       " ('EDF', 3028),\n",
       " ('GM', 3053),\n",
       " ('TSLA', 3153),\n",
       " ('STLA', 3167),\n",
       " ('BUD', 3403),\n",
       " ('EZJ', 3421),\n",
       " ('TMV', 3456),\n",
       " ('PM', 3729),\n",
       " ('LULU', 3889),\n",
       " ('DAL', 3948),\n",
       " ('MA', 4183),\n",
       " ('UAA', 4311),\n",
       " ('AAL', 4349),\n",
       " ('EXPE', 4396),\n",
       " ('WBD', 4405),\n",
       " ('ORA', 4569),\n",
       " ('TTM', 4602),\n",
       " ('GOOG', 4628),\n",
       " ('CRM', 4668),\n",
       " ('NFLX', 5192),\n",
       " ('VALE', 5236),\n",
       " ('WW', 5321),\n",
       " ('ACN', 5401),\n",
       " ('MDLZ', 5426),\n",
       " ('UPS', 5826),\n",
       " ('PLUG', 5834),\n",
       " ('WWE', 5842),\n",
       " ('BLK', 5854),\n",
       " ('GS', 5959),\n",
       " ('BKNG', 5982),\n",
       " ('NVDA', 6029),\n",
       " ('VIV', 6074),\n",
       " ('EBAY', 6111),\n",
       " ('MAR', 6240),\n",
       " ('CAC', 6353),\n",
       " ('YUM', 6368),\n",
       " ('AMZN', 6454),\n",
       " ('ALV', 6467),\n",
       " ('TTWO', 6476),\n",
       " ('NVAX', 6819),\n",
       " ('EL', 6830),\n",
       " ('SAP', 6874),\n",
       " ('LOGN', 6940),\n",
       " ('CS', 6960),\n",
       " ('ASML', 7003),\n",
       " ('TSCO', 7272),\n",
       " ('SCHN', 7337),\n",
       " ('ATVI', 7353),\n",
       " ('AZN', 7468),\n",
       " ('INTU', 7510),\n",
       " ('MS', 7523),\n",
       " ('MTCH', 7547),\n",
       " ('SBUX', 7689),\n",
       " ('LIN', 7696),\n",
       " ('QCOM', 7824),\n",
       " ('TTE', 7858),\n",
       " ('RIO', 8194),\n",
       " ('CSCO', 8285),\n",
       " ('EA', 8389),\n",
       " ('VOD', 8611),\n",
       " ('CCL', 8935),\n",
       " ('ADBE', 9174),\n",
       " ('COST', 9199),\n",
       " ('HOG', 9200),\n",
       " ('MSFT', 9280),\n",
       " ('ORCL', 9281),\n",
       " ('AMS', 9707),\n",
       " ('MU', 9729),\n",
       " ('BN', 9835),\n",
       " ('T', 9862),\n",
       " ('VZ', 9862),\n",
       " ('AMGN', 9971),\n",
       " ('HD', 10411),\n",
       " ('AAPL', 10606),\n",
       " ('NKE', 10614),\n",
       " ('GSK', 10785),\n",
       " ('AIR', 10794),\n",
       " ('AMAT', 10794),\n",
       " ('AMD', 10794),\n",
       " ('BHP', 10794),\n",
       " ('CFR', 10794),\n",
       " ('CMCSA', 10794),\n",
       " ('GIS', 10794),\n",
       " ('GPS', 10794),\n",
       " ('HAS', 10794),\n",
       " ('HMC', 10794),\n",
       " ('INTC', 10794),\n",
       " ('JPM', 10794),\n",
       " ('KMB', 10794),\n",
       " ('ROG', 10794),\n",
       " ('TM', 10794),\n",
       " ('FDX', 11282),\n",
       " ('C', 11603),\n",
       " ('LMT', 11603),\n",
       " ('BAC', 12580),\n",
       " ('K', 12580),\n",
       " ('TGT', 12580),\n",
       " ('WMT', 12700),\n",
       " ('AXP', 12760),\n",
       " ('DE', 12760),\n",
       " ('F', 12760),\n",
       " ('LLY', 12760),\n",
       " ('PEP', 12760),\n",
       " ('PFE', 12760),\n",
       " ('MCD', 14224),\n",
       " ('BA', 15359),\n",
       " ('BP', 15359),\n",
       " ('CAT', 15359),\n",
       " ('CVX', 15359),\n",
       " ('DIS', 15359),\n",
       " ('DTE', 15359),\n",
       " ('FL', 15359),\n",
       " ('GE', 15359),\n",
       " ('GT', 15359),\n",
       " ('HON', 15359),\n",
       " ('IBM', 15359),\n",
       " ('JNJ', 15359),\n",
       " ('KO', 15359),\n",
       " ('MMM', 15359),\n",
       " ('MRK', 15359),\n",
       " ('PG', 15359),\n",
       " ('XOM', 15359)]"
      ]
     },
     "execution_count": 93,
     "metadata": {},
     "output_type": "execute_result"
    }
   ],
   "source": [
    "c.execute(f\"\"\"SELECT asset_ticker ,COUNT(price) AS count \n",
    "            FROM {table_name} \n",
    "            GROUP BY asset_ticker ORDER BY count;\"\"\")\n",
    "\n",
    "c.fetchall()"
   ]
  },
  {
   "cell_type": "code",
   "execution_count": 94,
   "metadata": {},
   "outputs": [],
   "source": [
    "r_df['date'] = pd.to_datetime(r_df.date)"
   ]
  },
  {
   "cell_type": "code",
   "execution_count": 113,
   "metadata": {},
   "outputs": [],
   "source": [
    "r_df = r_df.pivot(columns='asset_ticker', index=\"date\", values='price')"
   ]
  },
  {
   "cell_type": "code",
   "execution_count": 96,
   "metadata": {},
   "outputs": [
    {
     "data": {
      "text/html": [
       "<div>\n",
       "<style scoped>\n",
       "    .dataframe tbody tr th:only-of-type {\n",
       "        vertical-align: middle;\n",
       "    }\n",
       "\n",
       "    .dataframe tbody tr th {\n",
       "        vertical-align: top;\n",
       "    }\n",
       "\n",
       "    .dataframe thead th {\n",
       "        text-align: right;\n",
       "    }\n",
       "</style>\n",
       "<table border=\"1\" class=\"dataframe\">\n",
       "  <thead>\n",
       "    <tr style=\"text-align: right;\">\n",
       "      <th>asset_ticker</th>\n",
       "      <th>AAPL</th>\n",
       "      <th>ABNB</th>\n",
       "      <th>KO</th>\n",
       "      <th>MSFT</th>\n",
       "      <th>UBER</th>\n",
       "    </tr>\n",
       "    <tr>\n",
       "      <th>asset_ticker</th>\n",
       "      <th></th>\n",
       "      <th></th>\n",
       "      <th></th>\n",
       "      <th></th>\n",
       "      <th></th>\n",
       "    </tr>\n",
       "  </thead>\n",
       "  <tbody>\n",
       "    <tr>\n",
       "      <th>AAPL</th>\n",
       "      <td>1230.299004</td>\n",
       "      <td>2.972609</td>\n",
       "      <td>489.774757</td>\n",
       "      <td>2467.586800</td>\n",
       "      <td>40.285827</td>\n",
       "    </tr>\n",
       "    <tr>\n",
       "      <th>ABNB</th>\n",
       "      <td>2.972609</td>\n",
       "      <td>1012.043645</td>\n",
       "      <td>-100.106153</td>\n",
       "      <td>362.491374</td>\n",
       "      <td>282.785146</td>\n",
       "    </tr>\n",
       "    <tr>\n",
       "      <th>KO</th>\n",
       "      <td>489.774757</td>\n",
       "      <td>-100.106153</td>\n",
       "      <td>244.657683</td>\n",
       "      <td>956.407035</td>\n",
       "      <td>-14.586691</td>\n",
       "    </tr>\n",
       "    <tr>\n",
       "      <th>MSFT</th>\n",
       "      <td>2467.586800</td>\n",
       "      <td>362.491374</td>\n",
       "      <td>956.407035</td>\n",
       "      <td>4595.772569</td>\n",
       "      <td>101.361712</td>\n",
       "    </tr>\n",
       "    <tr>\n",
       "      <th>UBER</th>\n",
       "      <td>40.285827</td>\n",
       "      <td>282.785146</td>\n",
       "      <td>-14.586691</td>\n",
       "      <td>101.361712</td>\n",
       "      <td>96.123364</td>\n",
       "    </tr>\n",
       "  </tbody>\n",
       "</table>\n",
       "</div>"
      ],
      "text/plain": [
       "asset_ticker         AAPL         ABNB          KO         MSFT        UBER\n",
       "asset_ticker                                                               \n",
       "AAPL          1230.299004     2.972609  489.774757  2467.586800   40.285827\n",
       "ABNB             2.972609  1012.043645 -100.106153   362.491374  282.785146\n",
       "KO             489.774757  -100.106153  244.657683   956.407035  -14.586691\n",
       "MSFT          2467.586800   362.491374  956.407035  4595.772569  101.361712\n",
       "UBER            40.285827   282.785146  -14.586691   101.361712   96.123364"
      ]
     },
     "execution_count": 96,
     "metadata": {},
     "output_type": "execute_result"
    }
   ],
   "source": [
    "r_df.cov()"
   ]
  },
  {
   "cell_type": "code",
   "execution_count": 115,
   "metadata": {},
   "outputs": [],
   "source": [
    "returns = r_df.pct_change()"
   ]
  },
  {
   "cell_type": "code",
   "execution_count": 98,
   "metadata": {},
   "outputs": [
    {
     "data": {
      "text/plain": [
       "<AxesSubplot: xlabel='date'>"
      ]
     },
     "execution_count": 98,
     "metadata": {},
     "output_type": "execute_result"
    },
    {
     "data": {
      "image/png": "[encoded data removed]",
      "text/plain": [
       "<Figure size 640x480 with 1 Axes>"
      ]
     },
     "metadata": {},
     "output_type": "display_data"
    }
   ],
   "source": [
    "r_df.plot()"
   ]
  },
  {
   "cell_type": "code",
   "execution_count": 116,
   "metadata": {},
   "outputs": [],
   "source": [
    "import pandas as pd\n",
    "import numpy as np\n",
    "\n",
    "def get_optimal_weights(returns):\n",
    "  # calculate the covariance matrix\n",
    "  cov_matrix = returns.cov()\n",
    "  \n",
    "  # calculate the portfolio variance\n",
    "  portfolio_variance = np.dot(weights.T, np.dot(cov_matrix, weights))\n",
    "  \n",
    "  # define a function to minimize\n",
    "  def portfolio_volatility(weights):\n",
    "    return np.sqrt(np.dot(weights.T, np.dot(cov_matrix, weights)))\n",
    "  \n",
    "  # constraints \n",
    "  constraints = ({'type': 'eq', 'fun': lambda x: np.sum(x) - 1})\n",
    "  \n",
    "  # bounds\n",
    "  bounds = tuple((0,1) for x in range(n_assets))\n",
    "  \n",
    "  # initial guess\n",
    "  initial_guess = [1/n_assets]*n_assets\n",
    "  \n",
    "  # minimize the function\n",
    "  result = minimize(fun=portfolio_volatility, x0=initial_guess, \n",
    "                    method='SLSQP', bounds=bounds, \n",
    "                    constraints=constraints)\n",
    "  \n",
    "  # get the optimal weights\n",
    "  weights = result['x']\n",
    "  \n",
    "  return weights\n"
   ]
  },
  {
   "cell_type": "code",
   "execution_count": 117,
   "metadata": {},
   "outputs": [
    {
     "ename": "UnboundLocalError",
     "evalue": "cannot access local variable 'weights' where it is not associated with a value",
     "output_type": "error",
     "traceback": [
      "\u001b[1;31m---------------------------------------------------------------------------\u001b[0m",
      "\u001b[1;31mUnboundLocalError\u001b[0m                         Traceback (most recent call last)",
      "Cell \u001b[1;32mIn[117], line 1\u001b[0m\n\u001b[1;32m----> 1\u001b[0m get_optimal_weights(returns)\n",
      "Cell \u001b[1;32mIn[116], line 9\u001b[0m, in \u001b[0;36mget_optimal_weights\u001b[1;34m(returns)\u001b[0m\n\u001b[0;32m      6\u001b[0m cov_matrix \u001b[39m=\u001b[39m returns\u001b[39m.\u001b[39mcov()\n\u001b[0;32m      8\u001b[0m \u001b[39m# calculate the portfolio variance\u001b[39;00m\n\u001b[1;32m----> 9\u001b[0m portfolio_variance \u001b[39m=\u001b[39m np\u001b[39m.\u001b[39mdot(weights\u001b[39m.\u001b[39mT, np\u001b[39m.\u001b[39mdot(cov_matrix, weights))\n\u001b[0;32m     11\u001b[0m \u001b[39m# define a function to minimize\u001b[39;00m\n\u001b[0;32m     12\u001b[0m \u001b[39mdef\u001b[39;00m \u001b[39mportfolio_volatility\u001b[39m(weights):\n",
      "\u001b[1;31mUnboundLocalError\u001b[0m: cannot access local variable 'weights' where it is not associated with a value"
     ]
    }
   ],
   "source": [
    "get_optimal_weights(returns)"
   ]
  },
  {
   "cell_type": "code",
   "execution_count": null,
   "metadata": {},
   "outputs": [],
   "source": []
  }
 ],
 "metadata": {
  "kernelspec": {
   "display_name": "venv_portfolio",
   "language": "python",
   "name": "python3"
  },
  "language_info": {
   "codemirror_mode": {
    "name": "ipython",
    "version": 3
   },
   "file_extension": ".py",
   "mimetype": "text/x-python",
   "name": "python",
   "nbconvert_exporter": "python",
   "pygments_lexer": "ipython3",
   "version": "3.11.1"
  },
  "orig_nbformat": 4,
  "vscode": {
   "interpreter": {
    "hash": "2716844557d315a5f9c1a2fc02590298ae7d0bb6a63a0af852833d8f6803451d"
   }
  }
 },
 "nbformat": 4,
 "nbformat_minor": 2
}
